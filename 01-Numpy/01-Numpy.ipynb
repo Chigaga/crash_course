{
 "cells": [
  {
   "cell_type": "markdown",
   "metadata": {},
   "source": [
    "# Python and Numpy"
   ]
  },
  {
   "cell_type": "markdown",
   "metadata": {},
   "source": [
    "## Useful Links\n",
    "\n",
    "1. [NumPy Quickstart Guide](https://docs.scipy.org/doc/numpy-dev/user/quickstart.html)\n",
    "1. [NumPy Documentation](http://docs.scipy.org/doc/numpy/)\n",
    "1. [Astropy Units Documentation](http://docs.astropy.org/en/stable/units/index.html)\n",
    "1. [Introduction to Units in SunPy](http://docs.sunpy.org/en/stable/guide/tour.html#quantities-and-units)\n",
    "1. [Scipy Lecture Notes](http://www.scipy-lectures.org/)"
   ]
  },
  {
   "cell_type": "markdown",
   "metadata": {},
   "source": [
    "## Libraries and namespaces"
   ]
  },
  {
   "cell_type": "markdown",
   "metadata": {},
   "source": [
    "Core Python can do relatively little. Fortunately though, there are many Python libraries that can add to its functionality. For now the one we'll be focusing on is __NumPy__, which contains definitions for a lot of commonly used mathematical functions and constants. NumPy can be imported like this:"
   ]
  },
  {
   "cell_type": "code",
   "execution_count": null,
   "metadata": {},
   "outputs": [],
   "source": []
  },
  {
   "cell_type": "markdown",
   "metadata": {},
   "source": [
    "and the variables it contains can be referenced like this:"
   ]
  },
  {
   "cell_type": "code",
   "execution_count": null,
   "metadata": {},
   "outputs": [],
   "source": []
  },
  {
   "cell_type": "markdown",
   "metadata": {},
   "source": [
    "Notice the __numpy.__ in the above example. Without this, NumPy's variables are not accessible:"
   ]
  },
  {
   "cell_type": "code",
   "execution_count": null,
   "metadata": {},
   "outputs": [],
   "source": []
  },
  {
   "cell_type": "markdown",
   "metadata": {},
   "source": [
    "This is because Python groups variables into _namespaces_. The NumPy library has its own namespace which contains all the variables it defines. This namespace is separate from the namespace you're currently working in, which contains a single user-defined variable, `numpy` (and also some built-in variables)."
   ]
  },
  {
   "cell_type": "markdown",
   "metadata": {},
   "source": [
    "As well as importing an entire library, you can import individual variables into the current namespace. Then you can reference these variables without going through `numpy`."
   ]
  },
  {
   "cell_type": "code",
   "execution_count": null,
   "metadata": {},
   "outputs": [],
   "source": []
  },
  {
   "cell_type": "markdown",
   "metadata": {},
   "source": [
    "The `import` statement also lets you rename a library when you import it. You'll usually see numpy imported and used like this, and this is how we'll be using it throughout this course:"
   ]
  },
  {
   "cell_type": "code",
   "execution_count": null,
   "metadata": {},
   "outputs": [],
   "source": []
  },
  {
   "cell_type": "markdown",
   "metadata": {},
   "source": [
    "## Arrays"
   ]
  },
  {
   "cell_type": "markdown",
   "metadata": {},
   "source": [
    "Core Python has no concept of arrays as such, but NumPy does. First though, it's useful to look at _lists_ , which are the closest basic Python equivalent to an array. Lists are defined like this:"
   ]
  },
  {
   "cell_type": "code",
   "execution_count": null,
   "metadata": {},
   "outputs": [],
   "source": []
  },
  {
   "cell_type": "markdown",
   "metadata": {},
   "source": [
    "Lists (and arrays, and all other types of sequence) are indexed using square brackets, and indices start at 0."
   ]
  },
  {
   "cell_type": "code",
   "execution_count": null,
   "metadata": {},
   "outputs": [],
   "source": []
  },
  {
   "cell_type": "markdown",
   "metadata": {},
   "source": [
    "You can convert a list into a NumPy array using the `array()` function in NumPy:"
   ]
  },
  {
   "cell_type": "code",
   "execution_count": null,
   "metadata": {},
   "outputs": [],
   "source": []
  },
  {
   "cell_type": "markdown",
   "metadata": {},
   "source": [
    "There are also NumPy functions for quickly generating larger arrays. The `arange()` function makes an array containing a sequence of numbers and can be used in several ways:\n",
    "- if given a single value, the sequence starts at 0, stops at the given value and goes in steps of 1\n",
    "- if given two values, the sequence goes from the first to the second in steps of 1\n",
    "- if given three values, the sequence goes from the first to the second in steps of the third"
   ]
  },
  {
   "cell_type": "code",
   "execution_count": null,
   "metadata": {},
   "outputs": [],
   "source": []
  },
  {
   "cell_type": "markdown",
   "metadata": {},
   "source": [
    "Notice that the values in the sequence are not inclusive of the given end value.\n",
    "\n",
    "Alternatively, you can make an empty array using the `zeros()` function, which takes a single argument corresponding to the shape of the array."
   ]
  },
  {
   "cell_type": "code",
   "execution_count": null,
   "metadata": {},
   "outputs": [],
   "source": []
  },
  {
   "cell_type": "code",
   "execution_count": null,
   "metadata": {},
   "outputs": [],
   "source": []
  },
  {
   "cell_type": "markdown",
   "metadata": {},
   "source": [
    "Notice the extra brackets in the second command, since we are grouping together the values as a single argument to the function."
   ]
  },
  {
   "cell_type": "markdown",
   "metadata": {},
   "source": [
    "### Functions on arrays"
   ]
  },
  {
   "cell_type": "markdown",
   "metadata": {},
   "source": [
    "Many functions can be performed on every element in an array at once. These functions take the array as input and return an array of the same size. The `sin()` and `cos()` functions are good examples of this.\n",
    "\n",
    "Note: `sin()` and `cos()` take their input in radians."
   ]
  },
  {
   "cell_type": "code",
   "execution_count": null,
   "metadata": {},
   "outputs": [],
   "source": []
  },
  {
   "cell_type": "markdown",
   "metadata": {},
   "source": [
    "There are also plenty of functions that calculate and return single values from an array input. For instance, the `np.min()`, `np.mean()` and `np.max()` functions do pretty much what you would expect:"
   ]
  },
  {
   "cell_type": "code",
   "execution_count": null,
   "metadata": {},
   "outputs": [],
   "source": []
  },
  {
   "cell_type": "markdown",
   "metadata": {},
   "source": [
    "## Methods and attributes"
   ]
  },
  {
   "cell_type": "markdown",
   "metadata": {},
   "source": [
    "Some Python variables, including NumPy arrays, have their own namespaces which contain functions and variables that relate to that variable. In this context these are called _methods_ and attributes, respectively. These are accessed in the same way as variables in libraries, with the syntax `variable.method()` or `variable.attribute`.\n",
    "\n",
    "Many of the methods associated with NumPy arrays reproduce the functionality of external functions, such as the `array.min()`, `array.mean()` and `array.max()` methods, which are equivalent to the functions used above:"
   ]
  },
  {
   "cell_type": "code",
   "execution_count": null,
   "metadata": {},
   "outputs": [],
   "source": []
  },
  {
   "cell_type": "markdown",
   "metadata": {},
   "source": [
    "Attributes usually contain useful information about the variable. For instance, the shape and size of a NumPy array are stored in the `array.shape` and `array.size` attributes."
   ]
  },
  {
   "cell_type": "code",
   "execution_count": null,
   "metadata": {},
   "outputs": [],
   "source": []
  },
  {
   "cell_type": "markdown",
   "metadata": {},
   "source": [
    "## Slicing (quick)"
   ]
  },
  {
   "cell_type": "markdown",
   "metadata": {},
   "source": [
    "You can reference part of an array (_slice_ it) with a slightly expanded version of the syntax used to access individual elements."
   ]
  },
  {
   "cell_type": "code",
   "execution_count": null,
   "metadata": {},
   "outputs": [],
   "source": []
  },
  {
   "cell_type": "markdown",
   "metadata": {},
   "source": [
    "Just like with the `arange()` function, note that the end index is not included. Also similarly to `arange()`, we can also include a `step` value to get only certain indices in the specified range:"
   ]
  },
  {
   "cell_type": "code",
   "execution_count": null,
   "metadata": {},
   "outputs": [],
   "source": []
  },
  {
   "cell_type": "code",
   "execution_count": null,
   "metadata": {},
   "outputs": [],
   "source": []
  },
  {
   "cell_type": "code",
   "execution_count": null,
   "metadata": {},
   "outputs": [],
   "source": []
  },
  {
   "cell_type": "markdown",
   "metadata": {},
   "source": [
    "## Astropy units - a super brief overview"
   ]
  },
  {
   "cell_type": "code",
   "execution_count": null,
   "metadata": {},
   "outputs": [],
   "source": []
  },
  {
   "cell_type": "markdown",
   "metadata": {},
   "source": [
    "Another very useful Python package for solar physics is AstroPy. This provides lots very powerful features, but the one we will focus on now is the units package. This allows you to attach physical units to a value, and for Python to then sensibly interpret that value."
   ]
  }
 ],
 "metadata": {
  "kernelspec": {
   "display_name": "Python 3",
   "language": "python",
   "name": "python3"
  },
  "language_info": {
   "codemirror_mode": {
    "name": "ipython",
    "version": 3
   },
   "file_extension": ".py",
   "mimetype": "text/x-python",
   "name": "python",
   "nbconvert_exporter": "python",
   "pygments_lexer": "ipython3",
   "version": "3.7.4"
  }
 },
 "nbformat": 4,
 "nbformat_minor": 4
}
