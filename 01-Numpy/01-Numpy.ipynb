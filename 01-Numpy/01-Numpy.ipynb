{
 "metadata": {
  "kernelspec": {
   "language": "python",
   "display_name": "Python 3",
   "name": "python3"
  },
  "language_info": {
   "version": "3.5.2",
   "file_extension": ".py",
   "nbconvert_exporter": "python",
   "pygments_lexer": "ipython3",
   "mimetype": "text/x-python",
   "codemirror_mode": {
    "version": 3,
    "name": "ipython"
   },
   "name": "python"
  }
 },
 "nbformat": 4,
 "nbformat_minor": 0,
 "cells": [
  {
   "source": [
    "# Python and Numpy"
   ],
   "metadata": {
    "collapsed": true
   },
   "cell_type": "markdown"
  },
  {
   "source": [
    "## Libraries and namespaces"
   ],
   "metadata": {},
   "cell_type": "markdown"
  },
  {
   "source": [
    "Core Python can do relatively little. Fortunately though, there are many Python libraries that can add to its functionality. For now the one we'll be focusing on is __NumPy__, which contains definitions for a lot of commonly used mathematical functions and constants. NumPy can be imported like this:"
   ],
   "metadata": {},
   "cell_type": "markdown"
  },
  {
   "source": [],
   "metadata": {
    "collapsed": true
   },
   "cell_type": "code",
   "execution_count": null,
   "outputs": []
  },
  {
   "source": [
    "and the variables it contains can be referenced like this:"
   ],
   "metadata": {},
   "cell_type": "markdown"
  },
  {
   "source": [],
   "metadata": {
    "collapsed": false
   },
   "cell_type": "code",
   "execution_count": null,
   "outputs": []
  },
  {
   "source": [
    "Notice the __numpy.__ in the above example. Without this, NumPy's variables are not accessible:"
   ],
   "metadata": {},
   "cell_type": "markdown"
  },
  {
   "source": [],
   "metadata": {
    "collapsed": false
   },
   "cell_type": "code",
   "execution_count": null,
   "outputs": []
  },
  {
   "source": [
    "This is because Python groups variables into _namespaces_. The NumPy library has its own namespace which contains all the variables it defines. This namespace is separate from the namespace you're currently working in, which contains a single user-defined variable, `numpy` (and also some built-in variables)."
   ],
   "metadata": {},
   "cell_type": "markdown"
  },
  {
   "source": [
    "As well as importing an entire library, you can import individual variables into the current namespace. Then you can reference these variables without going through `numpy`."
   ],
   "metadata": {},
   "cell_type": "markdown"
  },
  {
   "source": [],
   "metadata": {
    "collapsed": false
   },
   "cell_type": "code",
   "execution_count": null,
   "outputs": []
  },
  {
   "source": [
    "The `import` statement also lets you rename a library when you import it. You'll usually see numpy imported and used like this, and this is how we'll be using it throughout this course:"
   ],
   "metadata": {},
   "cell_type": "markdown"
  },
  {
   "source": [],
   "metadata": {
    "collapsed": false
   },
   "cell_type": "code",
   "execution_count": null,
   "outputs": []
  },
  {
   "source": [
    "## Arrays"
   ],
   "metadata": {},
   "cell_type": "markdown"
  },
  {
   "source": [
    "Core Python has no concept of arrays as such, but NumPy does. First though, it's useful to look at _lists_, which are the closest basic Python equivalent to an array. Lists are defined like this:"
   ],
   "metadata": {},
   "cell_type": "markdown"
  },
  {
   "source": [],
   "metadata": {
    "collapsed": false
   },
   "cell_type": "code",
   "execution_count": null,
   "outputs": []
  },
  {
   "source": [
    "Lists (and arrays, and all other types of sequence) are indexed using square brackets, and indices start at 0."
   ],
   "metadata": {},
   "cell_type": "markdown"
  },
  {
   "source": [
    "# Print the first and third items in the list\n",
    "# Print an item that doesn't exist\n"
   ],
   "metadata": {
    "collapsed": false
   },
   "cell_type": "code",
   "execution_count": null,
   "outputs": []
  },
  {
   "source": [
    "You can convert a list into a NumPy array using the `array()` function in NumPy:"
   ],
   "metadata": {},
   "cell_type": "markdown"
  },
  {
   "source": [],
   "metadata": {
    "collapsed": false
   },
   "cell_type": "code",
   "execution_count": null,
   "outputs": []
  },
  {
   "source": [
    "There are also NumPy functions for quickly generating larger arrays. The `arange()` function makes an array containing a sequence of numbers and can be used in several ways:\n",
    "- if given a single value, the sequence starts at 0, stops at the given value and goes in steps of 1\n",
    "- if given two values, the sequence goes from the first to the second in steps of 1\n",
    "- if given three values, the sequence goes from the first to the second in steps of the third"
   ],
   "metadata": {},
   "cell_type": "markdown"
  },
  {
   "source": [
    "# Make an array of numbers between 0 and 10\n",
    "# Make an array of numbers between 3 and 10\n",
    "# Make an array of numbers between 3 and 10 in steps of 0.4\n"
   ],
   "metadata": {
    "collapsed": false
   },
   "cell_type": "code",
   "execution_count": null,
   "outputs": []
  },
  {
   "source": [
    "Notice that the values in the sequence are not inclusive of the given end value.\n",
    "\n",
    "Alternatively, you can make an empty array using the `zeros()` function, which takes a single argument corresponding to the shape of the array."
   ],
   "metadata": {},
   "cell_type": "markdown"
  },
  {
   "source": [
    "# Make a 7-elements long array of nothing\n",
    "# Make a 2D array of nothing\n"
   ],
   "metadata": {
    "collapsed": false
   },
   "cell_type": "code",
   "execution_count": null,
   "outputs": []
  },
  {
   "source": [
    "Notice the extra brackets in the second command, since we are grouping together the values as a single argument to the function."
   ],
   "metadata": {},
   "cell_type": "markdown"
  },
  {
   "source": [
    "### Functions on arrays"
   ],
   "metadata": {},
   "cell_type": "markdown"
  },
  {
   "source": [
    "Many functions can be performed on every element in an array at once. These functions take the array as input and return an array of the same size. The `sin()` and `cos()` functions are good examples of this.\n",
    "\n",
    "Note: `sin()` and `cos()` take their input in radians."
   ],
   "metadata": {},
   "cell_type": "markdown"
  },
  {
   "source": [],
   "metadata": {
    "collapsed": false
   },
   "cell_type": "code",
   "execution_count": null,
   "outputs": []
  },
  {
   "source": [
    "There are also plenty of functions that calculate and return single values from an array input. For instance, the `np.min()`, `np.mean()` and `np.max()` functions do pretty much what you would expect:"
   ],
   "metadata": {},
   "cell_type": "markdown"
  },
  {
   "source": [],
   "metadata": {
    "collapsed": false
   },
   "cell_type": "code",
   "execution_count": null,
   "outputs": []
  },
  {
   "source": [
    "## Methods and attributes"
   ],
   "metadata": {},
   "cell_type": "markdown"
  },
  {
   "source": [
    "Some Python variables, including NumPy arrays, have their own namespaces which contain functions and variables that relate to that variable. In this context these are called _methods_ and attributes, respectively. These are accessed in the same way as variables in libraries, with the syntax `variable.method()` or `variable.attribute`.\n",
    "\n",
    "Many of the methods associated with NumPy arrays reproduce the functionality of external functions, such as the `array.min()`, `array.mean()` and `array.max()` methods, which are equivalent to the functions used above:"
   ],
   "metadata": {},
   "cell_type": "markdown"
  },
  {
   "source": [],
   "metadata": {
    "collapsed": false
   },
   "cell_type": "code",
   "execution_count": null,
   "outputs": []
  },
  {
   "source": [
    "Attributes usually contain useful information about the variable. For instance, the shape and size of a NumPy array are stored in the `array.shape` and `array.size` attributes."
   ],
   "metadata": {},
   "cell_type": "markdown"
  },
  {
   "source": [],
   "metadata": {
    "collapsed": false
   },
   "cell_type": "code",
   "execution_count": null,
   "outputs": []
  },
  {
   "source": [
    "## Slicing (quick)"
   ],
   "metadata": {},
   "cell_type": "markdown"
  },
  {
   "source": [
    "You can reference part of an array (_slice_ it) with a slightly expanded version of the syntax used to access individual elements."
   ],
   "metadata": {},
   "cell_type": "markdown"
  },
  {
   "source": [
    "# Access just the 15th element of the array.\n",
    "# Access ten elements starting at the 15th\n"
   ],
   "metadata": {
    "collapsed": false
   },
   "cell_type": "code",
   "execution_count": null,
   "outputs": []
  },
  {
   "source": [
    "Just like with the `arange()` function, note that the end index is not included. Also similarly to `arange()`, we can also include a `step` value to get only certain indices in the specified range:"
   ],
   "metadata": {},
   "cell_type": "markdown"
  },
  {
   "source": [
    "# Get every other element in the range used above.\n",
    "# You can also go backwards\n"
   ],
   "metadata": {
    "collapsed": false
   },
   "cell_type": "code",
   "execution_count": null,
   "outputs": []
  },
  {
   "source": [
    "## Astropy units - a super brief overview"
   ],
   "metadata": {},
   "cell_type": "markdown"
  },
  {
   "source": [
    "Another very useful Python package for solar physics is AstroPy. This provides lots very powerful features, but the one we will focus on now is the units package. This allows you to attach physical units to a value, and for Python to then sensibly interpret that value."
   ],
   "metadata": {},
   "cell_type": "markdown"
  },
  {
   "source": [],
   "metadata": {
    "collapsed": false
   },
   "cell_type": "code",
   "execution_count": null,
   "outputs": []
  }
 ]
}