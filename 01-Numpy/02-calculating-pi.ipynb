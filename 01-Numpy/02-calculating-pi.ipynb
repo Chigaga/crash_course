{
 "cells": [
  {
   "cell_type": "markdown",
   "metadata": {},
   "source": [
    "# Monte Carlo approximation of pi"
   ]
  },
  {
   "cell_type": "markdown",
   "metadata": {},
   "source": [
    "Suppose we need to calculate the value of $\\pi$ (it's readily available in several libraries, but let's assume for the purposes of this excercise that you need to calculate it anyway). The approach we'll use for this is called a [Monte Carlo method](https://en.wikipedia.org/wiki/Monte_Carlo_method). For those unfamiliar with the term, Monte Carlo methods are a way to approximate values using random numbers which have some particular statistical properties relevant to the problem at hand.\n",
    "\n",
    "This method consists of the following steps:\n",
    "- Consider a unit square (x = [0, 1], y = [0, 1]) containing a quarter of a unit circle ($r = 1$)\n",
    "- Randomly select a point within the square\n",
    "- Determine whether the selected point is within the circle\n",
    "- As you select more points, the ratio of the number of points within the circle to the total number of points will converge towards $\\pi / 4$, so \n",
    "\n",
    "    $$\n",
    "    \\pi = 4 \\frac{\\text{number of points in circle}}{\\text{total number of points}}\n",
    "    $$\n",
    "\n",
    "\n",
    "![](https://upload.wikimedia.org/wikipedia/commons/thumb/8/84/Pi_30K.gif/220px-Pi_30K.gif)"
   ]
  },
  {
   "cell_type": "markdown",
   "metadata": {},
   "source": [
    "## Challenge\n",
    "\n",
    "1. Here in the notebook, write a function that implements the algorithm described above and returns a value for $\\pi$. If it helps you to conceptualise the problem, loop over the number of points you want to use and do your calculations on each iteration. Once you're happy with that, refactor your function so that it uses numpy operations and considers all the points at once, instead of looping over them.\n",
    "1. Make a plot like the one above showing the random coordinates used in your calculation and the answer those points produce. Try running your function with different numbers of iterations and making a plot to compare the different results this gives you.\n",
    "1. If you get through all of the above tasks before the end of the session and want an additional challenge, try making an animated version of the plot above, which changes while the answer is being calculated and updates both the points and the title. We haven't covered how to make animations, so you'll have to look up how to do this using the matplotlib documentation other online resources, and ask one of the instructors if you get stuck."
   ]
  },
  {
   "cell_type": "code",
   "execution_count": 14,
   "metadata": {},
   "outputs": [
    {
     "data": {
      "text/plain": [
       "3.141928"
      ]
     },
     "execution_count": 14,
     "metadata": {},
     "output_type": "execute_result"
    }
   ],
   "source": [
    "import numpy as np\n",
    "\n",
    "def calculate_pi(n_points):\n",
    "    points_x = np.random.rand(n_points)\n",
    "    points_y = np.random.rand(n_points)\n",
    "    points_r = np.hypot(points_x, points_y)\n",
    "    \n",
    "    n_inside = np.count_nonzero(points_r <= 1)\n",
    "    \n",
    "    return 4 * (n_inside / n_points)\n",
    "\n",
    "calculate_pi(10000000)"
   ]
  }
 ],
 "metadata": {
  "kernelspec": {
   "display_name": "Python 3",
   "language": "python",
   "name": "python3"
  },
  "language_info": {
   "codemirror_mode": {
    "name": "ipython",
    "version": 3
   },
   "file_extension": ".py",
   "mimetype": "text/x-python",
   "name": "python",
   "nbconvert_exporter": "python",
   "pygments_lexer": "ipython3",
   "version": "3.6.8"
  }
 },
 "nbformat": 4,
 "nbformat_minor": 2
}
