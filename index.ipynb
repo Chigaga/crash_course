{
 "cells": [
  {
   "cell_type": "markdown",
   "metadata": {},
   "source": [
    "# Python and SunPy Crash Course!"
   ]
  },
  {
   "cell_type": "markdown",
   "metadata": {},
   "source": [
    "\n",
    "\n",
    "<div style=\"float:left; width:69%\">\n",
    "<p>\n",
    "In this session we will give you a super-speed introduction to the world of Scientific Python and SunPy. We will try our best to teach you something useful while making it not super confusing. We will however also give you *lots* of links and other material that you can follow up with afterwards.\n",
    "</p>\n",
    "<p>\n",
    "Do not worry if you get a little lost, we will not have time to completely explain everything we are doing, but if you have any questions do not hesitate to ask. We've also put together a cheat sheet that you can consult afterwards or as we go along.\n",
    "</div>\n",
    "<div style=\"float:left; width:29%\">\n",
    "<img src=\"https://cdn.rawgit.com/sunpy/sunpy-logo/master/generated/sunpy_icon.svg\" width=100% />\n",
    "</div>"
   ]
  },
  {
   "cell_type": "markdown",
   "metadata": {},
   "source": [
    "## Course Links"
   ]
  },
  {
   "cell_type": "markdown",
   "metadata": {},
   "source": [
    "[Python cheat sheet](./Cheatsheet.ipynb)\n",
    "\n",
    "[Notebook Tree](/)"
   ]
  },
  {
   "cell_type": "markdown",
   "metadata": {},
   "source": [
    "## Sessions\n",
    "\n",
    "1. [NumPy](./01-Numpy/01-Numpy.ipynb)\n",
    "1. [SunPy 1](./02-SunPy1/02-SunPy1.ipynb)\n",
    "1. [SunPy 2](./03-SunPy2/index.ipynb)"
   ]
  },
  {
   "cell_type": "markdown",
   "metadata": {},
   "source": [
    "## External Links / Futher Reading "
   ]
  },
  {
   "cell_type": "markdown",
   "metadata": {},
   "source": [
    "[SunPy](http://sunpy.org)"
   ]
  }
 ],
 "metadata": {
  "kernelspec": {
   "display_name": "Python 3",
   "language": "python",
   "name": "python3"
  },
  "language_info": {
   "codemirror_mode": {
    "name": "ipython",
    "version": 3
   },
   "file_extension": ".py",
   "mimetype": "text/x-python",
   "name": "python",
   "nbconvert_exporter": "python",
   "pygments_lexer": "ipython3",
   "version": "3.5.2"
  }
 },
 "nbformat": 4,
 "nbformat_minor": 0
}
