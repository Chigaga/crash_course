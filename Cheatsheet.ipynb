{
 "cells": [
  {
   "cell_type": "markdown",
   "metadata": {},
   "source": [
    "# Python cheat sheet"
   ]
  },
  {
   "cell_type": "markdown",
   "metadata": {},
   "source": [
    "- constructing numpy arrays\n",
    "- slicing\n",
    "- importing and namespaces"
   ]
  },
  {
   "cell_type": "code",
   "execution_count": 22,
   "metadata": {
    "collapsed": false
   },
   "outputs": [
    {
     "name": "stdout",
     "output_type": "stream",
     "text": [
      "Hello World!\n",
      "\tThis is a bigger print statement over 2 lines.\n",
      "Isn't it great?\n"
     ]
    }
   ],
   "source": [
    "# This is a comment\n",
    "\n",
    "print('Hello World!')\n",
    "\n",
    "print(\"\\tThis is a bigger print statement over\", 2, \"lines.\\nIsn't it great?\")"
   ]
  },
  {
   "cell_type": "code",
   "execution_count": 7,
   "metadata": {
    "collapsed": true
   },
   "outputs": [],
   "source": [
    "# Define an integer\n",
    "x = 1\n",
    "\n",
    "# Define a float\n",
    "x = 3.14\n",
    "\n",
    "# Define a string\n",
    "x = 'This is a string'\n",
    "\n",
    "# Define some booleans\n",
    "x = True\n",
    "y = False"
   ]
  },
  {
   "cell_type": "code",
   "execution_count": 57,
   "metadata": {
    "collapsed": false
   },
   "outputs": [
    {
     "name": "stdout",
     "output_type": "stream",
     "text": [
      "['string', 1, [4.2, 'another string']]\n",
      "['string', 1, [4.2, 'another string'], 'new item']\n",
      "[1, 2, 3, 'one', 'two', 'three']\n",
      "1\n",
      "['two', 'three']\n",
      "['two', 'three']\n",
      "[[4.2, 'another string'], 'new item']\n",
      "another string\n",
      "r\n",
      "aohrsrn\n",
      "aohrsrn\n",
      "gnirts rehtona\n",
      "42\n"
     ]
    }
   ],
   "source": [
    "# Define some lists\n",
    "x = [1, 2, 3]\n",
    "y = ['one', 'two', 'three']\n",
    "z = ['string', 1, [4.2, 'another string']]\n",
    "\n",
    "# Add to a list\n",
    "print(z)\n",
    "z.append('new item')\n",
    "print(z)\n",
    "\n",
    "# Concatenate lists\n",
    "print(x + y)\n",
    "\n",
    "# Index a list\n",
    "print(x[0])\n",
    "\n",
    "# Slice a list\n",
    "print(y[1:3])\n",
    "# Or, equivalently\n",
    "print(y[1:])\n",
    "\n",
    "# Reference backwards\n",
    "print(z[-2:])\n",
    "\n",
    "# Reference a list in a list\n",
    "a = z[-2][1]\n",
    "print(a)\n",
    "\n",
    "# Index a string\n",
    "print(a[6])\n",
    "\n",
    "# Index with an increment\n",
    "print(a[0:-1:2])\n",
    "# Or, equivalently\n",
    "print(a[::2])\n",
    "\n",
    "# Index backwards\n",
    "print(a[::-1])\n",
    "\n",
    "# Define a dict\n",
    "x = {'first number': 3.14, 'second number': 42, 'third number': 'something else'}\n",
    "\n",
    "# Reference a dict\n",
    "print(x['second number'])"
   ]
  },
  {
   "cell_type": "code",
   "execution_count": 25,
   "metadata": {
    "collapsed": false
   },
   "outputs": [
    {
     "name": "stdout",
     "output_type": "stream",
     "text": [
      "True\n",
      "False\n",
      "True\n",
      "False\n",
      "False\n",
      "True\n",
      "y is smaller\n"
     ]
    }
   ],
   "source": [
    "# Compare some variables\n",
    "x = 3\n",
    "y = 5\n",
    "\n",
    "print(x < y) # Less than\n",
    "print(x > y) # Greater than\n",
    "print(x <= y) # Less than or equal to\n",
    "print(x >= y) # Greater than or equal to\n",
    "print(x == y) # Equal to\n",
    "print(x != y) # Not equal to\n",
    "\n",
    "# if statements\n",
    "if x > y:\n",
    "    print('x is larger')\n",
    "elif x < y:\n",
    "    print('y is smaller')\n",
    "else:\n",
    "    print('x and y are equal')"
   ]
  },
  {
   "cell_type": "code",
   "execution_count": 60,
   "metadata": {
    "collapsed": false
   },
   "outputs": [
    {
     "name": "stdout",
     "output_type": "stream",
     "text": [
      "0\n",
      "1\n",
      "2\n",
      "3\n",
      "4\n",
      "one two\n",
      "un deux\n",
      "uno dos\n"
     ]
    }
   ],
   "source": [
    "# Loop over a list\n",
    "for x in [0, 1, 2, 3, 4]:\n",
    "    print(x)\n",
    "\n",
    "# Loop over a list of lists\n",
    "x = [['one', 'two'],\n",
    "     ['un', 'deux'],\n",
    "     ['uno', 'dos']]\n",
    "\n",
    "for a, b in x:\n",
    "    print(a, b)"
   ]
  },
  {
   "cell_type": "code",
   "execution_count": 1,
   "metadata": {
    "collapsed": false
   },
   "outputs": [
    {
     "name": "stdout",
     "output_type": "stream",
     "text": [
      "0\n",
      "1\n",
      "2\n",
      "3\n",
      "4\n"
     ]
    }
   ],
   "source": [
    "x = 0\n",
    "\n",
    "while x < 5:\n",
    "    print(x)\n",
    "    x += 1"
   ]
  },
  {
   "cell_type": "code",
   "execution_count": 11,
   "metadata": {
    "collapsed": false
   },
   "outputs": [
    {
     "name": "stdout",
     "output_type": "stream",
     "text": [
      "9\n",
      "81 729 729\n",
      "81 2.080083823051904 2.080083823051904 3.0\n"
     ]
    }
   ],
   "source": [
    "# Define a function with an argument\n",
    "def times(x, y):\n",
    "    return x * y\n",
    "\n",
    "# Call the function\n",
    "x = times(3, 3)\n",
    "print(x)\n",
    "\n",
    "# Define a new function with a kwarg\n",
    "def topower(x, power=2):\n",
    "    return x ** power\n",
    "\n",
    "# Three ways of calling the function\n",
    "print(topower(x), topower(x, 3), topower(x, power=3))\n",
    "\n",
    "# Define a function with multiple kwargs\n",
    "def topower(x, power=2, root=False):\n",
    "    if root:\n",
    "        y = x ** (1 / power)\n",
    "    else:\n",
    "        y = x ** power\n",
    "    \n",
    "    return y\n",
    "\n",
    "# Kwargs can be used individually or together\n",
    "print(topower(9), topower(9, 3, True), topower(9, power=3, root=True), topower(x, root=True))"
   ]
  }
 ],
 "metadata": {
  "kernelspec": {
   "display_name": "Python 3",
   "language": "python",
   "name": "python3"
  },
  "language_info": {
   "codemirror_mode": {
    "name": "ipython",
    "version": 3
   },
   "file_extension": ".py",
   "mimetype": "text/x-python",
   "name": "python",
   "nbconvert_exporter": "python",
   "pygments_lexer": "ipython3",
   "version": "3.5.2"
  }
 },
 "nbformat": 4,
 "nbformat_minor": 0
}
