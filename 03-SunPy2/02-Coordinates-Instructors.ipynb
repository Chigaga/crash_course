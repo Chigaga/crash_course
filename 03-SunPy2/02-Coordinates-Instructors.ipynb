{
 "cells": [
  {
   "cell_type": "markdown",
   "metadata": {},
   "source": [
    "# Solar Coordinates with SunPy"
   ]
  },
  {
   "cell_type": "markdown",
   "metadata": {},
   "source": [
    "In this session we will use the AIA and STEREO image we downloaded in the last session do a quick demonstration of converting between different coordinates in SunPy. A different version of this example can be found in the [SunPy Gallery](http://docs.sunpy.org/en/stable/generated/gallery/tutorials/SDO_to_STEREO_Coordinate_Conversion.html)."
   ]
  },
  {
   "cell_type": "markdown",
   "metadata": {},
   "source": [
    "## Reading the Data\n",
    "\n",
    "If you have run the [VSO Notebook](./01-VSO-Instructors.ipynb) you should have the following two files:"
   ]
  },
  {
   "cell_type": "code",
   "execution_count": null,
   "metadata": {
    "collapsed": false
   },
   "outputs": [],
   "source": [
    "%matplotlib notebook\n",
    "import matplotlib.pyplot as plt\n",
    "from sunpy.net.vso import VSOClient, attrs as a\n",
    "\n",
    "import astropy.units as u\n",
    "import sunpy.map"
   ]
  },
  {
   "cell_type": "code",
   "execution_count": null,
   "metadata": {
    "collapsed": false
   },
   "outputs": [],
   "source": [
    "vc = VSOClient()\n",
    "\n",
    "stereo = (a.Source('STEREO_B') &\n",
    "          a.Instrument('EUVI') &\n",
    "          a.Time('2011-01-01', '2011-01-01T00:10:00'))\n",
    "\n",
    "aia = (a.Instrument('AIA') &\n",
    "       a.Sample(24 * u.hour) &\n",
    "       a.Time('2011-01-01', '2011-01-02'))\n",
    "\n",
    "wave = a.Wave(30 * u.nm, 31 * u.nm)\n",
    "\n",
    "results = vc.query(stereo | aia, wave)\n",
    "\n",
    "vc.get(results).wait(progress=True)\n",
    "\n",
    "# Reorder the files\n",
    "files = ['/home/main/sunpy/data/20110101_000615_n4eub.2.fts',\n",
    "         '/home/main/sunpy/data/aia_lev1_304a_2011_01_01t00_00_08_12z_image_lev1.1.fits']"
   ]
  },
  {
   "cell_type": "code",
   "execution_count": null,
   "metadata": {
    "collapsed": false
   },
   "outputs": [],
   "source": [
    "euvi, aia = sunpy.map.Map(files)"
   ]
  },
  {
   "cell_type": "code",
   "execution_count": null,
   "metadata": {
    "collapsed": false
   },
   "outputs": [],
   "source": [
    "aia = aia.submap((-1100, 1100) * u.arcsec, (-1100, 1100) * u.arcsec)\n",
    "euvi = euvi.submap((-1100, 1100) * u.arcsec, (-1100, 1100) * u.arcsec)"
   ]
  },
  {
   "cell_type": "code",
   "execution_count": null,
   "metadata": {
    "collapsed": false
   },
   "outputs": [],
   "source": [
    "fig = plt.figure(figsize=(12, 5))\n",
    "ax1 = fig.add_subplot(1, 2, 1, projection=aia)\n",
    "aia.plot(axes=ax1)\n",
    "ax2 = fig.add_subplot(1, 2, 2, projection=euvi)\n",
    "euvi.plot(axes=ax2)"
   ]
  },
  {
   "cell_type": "markdown",
   "metadata": {},
   "source": [
    "## Helioprojective and Heliographic Coordinates"
   ]
  },
  {
   "cell_type": "markdown",
   "metadata": {},
   "source": [
    "<div style=\"float:left; width:59%\">\n",
    "<h3>Helioprojective \"Cartesian\" Coordinates</h3>\n",
    "<p>\n",
    "The most common coordinate frame in solar physics is helioprojective cartesian, HPC, which is an observer centric spherical coordinate frame with the point of 0° longitude and 0° latitude aligned with the centre of the solar disk. Normally the radius (distance from the observer) is not known when imaging the sky.\n",
    "</p>\n",
    "<p>\n",
    "These coordinates are commonly referred to as \"Solar-x Solar-y\", as they appear to be cartesian when dealing with small angles on the solar disk (see image on the right).\n",
    "</p>\n",
    "<h3> Heliocentric (Stonyhurst) Coordinates</h3>\n",
    "<p>\n",
    "Heliocentric coordinates, unlike helioprojective, have the origin at the centre of the Sun. The line of 0° longitude is aligned with the position of the Earth and the line of 0° latitude is around the solar equator. These coordinates are used to give positions on the Sun independant of the observer location.\n",
    "</p>\n",
    "</div>\n",
    "<div style=\"float:left; width:39%\">\n",
    "<img src=\"coord_inset.png\" width=100% />\n",
    "</div>"
   ]
  },
  {
   "cell_type": "markdown",
   "metadata": {},
   "source": [
    "SunPy can convert between these two coordinate systems:"
   ]
  },
  {
   "cell_type": "code",
   "execution_count": null,
   "metadata": {
    "collapsed": true
   },
   "outputs": [],
   "source": [
    "import sunpy.coordinates\n",
    "from astropy.coordinates import SkyCoord"
   ]
  },
  {
   "cell_type": "code",
   "execution_count": null,
   "metadata": {
    "collapsed": false
   },
   "outputs": [],
   "source": [
    "coord1 = SkyCoord(100*u.arcsec, 500*u.arcsec, frame=aia.coordinate_frame)\n",
    "coord1"
   ]
  },
  {
   "cell_type": "code",
   "execution_count": null,
   "metadata": {
    "collapsed": false
   },
   "outputs": [],
   "source": [
    "coord1.transform_to(\"heliographic_stonyhurst\")"
   ]
  },
  {
   "cell_type": "markdown",
   "metadata": {},
   "source": [
    "You can also plot points in both systems (coordinates should be specified in degrees to matplotlib):"
   ]
  },
  {
   "cell_type": "code",
   "execution_count": null,
   "metadata": {
    "collapsed": false
   },
   "outputs": [],
   "source": [
    "fig = plt.figure()\n",
    "ax = fig.add_subplot(1, 1, 1, projection=aia)\n",
    "aia.plot(axes=ax)\n",
    "ax.plot(0.02, 0.13, 'bo', transform=ax.get_transform('helioprojective'))\n",
    "ax.plot(6, 27, 'go', transform=ax.get_transform('heliographic_stonyhurst'))"
   ]
  },
  {
   "cell_type": "markdown",
   "metadata": {},
   "source": [
    "## Converting from SDO to STEREO"
   ]
  },
  {
   "cell_type": "markdown",
   "metadata": {},
   "source": [
    "In this example we are going to take a point in an AIA image, convert it to heliographic coordinates then calculate that point in helioprojective coordinates from the point of view of STEREO.\n",
    "\n",
    "*Note: This will be much easier in SunPy 0.8*"
   ]
  },
  {
   "cell_type": "code",
   "execution_count": null,
   "metadata": {
    "collapsed": false
   },
   "outputs": [],
   "source": [
    "aia_hpc = SkyCoord(-711*u.arcsec, -217*u.arcsec, frame=aia.coordinate_frame)\n",
    "aia_hpc"
   ]
  },
  {
   "cell_type": "code",
   "execution_count": null,
   "metadata": {
    "collapsed": false
   },
   "outputs": [],
   "source": [
    "hgs = aia_hpc.transform_to('heliographic_stonyhurst')\n",
    "hgs"
   ]
  },
  {
   "cell_type": "code",
   "execution_count": null,
   "metadata": {
    "collapsed": false
   },
   "outputs": [],
   "source": [
    "euvi_hpc = hgs.transform_to(euvi.coordinate_frame)\n",
    "euvi_hpc"
   ]
  },
  {
   "cell_type": "code",
   "execution_count": null,
   "metadata": {
    "collapsed": false,
    "scrolled": false
   },
   "outputs": [],
   "source": [
    "fig = plt.figure(figsize=(12, 5))\n",
    "ax1 = fig.add_subplot(1, 2, 1, projection=aia)\n",
    "aia.plot(axes=ax1)\n",
    "ax1.plot(aia_hpc.Tx.to(u.deg), aia_hpc.Ty.to(u.deg), 'o', transform=ax1.get_transform('helioprojective'))\n",
    "ax2 = fig.add_subplot(1, 2, 2, projection=euvi)\n",
    "euvi.plot(axes=ax2)\n",
    "ax2.plot(euvi_hpc.Tx.to(u.deg), euvi_hpc.Ty.to(u.deg), 'o', transform=ax2.get_transform('helioprojective'))"
   ]
  }
 ],
 "metadata": {
  "kernelspec": {
   "display_name": "Python 3",
   "language": "python",
   "name": "python3"
  },
  "language_info": {
   "codemirror_mode": {
    "name": "ipython",
    "version": 3
   },
   "file_extension": ".py",
   "mimetype": "text/x-python",
   "name": "python",
   "nbconvert_exporter": "python",
   "pygments_lexer": "ipython3",
   "version": "3.5.2"
  }
 },
 "nbformat": 4,
 "nbformat_minor": 0
}
