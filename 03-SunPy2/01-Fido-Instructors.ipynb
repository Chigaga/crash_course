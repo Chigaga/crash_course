{
 "cells": [
  {
   "cell_type": "markdown",
   "metadata": {
    "collapsed": true
   },
   "source": [
    "# Downloading Data with `Fido`"
   ]
  },
  {
   "cell_type": "markdown",
   "metadata": {},
   "source": [
    "In this session we will be using the `Fido` interface in SunPy to download some EUV data which we will use in the next session. `Fido` has access to a wide variety of different clients, instruments and data sources, and SunPy allows you to create arbitarily complex queries to search and then download the data."
   ]
  },
  {
   "cell_type": "markdown",
   "metadata": {},
   "source": [
    "## Useful Links\n",
    "\n",
    "1. [Acquiring Data with SunPy](http://docs.sunpy.org/en/stable/guide/acquiring_data/index.html)\n",
    "1. [The VSO](http://virtualsolar.org/)\n",
    "1. [MapSequence Documentation](http://docs.sunpy.org/en/stable/guide/data_types/maps.html#mapsequences)"
   ]
  },
  {
   "cell_type": "markdown",
   "metadata": {},
   "source": [
    "## The `sunpy.net` Module"
   ]
  },
  {
   "cell_type": "markdown",
   "metadata": {},
   "source": [
    "SunPy's `net` submodule includes useful functionality for querying and downloading data from various sources and clients. The most important things included in this submodule are `Fido`, SunPy's unified downloader interface, and `attrs`, which is used for defining attributes of data such as `Time` or `Instrument`. For this session, we'll import both of these:"
   ]
  },
  {
   "cell_type": "code",
   "execution_count": 1,
   "metadata": {},
   "outputs": [],
   "source": [
    "from sunpy.net import Fido, attrs as a\n",
    "import astropy.units as u"
   ]
  },
  {
   "cell_type": "markdown",
   "metadata": {},
   "source": [
    "Let's do a simple search for a day's worth of AIA data (don't worry, it wont download it all):"
   ]
  },
  {
   "cell_type": "code",
   "execution_count": 2,
   "metadata": {},
   "outputs": [],
   "source": [
    "results = Fido.search(a.Time(\"2016/02/03\", \"2016/02/04\"), a.Instrument('AIA'))"
   ]
  },
  {
   "cell_type": "code",
   "execution_count": 3,
   "metadata": {},
   "outputs": [
    {
     "data": {
      "text/html": [
       "Results from 1 Provider:</br></br>1336 Results from the VSOClient:</br><i>QTable length=1336</i>\n",
       "<table id=\"table140263302508752\" class=\"table-striped table-bordered table-condensed\">\n",
       "<thead><tr><th>Start Time [1]</th><th>End Time [1]</th><th>Source</th><th>Instrument</th><th>Type</th><th>Wavelength [2]</th></tr></thead>\n",
       "<thead><tr><th></th><th></th><th></th><th></th><th></th><th>Angstrom</th></tr></thead>\n",
       "<thead><tr><th>str19</th><th>str19</th><th>str3</th><th>str3</th><th>str8</th><th>float64</th></tr></thead>\n",
       "<tr><td>2016-02-03 19:49:22</td><td>2016-02-03 19:59:11</td><td>SDO</td><td>AIA</td><td>FULLDISK</td><td>211.0 .. 211.0</td></tr>\n",
       "<tr><td>2016-02-03 19:59:29</td><td>2016-02-03 20:09:18</td><td>SDO</td><td>AIA</td><td>FULLDISK</td><td>193.0 .. 193.0</td></tr>\n",
       "<tr><td>2016-02-03 18:09:24</td><td>2016-02-03 18:19:13</td><td>SDO</td><td>AIA</td><td>FULLDISK</td><td>94.0 .. 94.0</td></tr>\n",
       "<tr><td>2016-02-03 04:09:34</td><td>2016-02-03 04:19:23</td><td>SDO</td><td>AIA</td><td>FULLDISK</td><td>171.0 .. 171.0</td></tr>\n",
       "<tr><td>2016-02-03 14:39:30</td><td>2016-02-03 14:49:19</td><td>SDO</td><td>AIA</td><td>FULLDISK</td><td>304.0 .. 304.0</td></tr>\n",
       "<tr><td>2016-02-03 11:49:31</td><td>2016-02-03 11:59:20</td><td>SDO</td><td>AIA</td><td>FULLDISK</td><td>131.0 .. 131.0</td></tr>\n",
       "<tr><td>2016-02-03 07:39:31</td><td>2016-02-03 07:49:20</td><td>SDO</td><td>AIA</td><td>FULLDISK</td><td>131.0 .. 131.0</td></tr>\n",
       "<tr><td>2016-02-03 19:29:31</td><td>2016-02-03 19:39:20</td><td>SDO</td><td>AIA</td><td>FULLDISK</td><td>131.0 .. 131.0</td></tr>\n",
       "<tr><td>2016-02-03 17:39:27</td><td>2016-02-03 17:49:04</td><td>SDO</td><td>AIA</td><td>FULLDISK</td><td>1600.0 .. 1600.0</td></tr>\n",
       "<tr><td>...</td><td>...</td><td>...</td><td>...</td><td>...</td><td>...</td></tr>\n",
       "<tr><td>2016-02-03 00:19:29</td><td>2016-02-03 00:29:18</td><td>SDO</td><td>AIA</td><td>FULLDISK</td><td>193.0 .. 193.0</td></tr>\n",
       "<tr><td>2016-02-03 02:59:41</td><td>2016-02-03 03:09:18</td><td>SDO</td><td>AIA</td><td>FULLDISK</td><td>1700.0 .. 1700.0</td></tr>\n",
       "<tr><td>2016-02-03 10:19:27</td><td>2016-02-03 10:29:04</td><td>SDO</td><td>AIA</td><td>FULLDISK</td><td>1600.0 .. 1600.0</td></tr>\n",
       "<tr><td>2016-02-03 06:39:31</td><td>2016-02-03 06:49:20</td><td>SDO</td><td>AIA</td><td>FULLDISK</td><td>131.0 .. 131.0</td></tr>\n",
       "<tr><td>2016-02-03 17:49:41</td><td>2016-02-03 17:59:18</td><td>SDO</td><td>AIA</td><td>FULLDISK</td><td>1700.0 .. 1700.0</td></tr>\n",
       "<tr><td>2016-02-03 21:19:41</td><td>2016-02-03 21:29:18</td><td>SDO</td><td>AIA</td><td>FULLDISK</td><td>1700.0 .. 1700.0</td></tr>\n",
       "<tr><td>2016-02-03 14:09:34</td><td>2016-02-03 14:19:23</td><td>SDO</td><td>AIA</td><td>FULLDISK</td><td>171.0 .. 171.0</td></tr>\n",
       "<tr><td>2016-02-03 19:19:30</td><td>2016-02-03 19:29:19</td><td>SDO</td><td>AIA</td><td>FULLDISK</td><td>304.0 .. 304.0</td></tr>\n",
       "<tr><td>2016-02-03 08:39:41</td><td>2016-02-03 08:49:18</td><td>SDO</td><td>AIA</td><td>FULLDISK</td><td>1700.0 .. 1700.0</td></tr>\n",
       "<tr><td>2016-02-03 23:29:25</td><td>2016-02-03 23:39:14</td><td>SDO</td><td>AIA</td><td>FULLDISK</td><td>335.0 .. 335.0</td></tr>\n",
       "</table></br>"
      ],
      "text/plain": [
       "<sunpy.net.fido_factory.UnifiedResponse object at 0x7f916a818d50>\n",
       "Results from 1 Provider:\n",
       "\n",
       "1336 Results from the VSOClient:\n",
       "   Start Time [1]       End Time [1]    Source ...   Type    Wavelength [2] \n",
       "                                               ...              Angstrom    \n",
       "       str19               str19         str3  ...   str8       float64     \n",
       "------------------- ------------------- ------ ... -------- ----------------\n",
       "2016-02-03 19:49:22 2016-02-03 19:59:11    SDO ... FULLDISK   211.0 .. 211.0\n",
       "2016-02-03 19:59:29 2016-02-03 20:09:18    SDO ... FULLDISK   193.0 .. 193.0\n",
       "2016-02-03 18:09:24 2016-02-03 18:19:13    SDO ... FULLDISK     94.0 .. 94.0\n",
       "2016-02-03 04:09:34 2016-02-03 04:19:23    SDO ... FULLDISK   171.0 .. 171.0\n",
       "2016-02-03 14:39:30 2016-02-03 14:49:19    SDO ... FULLDISK   304.0 .. 304.0\n",
       "2016-02-03 11:49:31 2016-02-03 11:59:20    SDO ... FULLDISK   131.0 .. 131.0\n",
       "2016-02-03 07:39:31 2016-02-03 07:49:20    SDO ... FULLDISK   131.0 .. 131.0\n",
       "2016-02-03 19:29:31 2016-02-03 19:39:20    SDO ... FULLDISK   131.0 .. 131.0\n",
       "2016-02-03 17:39:27 2016-02-03 17:49:04    SDO ... FULLDISK 1600.0 .. 1600.0\n",
       "                ...                 ...    ... ...      ...              ...\n",
       "2016-02-03 00:19:29 2016-02-03 00:29:18    SDO ... FULLDISK   193.0 .. 193.0\n",
       "2016-02-03 02:59:41 2016-02-03 03:09:18    SDO ... FULLDISK 1700.0 .. 1700.0\n",
       "2016-02-03 10:19:27 2016-02-03 10:29:04    SDO ... FULLDISK 1600.0 .. 1600.0\n",
       "2016-02-03 06:39:31 2016-02-03 06:49:20    SDO ... FULLDISK   131.0 .. 131.0\n",
       "2016-02-03 17:49:41 2016-02-03 17:59:18    SDO ... FULLDISK 1700.0 .. 1700.0\n",
       "2016-02-03 21:19:41 2016-02-03 21:29:18    SDO ... FULLDISK 1700.0 .. 1700.0\n",
       "2016-02-03 14:09:34 2016-02-03 14:19:23    SDO ... FULLDISK   171.0 .. 171.0\n",
       "2016-02-03 19:19:30 2016-02-03 19:29:19    SDO ... FULLDISK   304.0 .. 304.0\n",
       "2016-02-03 08:39:41 2016-02-03 08:49:18    SDO ... FULLDISK 1700.0 .. 1700.0\n",
       "2016-02-03 23:29:25 2016-02-03 23:39:14    SDO ... FULLDISK   335.0 .. 335.0\n"
      ]
     },
     "execution_count": 3,
     "metadata": {},
     "output_type": "execute_result"
    }
   ],
   "source": [
    "results"
   ]
  },
  {
   "cell_type": "markdown",
   "metadata": {},
   "source": [
    "This is a little too much data, so let's restrict it to a single wavelength and ask for a lower cadence:"
   ]
  },
  {
   "cell_type": "code",
   "execution_count": 4,
   "metadata": {},
   "outputs": [],
   "source": [
    "results = Fido.search(a.Time(\"2016/03/02\", \"2016/03/03\"), a.Instrument('AIA'),\n",
    "                      a.Wavelength(17.1*u.nm, 17.1*u.nm), a.Sample(2*u.h))"
   ]
  },
  {
   "cell_type": "code",
   "execution_count": 5,
   "metadata": {},
   "outputs": [
    {
     "data": {
      "text/html": [
       "Results from 1 Provider:</br></br>12 Results from the VSOClient:</br><i>QTable length=12</i>\n",
       "<table id=\"table140262525134992\" class=\"table-striped table-bordered table-condensed\">\n",
       "<thead><tr><th>Start Time [1]</th><th>End Time [1]</th><th>Source</th><th>Instrument</th><th>Type</th><th>Wavelength [2]</th></tr></thead>\n",
       "<thead><tr><th></th><th></th><th></th><th></th><th></th><th>Angstrom</th></tr></thead>\n",
       "<thead><tr><th>str19</th><th>str19</th><th>str3</th><th>str3</th><th>str8</th><th>float64</th></tr></thead>\n",
       "<tr><td>2016-03-02 22:00:10</td><td>2016-03-02 22:00:11</td><td>SDO</td><td>AIA</td><td>FULLDISK</td><td>171.0 .. 171.0</td></tr>\n",
       "<tr><td>2016-03-02 06:00:10</td><td>2016-03-02 06:00:11</td><td>SDO</td><td>AIA</td><td>FULLDISK</td><td>171.0 .. 171.0</td></tr>\n",
       "<tr><td>2016-03-02 16:00:10</td><td>2016-03-02 16:00:11</td><td>SDO</td><td>AIA</td><td>FULLDISK</td><td>171.0 .. 171.0</td></tr>\n",
       "<tr><td>2016-03-02 08:00:10</td><td>2016-03-02 08:00:11</td><td>SDO</td><td>AIA</td><td>FULLDISK</td><td>171.0 .. 171.0</td></tr>\n",
       "<tr><td>2016-03-02 02:00:10</td><td>2016-03-02 02:00:11</td><td>SDO</td><td>AIA</td><td>FULLDISK</td><td>171.0 .. 171.0</td></tr>\n",
       "<tr><td>2016-03-02 18:00:10</td><td>2016-03-02 18:00:11</td><td>SDO</td><td>AIA</td><td>FULLDISK</td><td>171.0 .. 171.0</td></tr>\n",
       "<tr><td>2016-03-02 20:00:10</td><td>2016-03-02 20:00:11</td><td>SDO</td><td>AIA</td><td>FULLDISK</td><td>171.0 .. 171.0</td></tr>\n",
       "<tr><td>2016-03-02 10:00:10</td><td>2016-03-02 10:00:11</td><td>SDO</td><td>AIA</td><td>FULLDISK</td><td>171.0 .. 171.0</td></tr>\n",
       "<tr><td>2016-03-02 00:00:10</td><td>2016-03-02 00:00:11</td><td>SDO</td><td>AIA</td><td>FULLDISK</td><td>171.0 .. 171.0</td></tr>\n",
       "<tr><td>2016-03-02 04:00:10</td><td>2016-03-02 04:00:11</td><td>SDO</td><td>AIA</td><td>FULLDISK</td><td>171.0 .. 171.0</td></tr>\n",
       "<tr><td>2016-03-02 12:00:10</td><td>2016-03-02 12:00:11</td><td>SDO</td><td>AIA</td><td>FULLDISK</td><td>171.0 .. 171.0</td></tr>\n",
       "<tr><td>2016-03-02 14:00:10</td><td>2016-03-02 14:00:11</td><td>SDO</td><td>AIA</td><td>FULLDISK</td><td>171.0 .. 171.0</td></tr>\n",
       "</table></br>"
      ],
      "text/plain": [
       "<sunpy.net.fido_factory.UnifiedResponse object at 0x7f916ad44e10>\n",
       "Results from 1 Provider:\n",
       "\n",
       "12 Results from the VSOClient:\n",
       "   Start Time [1]       End Time [1]    Source ...   Type   Wavelength [2]\n",
       "                                               ...             Angstrom   \n",
       "       str19               str19         str3  ...   str8      float64    \n",
       "------------------- ------------------- ------ ... -------- --------------\n",
       "2016-03-02 22:00:10 2016-03-02 22:00:11    SDO ... FULLDISK 171.0 .. 171.0\n",
       "2016-03-02 06:00:10 2016-03-02 06:00:11    SDO ... FULLDISK 171.0 .. 171.0\n",
       "2016-03-02 16:00:10 2016-03-02 16:00:11    SDO ... FULLDISK 171.0 .. 171.0\n",
       "2016-03-02 08:00:10 2016-03-02 08:00:11    SDO ... FULLDISK 171.0 .. 171.0\n",
       "2016-03-02 02:00:10 2016-03-02 02:00:11    SDO ... FULLDISK 171.0 .. 171.0\n",
       "2016-03-02 18:00:10 2016-03-02 18:00:11    SDO ... FULLDISK 171.0 .. 171.0\n",
       "2016-03-02 20:00:10 2016-03-02 20:00:11    SDO ... FULLDISK 171.0 .. 171.0\n",
       "2016-03-02 10:00:10 2016-03-02 10:00:11    SDO ... FULLDISK 171.0 .. 171.0\n",
       "2016-03-02 00:00:10 2016-03-02 00:00:11    SDO ... FULLDISK 171.0 .. 171.0\n",
       "2016-03-02 04:00:10 2016-03-02 04:00:11    SDO ... FULLDISK 171.0 .. 171.0\n",
       "2016-03-02 12:00:10 2016-03-02 12:00:11    SDO ... FULLDISK 171.0 .. 171.0\n",
       "2016-03-02 14:00:10 2016-03-02 14:00:11    SDO ... FULLDISK 171.0 .. 171.0\n"
      ]
     },
     "execution_count": 5,
     "metadata": {},
     "output_type": "execute_result"
    }
   ],
   "source": [
    "results"
   ]
  },
  {
   "cell_type": "code",
   "execution_count": 6,
   "metadata": {},
   "outputs": [
    {
     "data": {
      "application/vnd.jupyter.widget-view+json": {
       "model_id": "e967f355a1f643bcb2e646ae3cd9c1e2",
       "version_major": 2,
       "version_minor": 0
      },
      "text/plain": [
       "HBox(children=(IntProgress(value=0, description='Files Downloaded', max=12, style=ProgressStyle(description_wi…"
      ]
     },
     "metadata": {},
     "output_type": "display_data"
    },
    {
     "data": {
      "application/vnd.jupyter.widget-view+json": {
       "model_id": "",
       "version_major": 2,
       "version_minor": 0
      },
      "text/plain": [
       "HBox(children=(IntProgress(value=0, description='aia_lev1_171a_2016_03_02t08_00_10_34z_image_lev1.fits', max=1…"
      ]
     },
     "metadata": {},
     "output_type": "display_data"
    },
    {
     "data": {
      "application/vnd.jupyter.widget-view+json": {
       "model_id": "",
       "version_major": 2,
       "version_minor": 0
      },
      "text/plain": [
       "HBox(children=(IntProgress(value=0, description='aia_lev1_171a_2016_03_02t02_00_10_34z_image_lev1.fits', max=1…"
      ]
     },
     "metadata": {},
     "output_type": "display_data"
    },
    {
     "data": {
      "application/vnd.jupyter.widget-view+json": {
       "model_id": "",
       "version_major": 2,
       "version_minor": 0
      },
      "text/plain": [
       "HBox(children=(IntProgress(value=0, description='aia_lev1_171a_2016_03_02t18_00_10_34z_image_lev1.fits', max=1…"
      ]
     },
     "metadata": {},
     "output_type": "display_data"
    },
    {
     "data": {
      "application/vnd.jupyter.widget-view+json": {
       "model_id": "",
       "version_major": 2,
       "version_minor": 0
      },
      "text/plain": [
       "HBox(children=(IntProgress(value=0, description='aia_lev1_171a_2016_03_02t20_00_10_34z_image_lev1.fits', max=1…"
      ]
     },
     "metadata": {},
     "output_type": "display_data"
    },
    {
     "data": {
      "application/vnd.jupyter.widget-view+json": {
       "model_id": "",
       "version_major": 2,
       "version_minor": 0
      },
      "text/plain": [
       "HBox(children=(IntProgress(value=0, description='aia_lev1_171a_2016_03_02t10_00_10_34z_image_lev1.fits', max=1…"
      ]
     },
     "metadata": {},
     "output_type": "display_data"
    },
    {
     "data": {
      "application/vnd.jupyter.widget-view+json": {
       "model_id": "",
       "version_major": 2,
       "version_minor": 0
      },
      "text/plain": [
       "HBox(children=(IntProgress(value=0, description='aia_lev1_171a_2016_03_02t00_00_10_34z_image_lev1.fits', max=1…"
      ]
     },
     "metadata": {},
     "output_type": "display_data"
    },
    {
     "data": {
      "application/vnd.jupyter.widget-view+json": {
       "model_id": "",
       "version_major": 2,
       "version_minor": 0
      },
      "text/plain": [
       "HBox(children=(IntProgress(value=0, description='aia_lev1_171a_2016_03_02t04_00_10_34z_image_lev1.fits', max=1…"
      ]
     },
     "metadata": {},
     "output_type": "display_data"
    },
    {
     "data": {
      "application/vnd.jupyter.widget-view+json": {
       "model_id": "",
       "version_major": 2,
       "version_minor": 0
      },
      "text/plain": [
       "HBox(children=(IntProgress(value=0, description='aia_lev1_171a_2016_03_02t12_00_10_34z_image_lev1.fits', max=1…"
      ]
     },
     "metadata": {},
     "output_type": "display_data"
    },
    {
     "data": {
      "application/vnd.jupyter.widget-view+json": {
       "model_id": "",
       "version_major": 2,
       "version_minor": 0
      },
      "text/plain": [
       "HBox(children=(IntProgress(value=0, description='aia_lev1_171a_2016_03_02t14_00_10_35z_image_lev1.fits', max=1…"
      ]
     },
     "metadata": {},
     "output_type": "display_data"
    },
    {
     "name": "stdout",
     "output_type": "stream",
     "text": [
      "\n"
     ]
    }
   ],
   "source": [
    "files = Fido.fetch(results)"
   ]
  },
  {
   "cell_type": "code",
   "execution_count": 7,
   "metadata": {},
   "outputs": [
    {
     "data": {
      "text/plain": [
       "<parfive.results.Results object at 0x7f9198523150>\n",
       "['/home/drew/sunpy/data/aia_lev1_171a_2016_03_02t00_00_10_34z_image_lev1.fits', '/home/drew/sunpy/data/aia_lev1_171a_2016_03_02t12_00_10_34z_image_lev1.fits', '/home/drew/sunpy/data/aia_lev1_171a_2016_03_02t06_00_10_34z_image_lev1.fits', '/home/drew/sunpy/data/aia_lev1_171a_2016_03_02t02_00_10_34z_image_lev1.fits', '/home/drew/sunpy/data/aia_lev1_171a_2016_03_02t20_00_10_34z_image_lev1.fits', '/home/drew/sunpy/data/aia_lev1_171a_2016_03_02t18_00_10_34z_image_lev1.fits', '/home/drew/sunpy/data/aia_lev1_171a_2016_03_02t22_00_10_35z_image_lev1.fits', '/home/drew/sunpy/data/aia_lev1_171a_2016_03_02t08_00_10_34z_image_lev1.fits', '/home/drew/sunpy/data/aia_lev1_171a_2016_03_02t10_00_10_34z_image_lev1.fits', '/home/drew/sunpy/data/aia_lev1_171a_2016_03_02t04_00_10_34z_image_lev1.fits', '/home/drew/sunpy/data/aia_lev1_171a_2016_03_02t16_00_10_35z_image_lev1.fits', '/home/drew/sunpy/data/aia_lev1_171a_2016_03_02t14_00_10_35z_image_lev1.fits']"
      ]
     },
     "execution_count": 7,
     "metadata": {},
     "output_type": "execute_result"
    }
   ],
   "source": [
    "files"
   ]
  },
  {
   "cell_type": "markdown",
   "metadata": {},
   "source": [
    "## SunPy MapSequence"
   ]
  },
  {
   "cell_type": "markdown",
   "metadata": {},
   "source": [
    "A quick aside into plotting sequences of images with SunPy. We will load these files we just downloaded into a SunPy MapSequence and animate them. (Note is a little more responsive outside of the notebook.)"
   ]
  },
  {
   "cell_type": "code",
   "execution_count": 8,
   "metadata": {},
   "outputs": [],
   "source": [
    "%matplotlib notebook\n",
    "import sunpy.map"
   ]
  },
  {
   "cell_type": "code",
   "execution_count": 9,
   "metadata": {},
   "outputs": [],
   "source": [
    "mapsequence = sunpy.map.Map(files, sequence=True)"
   ]
  },
  {
   "cell_type": "code",
   "execution_count": 10,
   "metadata": {},
   "outputs": [
    {
     "data": {
      "application/javascript": [
       "/* Put everything inside the global mpl namespace */\n",
       "window.mpl = {};\n",
       "\n",
       "\n",
       "mpl.get_websocket_type = function() {\n",
       "    if (typeof(WebSocket) !== 'undefined') {\n",
       "        return WebSocket;\n",
       "    } else if (typeof(MozWebSocket) !== 'undefined') {\n",
       "        return MozWebSocket;\n",
       "    } else {\n",
       "        alert('Your browser does not have WebSocket support. ' +\n",
       "              'Please try Chrome, Safari or Firefox ≥ 6. ' +\n",
       "              'Firefox 4 and 5 are also supported but you ' +\n",
       "              'have to enable WebSockets in about:config.');\n",
       "    };\n",
       "}\n",
       "\n",
       "mpl.figure = function(figure_id, websocket, ondownload, parent_element) {\n",
       "    this.id = figure_id;\n",
       "\n",
       "    this.ws = websocket;\n",
       "\n",
       "    this.supports_binary = (this.ws.binaryType != undefined);\n",
       "\n",
       "    if (!this.supports_binary) {\n",
       "        var warnings = document.getElementById(\"mpl-warnings\");\n",
       "        if (warnings) {\n",
       "            warnings.style.display = 'block';\n",
       "            warnings.textContent = (\n",
       "                \"This browser does not support binary websocket messages. \" +\n",
       "                    \"Performance may be slow.\");\n",
       "        }\n",
       "    }\n",
       "\n",
       "    this.imageObj = new Image();\n",
       "\n",
       "    this.context = undefined;\n",
       "    this.message = undefined;\n",
       "    this.canvas = undefined;\n",
       "    this.rubberband_canvas = undefined;\n",
       "    this.rubberband_context = undefined;\n",
       "    this.format_dropdown = undefined;\n",
       "\n",
       "    this.image_mode = 'full';\n",
       "\n",
       "    this.root = $('<div/>');\n",
       "    this._root_extra_style(this.root)\n",
       "    this.root.attr('style', 'display: inline-block');\n",
       "\n",
       "    $(parent_element).append(this.root);\n",
       "\n",
       "    this._init_header(this);\n",
       "    this._init_canvas(this);\n",
       "    this._init_toolbar(this);\n",
       "\n",
       "    var fig = this;\n",
       "\n",
       "    this.waiting = false;\n",
       "\n",
       "    this.ws.onopen =  function () {\n",
       "            fig.send_message(\"supports_binary\", {value: fig.supports_binary});\n",
       "            fig.send_message(\"send_image_mode\", {});\n",
       "            if (mpl.ratio != 1) {\n",
       "                fig.send_message(\"set_dpi_ratio\", {'dpi_ratio': mpl.ratio});\n",
       "            }\n",
       "            fig.send_message(\"refresh\", {});\n",
       "        }\n",
       "\n",
       "    this.imageObj.onload = function() {\n",
       "            if (fig.image_mode == 'full') {\n",
       "                // Full images could contain transparency (where diff images\n",
       "                // almost always do), so we need to clear the canvas so that\n",
       "                // there is no ghosting.\n",
       "                fig.context.clearRect(0, 0, fig.canvas.width, fig.canvas.height);\n",
       "            }\n",
       "            fig.context.drawImage(fig.imageObj, 0, 0);\n",
       "        };\n",
       "\n",
       "    this.imageObj.onunload = function() {\n",
       "        fig.ws.close();\n",
       "    }\n",
       "\n",
       "    this.ws.onmessage = this._make_on_message_function(this);\n",
       "\n",
       "    this.ondownload = ondownload;\n",
       "}\n",
       "\n",
       "mpl.figure.prototype._init_header = function() {\n",
       "    var titlebar = $(\n",
       "        '<div class=\"ui-dialog-titlebar ui-widget-header ui-corner-all ' +\n",
       "        'ui-helper-clearfix\"/>');\n",
       "    var titletext = $(\n",
       "        '<div class=\"ui-dialog-title\" style=\"width: 100%; ' +\n",
       "        'text-align: center; padding: 3px;\"/>');\n",
       "    titlebar.append(titletext)\n",
       "    this.root.append(titlebar);\n",
       "    this.header = titletext[0];\n",
       "}\n",
       "\n",
       "\n",
       "\n",
       "mpl.figure.prototype._canvas_extra_style = function(canvas_div) {\n",
       "\n",
       "}\n",
       "\n",
       "\n",
       "mpl.figure.prototype._root_extra_style = function(canvas_div) {\n",
       "\n",
       "}\n",
       "\n",
       "mpl.figure.prototype._init_canvas = function() {\n",
       "    var fig = this;\n",
       "\n",
       "    var canvas_div = $('<div/>');\n",
       "\n",
       "    canvas_div.attr('style', 'position: relative; clear: both; outline: 0');\n",
       "\n",
       "    function canvas_keyboard_event(event) {\n",
       "        return fig.key_event(event, event['data']);\n",
       "    }\n",
       "\n",
       "    canvas_div.keydown('key_press', canvas_keyboard_event);\n",
       "    canvas_div.keyup('key_release', canvas_keyboard_event);\n",
       "    this.canvas_div = canvas_div\n",
       "    this._canvas_extra_style(canvas_div)\n",
       "    this.root.append(canvas_div);\n",
       "\n",
       "    var canvas = $('<canvas/>');\n",
       "    canvas.addClass('mpl-canvas');\n",
       "    canvas.attr('style', \"left: 0; top: 0; z-index: 0; outline: 0\")\n",
       "\n",
       "    this.canvas = canvas[0];\n",
       "    this.context = canvas[0].getContext(\"2d\");\n",
       "\n",
       "    var backingStore = this.context.backingStorePixelRatio ||\n",
       "\tthis.context.webkitBackingStorePixelRatio ||\n",
       "\tthis.context.mozBackingStorePixelRatio ||\n",
       "\tthis.context.msBackingStorePixelRatio ||\n",
       "\tthis.context.oBackingStorePixelRatio ||\n",
       "\tthis.context.backingStorePixelRatio || 1;\n",
       "\n",
       "    mpl.ratio = (window.devicePixelRatio || 1) / backingStore;\n",
       "\n",
       "    var rubberband = $('<canvas/>');\n",
       "    rubberband.attr('style', \"position: absolute; left: 0; top: 0; z-index: 1;\")\n",
       "\n",
       "    var pass_mouse_events = true;\n",
       "\n",
       "    canvas_div.resizable({\n",
       "        start: function(event, ui) {\n",
       "            pass_mouse_events = false;\n",
       "        },\n",
       "        resize: function(event, ui) {\n",
       "            fig.request_resize(ui.size.width, ui.size.height);\n",
       "        },\n",
       "        stop: function(event, ui) {\n",
       "            pass_mouse_events = true;\n",
       "            fig.request_resize(ui.size.width, ui.size.height);\n",
       "        },\n",
       "    });\n",
       "\n",
       "    function mouse_event_fn(event) {\n",
       "        if (pass_mouse_events)\n",
       "            return fig.mouse_event(event, event['data']);\n",
       "    }\n",
       "\n",
       "    rubberband.mousedown('button_press', mouse_event_fn);\n",
       "    rubberband.mouseup('button_release', mouse_event_fn);\n",
       "    // Throttle sequential mouse events to 1 every 20ms.\n",
       "    rubberband.mousemove('motion_notify', mouse_event_fn);\n",
       "\n",
       "    rubberband.mouseenter('figure_enter', mouse_event_fn);\n",
       "    rubberband.mouseleave('figure_leave', mouse_event_fn);\n",
       "\n",
       "    canvas_div.on(\"wheel\", function (event) {\n",
       "        event = event.originalEvent;\n",
       "        event['data'] = 'scroll'\n",
       "        if (event.deltaY < 0) {\n",
       "            event.step = 1;\n",
       "        } else {\n",
       "            event.step = -1;\n",
       "        }\n",
       "        mouse_event_fn(event);\n",
       "    });\n",
       "\n",
       "    canvas_div.append(canvas);\n",
       "    canvas_div.append(rubberband);\n",
       "\n",
       "    this.rubberband = rubberband;\n",
       "    this.rubberband_canvas = rubberband[0];\n",
       "    this.rubberband_context = rubberband[0].getContext(\"2d\");\n",
       "    this.rubberband_context.strokeStyle = \"#000000\";\n",
       "\n",
       "    this._resize_canvas = function(width, height) {\n",
       "        // Keep the size of the canvas, canvas container, and rubber band\n",
       "        // canvas in synch.\n",
       "        canvas_div.css('width', width)\n",
       "        canvas_div.css('height', height)\n",
       "\n",
       "        canvas.attr('width', width * mpl.ratio);\n",
       "        canvas.attr('height', height * mpl.ratio);\n",
       "        canvas.attr('style', 'width: ' + width + 'px; height: ' + height + 'px;');\n",
       "\n",
       "        rubberband.attr('width', width);\n",
       "        rubberband.attr('height', height);\n",
       "    }\n",
       "\n",
       "    // Set the figure to an initial 600x600px, this will subsequently be updated\n",
       "    // upon first draw.\n",
       "    this._resize_canvas(600, 600);\n",
       "\n",
       "    // Disable right mouse context menu.\n",
       "    $(this.rubberband_canvas).bind(\"contextmenu\",function(e){\n",
       "        return false;\n",
       "    });\n",
       "\n",
       "    function set_focus () {\n",
       "        canvas.focus();\n",
       "        canvas_div.focus();\n",
       "    }\n",
       "\n",
       "    window.setTimeout(set_focus, 100);\n",
       "}\n",
       "\n",
       "mpl.figure.prototype._init_toolbar = function() {\n",
       "    var fig = this;\n",
       "\n",
       "    var nav_element = $('<div/>');\n",
       "    nav_element.attr('style', 'width: 100%');\n",
       "    this.root.append(nav_element);\n",
       "\n",
       "    // Define a callback function for later on.\n",
       "    function toolbar_event(event) {\n",
       "        return fig.toolbar_button_onclick(event['data']);\n",
       "    }\n",
       "    function toolbar_mouse_event(event) {\n",
       "        return fig.toolbar_button_onmouseover(event['data']);\n",
       "    }\n",
       "\n",
       "    for(var toolbar_ind in mpl.toolbar_items) {\n",
       "        var name = mpl.toolbar_items[toolbar_ind][0];\n",
       "        var tooltip = mpl.toolbar_items[toolbar_ind][1];\n",
       "        var image = mpl.toolbar_items[toolbar_ind][2];\n",
       "        var method_name = mpl.toolbar_items[toolbar_ind][3];\n",
       "\n",
       "        if (!name) {\n",
       "            // put a spacer in here.\n",
       "            continue;\n",
       "        }\n",
       "        var button = $('<button/>');\n",
       "        button.addClass('ui-button ui-widget ui-state-default ui-corner-all ' +\n",
       "                        'ui-button-icon-only');\n",
       "        button.attr('role', 'button');\n",
       "        button.attr('aria-disabled', 'false');\n",
       "        button.click(method_name, toolbar_event);\n",
       "        button.mouseover(tooltip, toolbar_mouse_event);\n",
       "\n",
       "        var icon_img = $('<span/>');\n",
       "        icon_img.addClass('ui-button-icon-primary ui-icon');\n",
       "        icon_img.addClass(image);\n",
       "        icon_img.addClass('ui-corner-all');\n",
       "\n",
       "        var tooltip_span = $('<span/>');\n",
       "        tooltip_span.addClass('ui-button-text');\n",
       "        tooltip_span.html(tooltip);\n",
       "\n",
       "        button.append(icon_img);\n",
       "        button.append(tooltip_span);\n",
       "\n",
       "        nav_element.append(button);\n",
       "    }\n",
       "\n",
       "    var fmt_picker_span = $('<span/>');\n",
       "\n",
       "    var fmt_picker = $('<select/>');\n",
       "    fmt_picker.addClass('mpl-toolbar-option ui-widget ui-widget-content');\n",
       "    fmt_picker_span.append(fmt_picker);\n",
       "    nav_element.append(fmt_picker_span);\n",
       "    this.format_dropdown = fmt_picker[0];\n",
       "\n",
       "    for (var ind in mpl.extensions) {\n",
       "        var fmt = mpl.extensions[ind];\n",
       "        var option = $(\n",
       "            '<option/>', {selected: fmt === mpl.default_extension}).html(fmt);\n",
       "        fmt_picker.append(option);\n",
       "    }\n",
       "\n",
       "    // Add hover states to the ui-buttons\n",
       "    $( \".ui-button\" ).hover(\n",
       "        function() { $(this).addClass(\"ui-state-hover\");},\n",
       "        function() { $(this).removeClass(\"ui-state-hover\");}\n",
       "    );\n",
       "\n",
       "    var status_bar = $('<span class=\"mpl-message\"/>');\n",
       "    nav_element.append(status_bar);\n",
       "    this.message = status_bar[0];\n",
       "}\n",
       "\n",
       "mpl.figure.prototype.request_resize = function(x_pixels, y_pixels) {\n",
       "    // Request matplotlib to resize the figure. Matplotlib will then trigger a resize in the client,\n",
       "    // which will in turn request a refresh of the image.\n",
       "    this.send_message('resize', {'width': x_pixels, 'height': y_pixels});\n",
       "}\n",
       "\n",
       "mpl.figure.prototype.send_message = function(type, properties) {\n",
       "    properties['type'] = type;\n",
       "    properties['figure_id'] = this.id;\n",
       "    this.ws.send(JSON.stringify(properties));\n",
       "}\n",
       "\n",
       "mpl.figure.prototype.send_draw_message = function() {\n",
       "    if (!this.waiting) {\n",
       "        this.waiting = true;\n",
       "        this.ws.send(JSON.stringify({type: \"draw\", figure_id: this.id}));\n",
       "    }\n",
       "}\n",
       "\n",
       "\n",
       "mpl.figure.prototype.handle_save = function(fig, msg) {\n",
       "    var format_dropdown = fig.format_dropdown;\n",
       "    var format = format_dropdown.options[format_dropdown.selectedIndex].value;\n",
       "    fig.ondownload(fig, format);\n",
       "}\n",
       "\n",
       "\n",
       "mpl.figure.prototype.handle_resize = function(fig, msg) {\n",
       "    var size = msg['size'];\n",
       "    if (size[0] != fig.canvas.width || size[1] != fig.canvas.height) {\n",
       "        fig._resize_canvas(size[0], size[1]);\n",
       "        fig.send_message(\"refresh\", {});\n",
       "    };\n",
       "}\n",
       "\n",
       "mpl.figure.prototype.handle_rubberband = function(fig, msg) {\n",
       "    var x0 = msg['x0'] / mpl.ratio;\n",
       "    var y0 = (fig.canvas.height - msg['y0']) / mpl.ratio;\n",
       "    var x1 = msg['x1'] / mpl.ratio;\n",
       "    var y1 = (fig.canvas.height - msg['y1']) / mpl.ratio;\n",
       "    x0 = Math.floor(x0) + 0.5;\n",
       "    y0 = Math.floor(y0) + 0.5;\n",
       "    x1 = Math.floor(x1) + 0.5;\n",
       "    y1 = Math.floor(y1) + 0.5;\n",
       "    var min_x = Math.min(x0, x1);\n",
       "    var min_y = Math.min(y0, y1);\n",
       "    var width = Math.abs(x1 - x0);\n",
       "    var height = Math.abs(y1 - y0);\n",
       "\n",
       "    fig.rubberband_context.clearRect(\n",
       "        0, 0, fig.canvas.width, fig.canvas.height);\n",
       "\n",
       "    fig.rubberband_context.strokeRect(min_x, min_y, width, height);\n",
       "}\n",
       "\n",
       "mpl.figure.prototype.handle_figure_label = function(fig, msg) {\n",
       "    // Updates the figure title.\n",
       "    fig.header.textContent = msg['label'];\n",
       "}\n",
       "\n",
       "mpl.figure.prototype.handle_cursor = function(fig, msg) {\n",
       "    var cursor = msg['cursor'];\n",
       "    switch(cursor)\n",
       "    {\n",
       "    case 0:\n",
       "        cursor = 'pointer';\n",
       "        break;\n",
       "    case 1:\n",
       "        cursor = 'default';\n",
       "        break;\n",
       "    case 2:\n",
       "        cursor = 'crosshair';\n",
       "        break;\n",
       "    case 3:\n",
       "        cursor = 'move';\n",
       "        break;\n",
       "    }\n",
       "    fig.rubberband_canvas.style.cursor = cursor;\n",
       "}\n",
       "\n",
       "mpl.figure.prototype.handle_message = function(fig, msg) {\n",
       "    fig.message.textContent = msg['message'];\n",
       "}\n",
       "\n",
       "mpl.figure.prototype.handle_draw = function(fig, msg) {\n",
       "    // Request the server to send over a new figure.\n",
       "    fig.send_draw_message();\n",
       "}\n",
       "\n",
       "mpl.figure.prototype.handle_image_mode = function(fig, msg) {\n",
       "    fig.image_mode = msg['mode'];\n",
       "}\n",
       "\n",
       "mpl.figure.prototype.updated_canvas_event = function() {\n",
       "    // Called whenever the canvas gets updated.\n",
       "    this.send_message(\"ack\", {});\n",
       "}\n",
       "\n",
       "// A function to construct a web socket function for onmessage handling.\n",
       "// Called in the figure constructor.\n",
       "mpl.figure.prototype._make_on_message_function = function(fig) {\n",
       "    return function socket_on_message(evt) {\n",
       "        if (evt.data instanceof Blob) {\n",
       "            /* FIXME: We get \"Resource interpreted as Image but\n",
       "             * transferred with MIME type text/plain:\" errors on\n",
       "             * Chrome.  But how to set the MIME type?  It doesn't seem\n",
       "             * to be part of the websocket stream */\n",
       "            evt.data.type = \"image/png\";\n",
       "\n",
       "            /* Free the memory for the previous frames */\n",
       "            if (fig.imageObj.src) {\n",
       "                (window.URL || window.webkitURL).revokeObjectURL(\n",
       "                    fig.imageObj.src);\n",
       "            }\n",
       "\n",
       "            fig.imageObj.src = (window.URL || window.webkitURL).createObjectURL(\n",
       "                evt.data);\n",
       "            fig.updated_canvas_event();\n",
       "            fig.waiting = false;\n",
       "            return;\n",
       "        }\n",
       "        else if (typeof evt.data === 'string' && evt.data.slice(0, 21) == \"data:image/png;base64\") {\n",
       "            fig.imageObj.src = evt.data;\n",
       "            fig.updated_canvas_event();\n",
       "            fig.waiting = false;\n",
       "            return;\n",
       "        }\n",
       "\n",
       "        var msg = JSON.parse(evt.data);\n",
       "        var msg_type = msg['type'];\n",
       "\n",
       "        // Call the  \"handle_{type}\" callback, which takes\n",
       "        // the figure and JSON message as its only arguments.\n",
       "        try {\n",
       "            var callback = fig[\"handle_\" + msg_type];\n",
       "        } catch (e) {\n",
       "            console.log(\"No handler for the '\" + msg_type + \"' message type: \", msg);\n",
       "            return;\n",
       "        }\n",
       "\n",
       "        if (callback) {\n",
       "            try {\n",
       "                // console.log(\"Handling '\" + msg_type + \"' message: \", msg);\n",
       "                callback(fig, msg);\n",
       "            } catch (e) {\n",
       "                console.log(\"Exception inside the 'handler_\" + msg_type + \"' callback:\", e, e.stack, msg);\n",
       "            }\n",
       "        }\n",
       "    };\n",
       "}\n",
       "\n",
       "// from http://stackoverflow.com/questions/1114465/getting-mouse-location-in-canvas\n",
       "mpl.findpos = function(e) {\n",
       "    //this section is from http://www.quirksmode.org/js/events_properties.html\n",
       "    var targ;\n",
       "    if (!e)\n",
       "        e = window.event;\n",
       "    if (e.target)\n",
       "        targ = e.target;\n",
       "    else if (e.srcElement)\n",
       "        targ = e.srcElement;\n",
       "    if (targ.nodeType == 3) // defeat Safari bug\n",
       "        targ = targ.parentNode;\n",
       "\n",
       "    // jQuery normalizes the pageX and pageY\n",
       "    // pageX,Y are the mouse positions relative to the document\n",
       "    // offset() returns the position of the element relative to the document\n",
       "    var x = e.pageX - $(targ).offset().left;\n",
       "    var y = e.pageY - $(targ).offset().top;\n",
       "\n",
       "    return {\"x\": x, \"y\": y};\n",
       "};\n",
       "\n",
       "/*\n",
       " * return a copy of an object with only non-object keys\n",
       " * we need this to avoid circular references\n",
       " * http://stackoverflow.com/a/24161582/3208463\n",
       " */\n",
       "function simpleKeys (original) {\n",
       "  return Object.keys(original).reduce(function (obj, key) {\n",
       "    if (typeof original[key] !== 'object')\n",
       "        obj[key] = original[key]\n",
       "    return obj;\n",
       "  }, {});\n",
       "}\n",
       "\n",
       "mpl.figure.prototype.mouse_event = function(event, name) {\n",
       "    var canvas_pos = mpl.findpos(event)\n",
       "\n",
       "    if (name === 'button_press')\n",
       "    {\n",
       "        this.canvas.focus();\n",
       "        this.canvas_div.focus();\n",
       "    }\n",
       "\n",
       "    var x = canvas_pos.x * mpl.ratio;\n",
       "    var y = canvas_pos.y * mpl.ratio;\n",
       "\n",
       "    this.send_message(name, {x: x, y: y, button: event.button,\n",
       "                             step: event.step,\n",
       "                             guiEvent: simpleKeys(event)});\n",
       "\n",
       "    /* This prevents the web browser from automatically changing to\n",
       "     * the text insertion cursor when the button is pressed.  We want\n",
       "     * to control all of the cursor setting manually through the\n",
       "     * 'cursor' event from matplotlib */\n",
       "    event.preventDefault();\n",
       "    return false;\n",
       "}\n",
       "\n",
       "mpl.figure.prototype._key_event_extra = function(event, name) {\n",
       "    // Handle any extra behaviour associated with a key event\n",
       "}\n",
       "\n",
       "mpl.figure.prototype.key_event = function(event, name) {\n",
       "\n",
       "    // Prevent repeat events\n",
       "    if (name == 'key_press')\n",
       "    {\n",
       "        if (event.which === this._key)\n",
       "            return;\n",
       "        else\n",
       "            this._key = event.which;\n",
       "    }\n",
       "    if (name == 'key_release')\n",
       "        this._key = null;\n",
       "\n",
       "    var value = '';\n",
       "    if (event.ctrlKey && event.which != 17)\n",
       "        value += \"ctrl+\";\n",
       "    if (event.altKey && event.which != 18)\n",
       "        value += \"alt+\";\n",
       "    if (event.shiftKey && event.which != 16)\n",
       "        value += \"shift+\";\n",
       "\n",
       "    value += 'k';\n",
       "    value += event.which.toString();\n",
       "\n",
       "    this._key_event_extra(event, name);\n",
       "\n",
       "    this.send_message(name, {key: value,\n",
       "                             guiEvent: simpleKeys(event)});\n",
       "    return false;\n",
       "}\n",
       "\n",
       "mpl.figure.prototype.toolbar_button_onclick = function(name) {\n",
       "    if (name == 'download') {\n",
       "        this.handle_save(this, null);\n",
       "    } else {\n",
       "        this.send_message(\"toolbar_button\", {name: name});\n",
       "    }\n",
       "};\n",
       "\n",
       "mpl.figure.prototype.toolbar_button_onmouseover = function(tooltip) {\n",
       "    this.message.textContent = tooltip;\n",
       "};\n",
       "mpl.toolbar_items = [[\"Home\", \"Reset original view\", \"fa fa-home icon-home\", \"home\"], [\"Back\", \"Back to previous view\", \"fa fa-arrow-left icon-arrow-left\", \"back\"], [\"Forward\", \"Forward to next view\", \"fa fa-arrow-right icon-arrow-right\", \"forward\"], [\"\", \"\", \"\", \"\"], [\"Pan\", \"Pan axes with left mouse, zoom with right\", \"fa fa-arrows icon-move\", \"pan\"], [\"Zoom\", \"Zoom to rectangle\", \"fa fa-square-o icon-check-empty\", \"zoom\"], [\"\", \"\", \"\", \"\"], [\"Download\", \"Download plot\", \"fa fa-floppy-o icon-save\", \"download\"]];\n",
       "\n",
       "mpl.extensions = [\"eps\", \"jpeg\", \"pdf\", \"png\", \"ps\", \"raw\", \"svg\", \"tif\"];\n",
       "\n",
       "mpl.default_extension = \"png\";var comm_websocket_adapter = function(comm) {\n",
       "    // Create a \"websocket\"-like object which calls the given IPython comm\n",
       "    // object with the appropriate methods. Currently this is a non binary\n",
       "    // socket, so there is still some room for performance tuning.\n",
       "    var ws = {};\n",
       "\n",
       "    ws.close = function() {\n",
       "        comm.close()\n",
       "    };\n",
       "    ws.send = function(m) {\n",
       "        //console.log('sending', m);\n",
       "        comm.send(m);\n",
       "    };\n",
       "    // Register the callback with on_msg.\n",
       "    comm.on_msg(function(msg) {\n",
       "        //console.log('receiving', msg['content']['data'], msg);\n",
       "        // Pass the mpl event to the overridden (by mpl) onmessage function.\n",
       "        ws.onmessage(msg['content']['data'])\n",
       "    });\n",
       "    return ws;\n",
       "}\n",
       "\n",
       "mpl.mpl_figure_comm = function(comm, msg) {\n",
       "    // This is the function which gets called when the mpl process\n",
       "    // starts-up an IPython Comm through the \"matplotlib\" channel.\n",
       "\n",
       "    var id = msg.content.data.id;\n",
       "    // Get hold of the div created by the display call when the Comm\n",
       "    // socket was opened in Python.\n",
       "    var element = $(\"#\" + id);\n",
       "    var ws_proxy = comm_websocket_adapter(comm)\n",
       "\n",
       "    function ondownload(figure, format) {\n",
       "        window.open(figure.imageObj.src);\n",
       "    }\n",
       "\n",
       "    var fig = new mpl.figure(id, ws_proxy,\n",
       "                           ondownload,\n",
       "                           element.get(0));\n",
       "\n",
       "    // Call onopen now - mpl needs it, as it is assuming we've passed it a real\n",
       "    // web socket which is closed, not our websocket->open comm proxy.\n",
       "    ws_proxy.onopen();\n",
       "\n",
       "    fig.parent_element = element.get(0);\n",
       "    fig.cell_info = mpl.find_output_cell(\"<div id='\" + id + \"'></div>\");\n",
       "    if (!fig.cell_info) {\n",
       "        console.error(\"Failed to find cell for figure\", id, fig);\n",
       "        return;\n",
       "    }\n",
       "\n",
       "    var output_index = fig.cell_info[2]\n",
       "    var cell = fig.cell_info[0];\n",
       "\n",
       "};\n",
       "\n",
       "mpl.figure.prototype.handle_close = function(fig, msg) {\n",
       "    var width = fig.canvas.width/mpl.ratio\n",
       "    fig.root.unbind('remove')\n",
       "\n",
       "    // Update the output cell to use the data from the current canvas.\n",
       "    fig.push_to_output();\n",
       "    var dataURL = fig.canvas.toDataURL();\n",
       "    // Re-enable the keyboard manager in IPython - without this line, in FF,\n",
       "    // the notebook keyboard shortcuts fail.\n",
       "    IPython.keyboard_manager.enable()\n",
       "    $(fig.parent_element).html('<img src=\"' + dataURL + '\" width=\"' + width + '\">');\n",
       "    fig.close_ws(fig, msg);\n",
       "}\n",
       "\n",
       "mpl.figure.prototype.close_ws = function(fig, msg){\n",
       "    fig.send_message('closing', msg);\n",
       "    // fig.ws.close()\n",
       "}\n",
       "\n",
       "mpl.figure.prototype.push_to_output = function(remove_interactive) {\n",
       "    // Turn the data on the canvas into data in the output cell.\n",
       "    var width = this.canvas.width/mpl.ratio\n",
       "    var dataURL = this.canvas.toDataURL();\n",
       "    this.cell_info[1]['text/html'] = '<img src=\"' + dataURL + '\" width=\"' + width + '\">';\n",
       "}\n",
       "\n",
       "mpl.figure.prototype.updated_canvas_event = function() {\n",
       "    // Tell IPython that the notebook contents must change.\n",
       "    IPython.notebook.set_dirty(true);\n",
       "    this.send_message(\"ack\", {});\n",
       "    var fig = this;\n",
       "    // Wait a second, then push the new image to the DOM so\n",
       "    // that it is saved nicely (might be nice to debounce this).\n",
       "    setTimeout(function () { fig.push_to_output() }, 1000);\n",
       "}\n",
       "\n",
       "mpl.figure.prototype._init_toolbar = function() {\n",
       "    var fig = this;\n",
       "\n",
       "    var nav_element = $('<div/>');\n",
       "    nav_element.attr('style', 'width: 100%');\n",
       "    this.root.append(nav_element);\n",
       "\n",
       "    // Define a callback function for later on.\n",
       "    function toolbar_event(event) {\n",
       "        return fig.toolbar_button_onclick(event['data']);\n",
       "    }\n",
       "    function toolbar_mouse_event(event) {\n",
       "        return fig.toolbar_button_onmouseover(event['data']);\n",
       "    }\n",
       "\n",
       "    for(var toolbar_ind in mpl.toolbar_items){\n",
       "        var name = mpl.toolbar_items[toolbar_ind][0];\n",
       "        var tooltip = mpl.toolbar_items[toolbar_ind][1];\n",
       "        var image = mpl.toolbar_items[toolbar_ind][2];\n",
       "        var method_name = mpl.toolbar_items[toolbar_ind][3];\n",
       "\n",
       "        if (!name) { continue; };\n",
       "\n",
       "        var button = $('<button class=\"btn btn-default\" href=\"#\" title=\"' + name + '\"><i class=\"fa ' + image + ' fa-lg\"></i></button>');\n",
       "        button.click(method_name, toolbar_event);\n",
       "        button.mouseover(tooltip, toolbar_mouse_event);\n",
       "        nav_element.append(button);\n",
       "    }\n",
       "\n",
       "    // Add the status bar.\n",
       "    var status_bar = $('<span class=\"mpl-message\" style=\"text-align:right; float: right;\"/>');\n",
       "    nav_element.append(status_bar);\n",
       "    this.message = status_bar[0];\n",
       "\n",
       "    // Add the close button to the window.\n",
       "    var buttongrp = $('<div class=\"btn-group inline pull-right\"></div>');\n",
       "    var button = $('<button class=\"btn btn-mini btn-primary\" href=\"#\" title=\"Stop Interaction\"><i class=\"fa fa-power-off icon-remove icon-large\"></i></button>');\n",
       "    button.click(function (evt) { fig.handle_close(fig, {}); } );\n",
       "    button.mouseover('Stop Interaction', toolbar_mouse_event);\n",
       "    buttongrp.append(button);\n",
       "    var titlebar = this.root.find($('.ui-dialog-titlebar'));\n",
       "    titlebar.prepend(buttongrp);\n",
       "}\n",
       "\n",
       "mpl.figure.prototype._root_extra_style = function(el){\n",
       "    var fig = this\n",
       "    el.on(\"remove\", function(){\n",
       "\tfig.close_ws(fig, {});\n",
       "    });\n",
       "}\n",
       "\n",
       "mpl.figure.prototype._canvas_extra_style = function(el){\n",
       "    // this is important to make the div 'focusable\n",
       "    el.attr('tabindex', 0)\n",
       "    // reach out to IPython and tell the keyboard manager to turn it's self\n",
       "    // off when our div gets focus\n",
       "\n",
       "    // location in version 3\n",
       "    if (IPython.notebook.keyboard_manager) {\n",
       "        IPython.notebook.keyboard_manager.register_events(el);\n",
       "    }\n",
       "    else {\n",
       "        // location in version 2\n",
       "        IPython.keyboard_manager.register_events(el);\n",
       "    }\n",
       "\n",
       "}\n",
       "\n",
       "mpl.figure.prototype._key_event_extra = function(event, name) {\n",
       "    var manager = IPython.notebook.keyboard_manager;\n",
       "    if (!manager)\n",
       "        manager = IPython.keyboard_manager;\n",
       "\n",
       "    // Check for shift+enter\n",
       "    if (event.shiftKey && event.which == 13) {\n",
       "        this.canvas_div.blur();\n",
       "        event.shiftKey = false;\n",
       "        // Send a \"J\" for go to next cell\n",
       "        event.which = 74;\n",
       "        event.keyCode = 74;\n",
       "        manager.command_mode();\n",
       "        manager.handle_keydown(event);\n",
       "    }\n",
       "}\n",
       "\n",
       "mpl.figure.prototype.handle_save = function(fig, msg) {\n",
       "    fig.ondownload(fig, null);\n",
       "}\n",
       "\n",
       "\n",
       "mpl.find_output_cell = function(html_output) {\n",
       "    // Return the cell and output element which can be found *uniquely* in the notebook.\n",
       "    // Note - this is a bit hacky, but it is done because the \"notebook_saving.Notebook\"\n",
       "    // IPython event is triggered only after the cells have been serialised, which for\n",
       "    // our purposes (turning an active figure into a static one), is too late.\n",
       "    var cells = IPython.notebook.get_cells();\n",
       "    var ncells = cells.length;\n",
       "    for (var i=0; i<ncells; i++) {\n",
       "        var cell = cells[i];\n",
       "        if (cell.cell_type === 'code'){\n",
       "            for (var j=0; j<cell.output_area.outputs.length; j++) {\n",
       "                var data = cell.output_area.outputs[j];\n",
       "                if (data.data) {\n",
       "                    // IPython >= 3 moved mimebundle to data attribute of output\n",
       "                    data = data.data;\n",
       "                }\n",
       "                if (data['text/html'] == html_output) {\n",
       "                    return [cell, data, j];\n",
       "                }\n",
       "            }\n",
       "        }\n",
       "    }\n",
       "}\n",
       "\n",
       "// Register the function which deals with the matplotlib target/channel.\n",
       "// The kernel may be null if the page has been refreshed.\n",
       "if (IPython.notebook.kernel != null) {\n",
       "    IPython.notebook.kernel.comm_manager.register_target('matplotlib', mpl.mpl_figure_comm);\n",
       "}\n"
      ],
      "text/plain": [
       "<IPython.core.display.Javascript object>"
      ]
     },
     "metadata": {},
     "output_type": "display_data"
    },
    {
     "data": {
      "text/html": [
       "<img src=\"data:image/png;base64,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\" width=\"640\">"
      ],
      "text/plain": [
       "<IPython.core.display.HTML object>"
      ]
     },
     "metadata": {},
     "output_type": "display_data"
    },
    {
     "data": {
      "text/plain": [
       "<sunpy.visualization.animator.mapsequenceanimator.MapSequenceAnimator at 0x7f91533f9d10>"
      ]
     },
     "execution_count": 10,
     "metadata": {},
     "output_type": "execute_result"
    }
   ],
   "source": [
    "mapsequence.peek()"
   ]
  },
  {
   "cell_type": "markdown",
   "metadata": {},
   "source": [
    "## More Complex Searching"
   ]
  },
  {
   "cell_type": "markdown",
   "metadata": {},
   "source": [
    "In this example we will use the logical operators to combine attributes into a complex multi-instrument query."
   ]
  },
  {
   "cell_type": "markdown",
   "metadata": {},
   "source": [
    "You can use the `&` and operator or the `|` or operator to make queries. In the previous example all arguments to `vc.query` had the and operator applied, we performed a search where the Instrument *and* the Wavelength *and* the time matched. We could have done this explicitly like this:"
   ]
  },
  {
   "cell_type": "code",
   "execution_count": 11,
   "metadata": {},
   "outputs": [
    {
     "data": {
      "text/html": [
       "Results from 1 Provider:</br></br>401 Results from the VSOClient:</br><i>QTable length=401</i>\n",
       "<table id=\"table140262133439696\" class=\"table-striped table-bordered table-condensed\">\n",
       "<thead><tr><th>Start Time [1]</th><th>End Time [1]</th><th>Source</th><th>Instrument</th><th>Type</th><th>Wavelength [2]</th></tr></thead>\n",
       "<thead><tr><th></th><th></th><th></th><th></th><th></th><th>Angstrom</th></tr></thead>\n",
       "<thead><tr><th>str19</th><th>str19</th><th>str3</th><th>str3</th><th>str8</th><th>float64</th></tr></thead>\n",
       "<tr><td>2016-02-03 00:00:00</td><td>2016-02-03 00:00:01</td><td>SDO</td><td>AIA</td><td>FULLDISK</td><td>94.0 .. 94.0</td></tr>\n",
       "<tr><td>2016-02-03 00:00:01</td><td>2016-02-03 00:00:02</td><td>SDO</td><td>AIA</td><td>FULLDISK</td><td>335.0 .. 335.0</td></tr>\n",
       "<tr><td>2016-02-03 00:00:05</td><td>2016-02-03 00:00:06</td><td>SDO</td><td>AIA</td><td>FULLDISK</td><td>193.0 .. 193.0</td></tr>\n",
       "<tr><td>2016-02-03 00:00:06</td><td>2016-02-03 00:00:07</td><td>SDO</td><td>AIA</td><td>FULLDISK</td><td>304.0 .. 304.0</td></tr>\n",
       "<tr><td>2016-02-03 00:00:06</td><td>2016-02-03 00:00:07</td><td>SDO</td><td>AIA</td><td>FULLDISK</td><td>4500.0 .. 4500.0</td></tr>\n",
       "<tr><td>2016-02-03 00:00:07</td><td>2016-02-03 00:00:08</td><td>SDO</td><td>AIA</td><td>FULLDISK</td><td>131.0 .. 131.0</td></tr>\n",
       "<tr><td>2016-02-03 00:00:10</td><td>2016-02-03 00:00:11</td><td>SDO</td><td>AIA</td><td>FULLDISK</td><td>171.0 .. 171.0</td></tr>\n",
       "<tr><td>2016-02-03 00:00:10</td><td>2016-02-03 00:00:11</td><td>SDO</td><td>AIA</td><td>FULLDISK</td><td>211.0 .. 211.0</td></tr>\n",
       "<tr><td>2016-02-03 00:00:12</td><td>2016-02-03 00:00:13</td><td>SDO</td><td>AIA</td><td>FULLDISK</td><td>94.0 .. 94.0</td></tr>\n",
       "<tr><td>...</td><td>...</td><td>...</td><td>...</td><td>...</td><td>...</td></tr>\n",
       "<tr><td>2016-02-03 00:09:46</td><td>2016-02-03 00:09:47</td><td>SDO</td><td>AIA</td><td>FULLDISK</td><td>211.0 .. 211.0</td></tr>\n",
       "<tr><td>2016-02-03 00:09:48</td><td>2016-02-03 00:09:49</td><td>SDO</td><td>AIA</td><td>FULLDISK</td><td>94.0 .. 94.0</td></tr>\n",
       "<tr><td>2016-02-03 00:09:49</td><td>2016-02-03 00:09:50</td><td>SDO</td><td>AIA</td><td>FULLDISK</td><td>335.0 .. 335.0</td></tr>\n",
       "<tr><td>2016-02-03 00:09:51</td><td>2016-02-03 00:09:52</td><td>SDO</td><td>AIA</td><td>FULLDISK</td><td>1600.0 .. 1600.0</td></tr>\n",
       "<tr><td>2016-02-03 00:09:53</td><td>2016-02-03 00:09:54</td><td>SDO</td><td>AIA</td><td>FULLDISK</td><td>193.0 .. 193.0</td></tr>\n",
       "<tr><td>2016-02-03 00:09:54</td><td>2016-02-03 00:09:55</td><td>SDO</td><td>AIA</td><td>FULLDISK</td><td>304.0 .. 304.0</td></tr>\n",
       "<tr><td>2016-02-03 00:09:55</td><td>2016-02-03 00:09:56</td><td>SDO</td><td>AIA</td><td>FULLDISK</td><td>131.0 .. 131.0</td></tr>\n",
       "<tr><td>2016-02-03 00:09:58</td><td>2016-02-03 00:09:59</td><td>SDO</td><td>AIA</td><td>FULLDISK</td><td>171.0 .. 171.0</td></tr>\n",
       "<tr><td>2016-02-03 00:09:58</td><td>2016-02-03 00:09:59</td><td>SDO</td><td>AIA</td><td>FULLDISK</td><td>211.0 .. 211.0</td></tr>\n",
       "<tr><td>2016-02-03 00:10:00</td><td>2016-02-03 00:10:01</td><td>SDO</td><td>AIA</td><td>FULLDISK</td><td>94.0 .. 94.0</td></tr>\n",
       "</table></br>"
      ],
      "text/plain": [
       "<sunpy.net.fido_factory.UnifiedResponse object at 0x7f9153411950>\n",
       "Results from 1 Provider:\n",
       "\n",
       "401 Results from the VSOClient:\n",
       "   Start Time [1]       End Time [1]    Source ...   Type    Wavelength [2] \n",
       "                                               ...              Angstrom    \n",
       "       str19               str19         str3  ...   str8       float64     \n",
       "------------------- ------------------- ------ ... -------- ----------------\n",
       "2016-02-03 00:00:00 2016-02-03 00:00:01    SDO ... FULLDISK     94.0 .. 94.0\n",
       "2016-02-03 00:00:01 2016-02-03 00:00:02    SDO ... FULLDISK   335.0 .. 335.0\n",
       "2016-02-03 00:00:05 2016-02-03 00:00:06    SDO ... FULLDISK   193.0 .. 193.0\n",
       "2016-02-03 00:00:06 2016-02-03 00:00:07    SDO ... FULLDISK   304.0 .. 304.0\n",
       "2016-02-03 00:00:06 2016-02-03 00:00:07    SDO ... FULLDISK 4500.0 .. 4500.0\n",
       "2016-02-03 00:00:07 2016-02-03 00:00:08    SDO ... FULLDISK   131.0 .. 131.0\n",
       "2016-02-03 00:00:10 2016-02-03 00:00:11    SDO ... FULLDISK   171.0 .. 171.0\n",
       "2016-02-03 00:00:10 2016-02-03 00:00:11    SDO ... FULLDISK   211.0 .. 211.0\n",
       "2016-02-03 00:00:12 2016-02-03 00:00:13    SDO ... FULLDISK     94.0 .. 94.0\n",
       "                ...                 ...    ... ...      ...              ...\n",
       "2016-02-03 00:09:46 2016-02-03 00:09:47    SDO ... FULLDISK   211.0 .. 211.0\n",
       "2016-02-03 00:09:48 2016-02-03 00:09:49    SDO ... FULLDISK     94.0 .. 94.0\n",
       "2016-02-03 00:09:49 2016-02-03 00:09:50    SDO ... FULLDISK   335.0 .. 335.0\n",
       "2016-02-03 00:09:51 2016-02-03 00:09:52    SDO ... FULLDISK 1600.0 .. 1600.0\n",
       "2016-02-03 00:09:53 2016-02-03 00:09:54    SDO ... FULLDISK   193.0 .. 193.0\n",
       "2016-02-03 00:09:54 2016-02-03 00:09:55    SDO ... FULLDISK   304.0 .. 304.0\n",
       "2016-02-03 00:09:55 2016-02-03 00:09:56    SDO ... FULLDISK   131.0 .. 131.0\n",
       "2016-02-03 00:09:58 2016-02-03 00:09:59    SDO ... FULLDISK   171.0 .. 171.0\n",
       "2016-02-03 00:09:58 2016-02-03 00:09:59    SDO ... FULLDISK   211.0 .. 211.0\n",
       "2016-02-03 00:10:00 2016-02-03 00:10:01    SDO ... FULLDISK     94.0 .. 94.0\n"
      ]
     },
     "execution_count": 11,
     "metadata": {},
     "output_type": "execute_result"
    }
   ],
   "source": [
    "mysearch = a.Time(\"2016/02/03\", \"2016/02/03T00:10:00\") & a.Instrument('AIA')\n",
    "Fido.search(mysearch)"
   ]
  },
  {
   "cell_type": "markdown",
   "metadata": {},
   "source": [
    "If we want to do the same query but for two seperate wavelengths we can use the `|` or operator:"
   ]
  },
  {
   "cell_type": "code",
   "execution_count": 12,
   "metadata": {},
   "outputs": [],
   "source": [
    "instrument = a.Time(\"2016/02/03\", \"2016/02/03T00:10:00\") & a.Instrument('AIA')\n",
    "wavelength = a.Wavelength(17.1*u.nm, 17.1*u.nm) | a.Wavelength(304*u.AA, 304*u.AA)\n",
    "mysearch = instrument & wavelength"
   ]
  },
  {
   "cell_type": "code",
   "execution_count": 13,
   "metadata": {},
   "outputs": [
    {
     "data": {
      "text/html": [
       "Results from 2 Providers:</br></br>50 Results from the VSOClient:</br><i>QTable length=50</i>\n",
       "<table id=\"table140262089513744\" class=\"table-striped table-bordered table-condensed\">\n",
       "<thead><tr><th>Start Time [1]</th><th>End Time [1]</th><th>Source</th><th>Instrument</th><th>Type</th><th>Wavelength [2]</th></tr></thead>\n",
       "<thead><tr><th></th><th></th><th></th><th></th><th></th><th>Angstrom</th></tr></thead>\n",
       "<thead><tr><th>str19</th><th>str19</th><th>str3</th><th>str3</th><th>str8</th><th>float64</th></tr></thead>\n",
       "<tr><td>2016-02-03 00:00:10</td><td>2016-02-03 00:00:11</td><td>SDO</td><td>AIA</td><td>FULLDISK</td><td>171.0 .. 171.0</td></tr>\n",
       "<tr><td>2016-02-03 00:00:22</td><td>2016-02-03 00:00:23</td><td>SDO</td><td>AIA</td><td>FULLDISK</td><td>171.0 .. 171.0</td></tr>\n",
       "<tr><td>2016-02-03 00:00:34</td><td>2016-02-03 00:00:35</td><td>SDO</td><td>AIA</td><td>FULLDISK</td><td>171.0 .. 171.0</td></tr>\n",
       "<tr><td>2016-02-03 00:00:46</td><td>2016-02-03 00:00:47</td><td>SDO</td><td>AIA</td><td>FULLDISK</td><td>171.0 .. 171.0</td></tr>\n",
       "<tr><td>2016-02-03 00:00:58</td><td>2016-02-03 00:00:59</td><td>SDO</td><td>AIA</td><td>FULLDISK</td><td>171.0 .. 171.0</td></tr>\n",
       "<tr><td>2016-02-03 00:01:10</td><td>2016-02-03 00:01:11</td><td>SDO</td><td>AIA</td><td>FULLDISK</td><td>171.0 .. 171.0</td></tr>\n",
       "<tr><td>2016-02-03 00:01:22</td><td>2016-02-03 00:01:23</td><td>SDO</td><td>AIA</td><td>FULLDISK</td><td>171.0 .. 171.0</td></tr>\n",
       "<tr><td>2016-02-03 00:01:34</td><td>2016-02-03 00:01:35</td><td>SDO</td><td>AIA</td><td>FULLDISK</td><td>171.0 .. 171.0</td></tr>\n",
       "<tr><td>2016-02-03 00:01:46</td><td>2016-02-03 00:01:47</td><td>SDO</td><td>AIA</td><td>FULLDISK</td><td>171.0 .. 171.0</td></tr>\n",
       "<tr><td>...</td><td>...</td><td>...</td><td>...</td><td>...</td><td>...</td></tr>\n",
       "<tr><td>2016-02-03 00:08:10</td><td>2016-02-03 00:08:11</td><td>SDO</td><td>AIA</td><td>FULLDISK</td><td>171.0 .. 171.0</td></tr>\n",
       "<tr><td>2016-02-03 00:08:22</td><td>2016-02-03 00:08:23</td><td>SDO</td><td>AIA</td><td>FULLDISK</td><td>171.0 .. 171.0</td></tr>\n",
       "<tr><td>2016-02-03 00:08:34</td><td>2016-02-03 00:08:35</td><td>SDO</td><td>AIA</td><td>FULLDISK</td><td>171.0 .. 171.0</td></tr>\n",
       "<tr><td>2016-02-03 00:08:46</td><td>2016-02-03 00:08:47</td><td>SDO</td><td>AIA</td><td>FULLDISK</td><td>171.0 .. 171.0</td></tr>\n",
       "<tr><td>2016-02-03 00:08:58</td><td>2016-02-03 00:08:59</td><td>SDO</td><td>AIA</td><td>FULLDISK</td><td>171.0 .. 171.0</td></tr>\n",
       "<tr><td>2016-02-03 00:09:10</td><td>2016-02-03 00:09:11</td><td>SDO</td><td>AIA</td><td>FULLDISK</td><td>171.0 .. 171.0</td></tr>\n",
       "<tr><td>2016-02-03 00:09:22</td><td>2016-02-03 00:09:23</td><td>SDO</td><td>AIA</td><td>FULLDISK</td><td>171.0 .. 171.0</td></tr>\n",
       "<tr><td>2016-02-03 00:09:34</td><td>2016-02-03 00:09:35</td><td>SDO</td><td>AIA</td><td>FULLDISK</td><td>171.0 .. 171.0</td></tr>\n",
       "<tr><td>2016-02-03 00:09:46</td><td>2016-02-03 00:09:47</td><td>SDO</td><td>AIA</td><td>FULLDISK</td><td>171.0 .. 171.0</td></tr>\n",
       "<tr><td>2016-02-03 00:09:58</td><td>2016-02-03 00:09:59</td><td>SDO</td><td>AIA</td><td>FULLDISK</td><td>171.0 .. 171.0</td></tr>\n",
       "</table></br>50 Results from the VSOClient:</br><i>QTable length=50</i>\n",
       "<table id=\"table140261946333648\" class=\"table-striped table-bordered table-condensed\">\n",
       "<thead><tr><th>Start Time [1]</th><th>End Time [1]</th><th>Source</th><th>Instrument</th><th>Type</th><th>Wavelength [2]</th></tr></thead>\n",
       "<thead><tr><th></th><th></th><th></th><th></th><th></th><th>Angstrom</th></tr></thead>\n",
       "<thead><tr><th>str19</th><th>str19</th><th>str3</th><th>str3</th><th>str8</th><th>float64</th></tr></thead>\n",
       "<tr><td>2016-02-03 00:00:06</td><td>2016-02-03 00:00:07</td><td>SDO</td><td>AIA</td><td>FULLDISK</td><td>304.0 .. 304.0</td></tr>\n",
       "<tr><td>2016-02-03 00:00:18</td><td>2016-02-03 00:00:19</td><td>SDO</td><td>AIA</td><td>FULLDISK</td><td>304.0 .. 304.0</td></tr>\n",
       "<tr><td>2016-02-03 00:00:30</td><td>2016-02-03 00:00:31</td><td>SDO</td><td>AIA</td><td>FULLDISK</td><td>304.0 .. 304.0</td></tr>\n",
       "<tr><td>2016-02-03 00:00:42</td><td>2016-02-03 00:00:43</td><td>SDO</td><td>AIA</td><td>FULLDISK</td><td>304.0 .. 304.0</td></tr>\n",
       "<tr><td>2016-02-03 00:00:54</td><td>2016-02-03 00:00:55</td><td>SDO</td><td>AIA</td><td>FULLDISK</td><td>304.0 .. 304.0</td></tr>\n",
       "<tr><td>2016-02-03 00:01:06</td><td>2016-02-03 00:01:07</td><td>SDO</td><td>AIA</td><td>FULLDISK</td><td>304.0 .. 304.0</td></tr>\n",
       "<tr><td>2016-02-03 00:01:18</td><td>2016-02-03 00:01:19</td><td>SDO</td><td>AIA</td><td>FULLDISK</td><td>304.0 .. 304.0</td></tr>\n",
       "<tr><td>2016-02-03 00:01:30</td><td>2016-02-03 00:01:31</td><td>SDO</td><td>AIA</td><td>FULLDISK</td><td>304.0 .. 304.0</td></tr>\n",
       "<tr><td>2016-02-03 00:01:42</td><td>2016-02-03 00:01:43</td><td>SDO</td><td>AIA</td><td>FULLDISK</td><td>304.0 .. 304.0</td></tr>\n",
       "<tr><td>...</td><td>...</td><td>...</td><td>...</td><td>...</td><td>...</td></tr>\n",
       "<tr><td>2016-02-03 00:08:06</td><td>2016-02-03 00:08:07</td><td>SDO</td><td>AIA</td><td>FULLDISK</td><td>304.0 .. 304.0</td></tr>\n",
       "<tr><td>2016-02-03 00:08:18</td><td>2016-02-03 00:08:19</td><td>SDO</td><td>AIA</td><td>FULLDISK</td><td>304.0 .. 304.0</td></tr>\n",
       "<tr><td>2016-02-03 00:08:30</td><td>2016-02-03 00:08:31</td><td>SDO</td><td>AIA</td><td>FULLDISK</td><td>304.0 .. 304.0</td></tr>\n",
       "<tr><td>2016-02-03 00:08:42</td><td>2016-02-03 00:08:43</td><td>SDO</td><td>AIA</td><td>FULLDISK</td><td>304.0 .. 304.0</td></tr>\n",
       "<tr><td>2016-02-03 00:08:54</td><td>2016-02-03 00:08:55</td><td>SDO</td><td>AIA</td><td>FULLDISK</td><td>304.0 .. 304.0</td></tr>\n",
       "<tr><td>2016-02-03 00:09:06</td><td>2016-02-03 00:09:07</td><td>SDO</td><td>AIA</td><td>FULLDISK</td><td>304.0 .. 304.0</td></tr>\n",
       "<tr><td>2016-02-03 00:09:18</td><td>2016-02-03 00:09:19</td><td>SDO</td><td>AIA</td><td>FULLDISK</td><td>304.0 .. 304.0</td></tr>\n",
       "<tr><td>2016-02-03 00:09:30</td><td>2016-02-03 00:09:31</td><td>SDO</td><td>AIA</td><td>FULLDISK</td><td>304.0 .. 304.0</td></tr>\n",
       "<tr><td>2016-02-03 00:09:42</td><td>2016-02-03 00:09:43</td><td>SDO</td><td>AIA</td><td>FULLDISK</td><td>304.0 .. 304.0</td></tr>\n",
       "<tr><td>2016-02-03 00:09:54</td><td>2016-02-03 00:09:55</td><td>SDO</td><td>AIA</td><td>FULLDISK</td><td>304.0 .. 304.0</td></tr>\n",
       "</table></br>"
      ],
      "text/plain": [
       "<sunpy.net.fido_factory.UnifiedResponse object at 0x7f9152a55c90>\n",
       "Results from 2 Providers:\n",
       "\n",
       "50 Results from the VSOClient:\n",
       "   Start Time [1]       End Time [1]    Source ...   Type   Wavelength [2]\n",
       "                                               ...             Angstrom   \n",
       "       str19               str19         str3  ...   str8      float64    \n",
       "------------------- ------------------- ------ ... -------- --------------\n",
       "2016-02-03 00:00:10 2016-02-03 00:00:11    SDO ... FULLDISK 171.0 .. 171.0\n",
       "2016-02-03 00:00:22 2016-02-03 00:00:23    SDO ... FULLDISK 171.0 .. 171.0\n",
       "2016-02-03 00:00:34 2016-02-03 00:00:35    SDO ... FULLDISK 171.0 .. 171.0\n",
       "2016-02-03 00:00:46 2016-02-03 00:00:47    SDO ... FULLDISK 171.0 .. 171.0\n",
       "2016-02-03 00:00:58 2016-02-03 00:00:59    SDO ... FULLDISK 171.0 .. 171.0\n",
       "2016-02-03 00:01:10 2016-02-03 00:01:11    SDO ... FULLDISK 171.0 .. 171.0\n",
       "2016-02-03 00:01:22 2016-02-03 00:01:23    SDO ... FULLDISK 171.0 .. 171.0\n",
       "2016-02-03 00:01:34 2016-02-03 00:01:35    SDO ... FULLDISK 171.0 .. 171.0\n",
       "2016-02-03 00:01:46 2016-02-03 00:01:47    SDO ... FULLDISK 171.0 .. 171.0\n",
       "                ...                 ...    ... ...      ...            ...\n",
       "2016-02-03 00:08:10 2016-02-03 00:08:11    SDO ... FULLDISK 171.0 .. 171.0\n",
       "2016-02-03 00:08:22 2016-02-03 00:08:23    SDO ... FULLDISK 171.0 .. 171.0\n",
       "2016-02-03 00:08:34 2016-02-03 00:08:35    SDO ... FULLDISK 171.0 .. 171.0\n",
       "2016-02-03 00:08:46 2016-02-03 00:08:47    SDO ... FULLDISK 171.0 .. 171.0\n",
       "2016-02-03 00:08:58 2016-02-03 00:08:59    SDO ... FULLDISK 171.0 .. 171.0\n",
       "2016-02-03 00:09:10 2016-02-03 00:09:11    SDO ... FULLDISK 171.0 .. 171.0\n",
       "2016-02-03 00:09:22 2016-02-03 00:09:23    SDO ... FULLDISK 171.0 .. 171.0\n",
       "2016-02-03 00:09:34 2016-02-03 00:09:35    SDO ... FULLDISK 171.0 .. 171.0\n",
       "2016-02-03 00:09:46 2016-02-03 00:09:47    SDO ... FULLDISK 171.0 .. 171.0\n",
       "2016-02-03 00:09:58 2016-02-03 00:09:59    SDO ... FULLDISK 171.0 .. 171.0\n",
       "\n",
       "50 Results from the VSOClient:\n",
       "   Start Time [1]       End Time [1]    Source ...   Type   Wavelength [2]\n",
       "                                               ...             Angstrom   \n",
       "       str19               str19         str3  ...   str8      float64    \n",
       "------------------- ------------------- ------ ... -------- --------------\n",
       "2016-02-03 00:00:06 2016-02-03 00:00:07    SDO ... FULLDISK 304.0 .. 304.0\n",
       "2016-02-03 00:00:18 2016-02-03 00:00:19    SDO ... FULLDISK 304.0 .. 304.0\n",
       "2016-02-03 00:00:30 2016-02-03 00:00:31    SDO ... FULLDISK 304.0 .. 304.0\n",
       "2016-02-03 00:00:42 2016-02-03 00:00:43    SDO ... FULLDISK 304.0 .. 304.0\n",
       "2016-02-03 00:00:54 2016-02-03 00:00:55    SDO ... FULLDISK 304.0 .. 304.0\n",
       "2016-02-03 00:01:06 2016-02-03 00:01:07    SDO ... FULLDISK 304.0 .. 304.0\n",
       "2016-02-03 00:01:18 2016-02-03 00:01:19    SDO ... FULLDISK 304.0 .. 304.0\n",
       "2016-02-03 00:01:30 2016-02-03 00:01:31    SDO ... FULLDISK 304.0 .. 304.0\n",
       "2016-02-03 00:01:42 2016-02-03 00:01:43    SDO ... FULLDISK 304.0 .. 304.0\n",
       "                ...                 ...    ... ...      ...            ...\n",
       "2016-02-03 00:08:06 2016-02-03 00:08:07    SDO ... FULLDISK 304.0 .. 304.0\n",
       "2016-02-03 00:08:18 2016-02-03 00:08:19    SDO ... FULLDISK 304.0 .. 304.0\n",
       "2016-02-03 00:08:30 2016-02-03 00:08:31    SDO ... FULLDISK 304.0 .. 304.0\n",
       "2016-02-03 00:08:42 2016-02-03 00:08:43    SDO ... FULLDISK 304.0 .. 304.0\n",
       "2016-02-03 00:08:54 2016-02-03 00:08:55    SDO ... FULLDISK 304.0 .. 304.0\n",
       "2016-02-03 00:09:06 2016-02-03 00:09:07    SDO ... FULLDISK 304.0 .. 304.0\n",
       "2016-02-03 00:09:18 2016-02-03 00:09:19    SDO ... FULLDISK 304.0 .. 304.0\n",
       "2016-02-03 00:09:30 2016-02-03 00:09:31    SDO ... FULLDISK 304.0 .. 304.0\n",
       "2016-02-03 00:09:42 2016-02-03 00:09:43    SDO ... FULLDISK 304.0 .. 304.0\n",
       "2016-02-03 00:09:54 2016-02-03 00:09:55    SDO ... FULLDISK 304.0 .. 304.0\n"
      ]
     },
     "execution_count": 13,
     "metadata": {},
     "output_type": "execute_result"
    }
   ],
   "source": [
    "Fido.search(mysearch)"
   ]
  },
  {
   "cell_type": "markdown",
   "metadata": {},
   "source": [
    "### Multiple Instruments\n",
    "\n",
    "In this example we want to download one image from STEREO A EUVI and one image from SDO AIA as close together in time as we can. To do this we will define a search for the AIA image and a search for the EUVI image then 'or' them together."
   ]
  },
  {
   "cell_type": "code",
   "execution_count": 14,
   "metadata": {},
   "outputs": [],
   "source": [
    "stereo = (a.vso.Source('STEREO_A') &\n",
    "          a.Instrument('EUVI') &\n",
    "          a.Time('2011-01-01', '2011-01-01T00:10:00'))\n",
    "\n",
    "aia = (a.Instrument('AIA') &\n",
    "       a.Sample(24 * u.hour) &\n",
    "       a.Time('2011-01-01', '2011-01-02'))\n",
    "\n",
    "wave = a.Wavelength(30 * u.nm, 31 * u.nm)"
   ]
  },
  {
   "cell_type": "code",
   "execution_count": 15,
   "metadata": {},
   "outputs": [
    {
     "data": {
      "text/html": [
       "Results from 2 Providers:</br></br>1 Results from the VSOClient:</br><i>QTable length=1</i>\n",
       "<table id=\"table140261946170192\" class=\"table-striped table-bordered table-condensed\">\n",
       "<thead><tr><th>Start Time [1]</th><th>End Time [1]</th><th>Source</th><th>Instrument</th><th>Type</th><th>Wavelength [2]</th></tr></thead>\n",
       "<thead><tr><th></th><th></th><th></th><th></th><th></th><th>Angstrom</th></tr></thead>\n",
       "<thead><tr><th>str19</th><th>str19</th><th>str3</th><th>str3</th><th>str8</th><th>float64</th></tr></thead>\n",
       "<tr><td>2011-01-01 00:00:08</td><td>2011-01-01 00:00:09</td><td>SDO</td><td>AIA</td><td>FULLDISK</td><td>304.0 .. 304.0</td></tr>\n",
       "</table></br>1 Results from the VSOClient:</br><i>QTable length=1</i>\n",
       "<table id=\"table140261946005648\" class=\"table-striped table-bordered table-condensed\">\n",
       "<thead><tr><th>Start Time [1]</th><th>End Time [1]</th><th>Source</th><th>Instrument</th><th>Type</th><th>Wavelength [2]</th></tr></thead>\n",
       "<thead><tr><th></th><th></th><th></th><th></th><th></th><th>Angstrom</th></tr></thead>\n",
       "<thead><tr><th>str19</th><th>str19</th><th>str8</th><th>str6</th><th>str8</th><th>float64</th></tr></thead>\n",
       "<tr><td>2011-01-01 00:06:15</td><td>2011-01-01 00:06:19</td><td>STEREO_A</td><td>SECCHI</td><td>FULLDISK</td><td>304.0 .. 304.0</td></tr>\n",
       "</table></br>"
      ],
      "text/plain": [
       "<sunpy.net.fido_factory.UnifiedResponse object at 0x7f914774ec90>\n",
       "Results from 2 Providers:\n",
       "\n",
       "1 Results from the VSOClient:\n",
       "   Start Time [1]       End Time [1]    Source ...   Type   Wavelength [2]\n",
       "                                               ...             Angstrom   \n",
       "       str19               str19         str3  ...   str8      float64    \n",
       "------------------- ------------------- ------ ... -------- --------------\n",
       "2011-01-01 00:00:08 2011-01-01 00:00:09    SDO ... FULLDISK 304.0 .. 304.0\n",
       "\n",
       "1 Results from the VSOClient:\n",
       "   Start Time [1]       End Time [1]     Source  ...   Type   Wavelength [2]\n",
       "                                                 ...             Angstrom   \n",
       "       str19               str19          str8   ...   str8      float64    \n",
       "------------------- ------------------- -------- ... -------- --------------\n",
       "2011-01-01 00:06:15 2011-01-01 00:06:19 STEREO_A ... FULLDISK 304.0 .. 304.0\n"
      ]
     },
     "execution_count": 15,
     "metadata": {},
     "output_type": "execute_result"
    }
   ],
   "source": [
    "results = Fido.search(aia | stereo, wave)\n",
    "results"
   ]
  },
  {
   "cell_type": "code",
   "execution_count": 16,
   "metadata": {},
   "outputs": [
    {
     "data": {
      "application/vnd.jupyter.widget-view+json": {
       "model_id": "1129874c01894e209196a4f0584e49a6",
       "version_major": 2,
       "version_minor": 0
      },
      "text/plain": [
       "HBox(children=(IntProgress(value=0, description='Files Downloaded', max=2, style=ProgressStyle(description_wid…"
      ]
     },
     "metadata": {},
     "output_type": "display_data"
    },
    {
     "name": "stdout",
     "output_type": "stream",
     "text": [
      "\n"
     ]
    }
   ],
   "source": [
    "files = Fido.fetch(results)"
   ]
  },
  {
   "cell_type": "code",
   "execution_count": 17,
   "metadata": {},
   "outputs": [
    {
     "data": {
      "text/plain": [
       "<parfive.results.Results object at 0x7f9147751850>\n",
       "['/home/drew/sunpy/data/aia_lev1_304a_2011_01_01t00_00_08_12z_image_lev1.fits', '/home/drew/sunpy/data/secchi_l0_a_img_euvi_20110101_20110101_000615_n4eua.fts']"
      ]
     },
     "execution_count": 17,
     "metadata": {},
     "output_type": "execute_result"
    }
   ],
   "source": [
    "files"
   ]
  }
 ],
 "metadata": {
  "kernelspec": {
   "display_name": "Python 3",
   "language": "python",
   "name": "python3"
  },
  "language_info": {
   "codemirror_mode": {
    "name": "ipython",
    "version": 3
   },
   "file_extension": ".py",
   "mimetype": "text/x-python",
   "name": "python",
   "nbconvert_exporter": "python",
   "pygments_lexer": "ipython3",
   "version": "3.7.4"
  }
 },
 "nbformat": 4,
 "nbformat_minor": 1
}
