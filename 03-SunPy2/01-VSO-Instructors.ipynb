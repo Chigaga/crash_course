{
 "cells": [
  {
   "cell_type": "markdown",
   "metadata": {
    "collapsed": true
   },
   "source": [
    "# Downloading Data with VSO"
   ]
  },
  {
   "cell_type": "markdown",
   "metadata": {},
   "source": [
    "In this session we will be using the Virtual Solar Observatory (VSO) cilent in SunPy to download some EUV data which we will use in the next session. The VSO has access to a wide variety of different instruments and data sources, and the SunPy client allows you to create arbitarily complex queries to search and then download the data."
   ]
  },
  {
   "cell_type": "markdown",
   "metadata": {},
   "source": [
    "## Useful Links\n",
    "\n",
    "1. [Acquiring Data with SunPy](http://docs.sunpy.org/en/stable/guide/acquiring_data/index.html)\n",
    "1. [The VSO](http://virtualsolar.org/)\n",
    "1. [MapCube Documentation](http://docs.sunpy.org/en/stable/guide/data_types/maps.html#mapcubes)"
   ]
  },
  {
   "cell_type": "markdown",
   "metadata": {},
   "source": [
    "## The VSO Module"
   ]
  },
  {
   "cell_type": "markdown",
   "metadata": {},
   "source": [
    "SunPy's VSO submodule comes in two important parts, the `VSOClient` iteself, the thing that actually does the searching and donwloading of data and the 'attributes' which are things that allow you to build searches, they are things like `Time` or `Instrument`. We import them both: "
   ]
  },
  {
   "cell_type": "code",
   "execution_count": 1,
   "metadata": {},
   "outputs": [],
   "source": [
    "from sunpy.net import Fido, attrs as a\n",
    "import astropy.units as u"
   ]
  },
  {
   "cell_type": "markdown",
   "metadata": {},
   "source": [
    "Let's do a simple search for a day's worth of AIA data (don't worry, it wont download it all):"
   ]
  },
  {
   "cell_type": "code",
   "execution_count": 2,
   "metadata": {},
   "outputs": [],
   "source": [
    "results = Fido.search(a.Time(\"2016/02/03\", \"2016/02/04\"), a.Instrument('AIA'))"
   ]
  },
  {
   "cell_type": "code",
   "execution_count": 3,
   "metadata": {},
   "outputs": [
    {
     "data": {
      "text/html": [
       "Results from 1 Provider:</br></br>1336 Results from the VSOClient:</br><i>QTable length=1336</i>\n",
       "<table id=\"table140118037725136\" class=\"table-striped table-bordered table-condensed\">\n",
       "<thead><tr><th>Start Time [1]</th><th>End Time [1]</th><th>Source</th><th>Instrument</th><th>Type</th><th>Wavelength [2]</th></tr></thead>\n",
       "<thead><tr><th></th><th></th><th></th><th></th><th></th><th>Angstrom</th></tr></thead>\n",
       "<thead><tr><th>str19</th><th>str19</th><th>str3</th><th>str3</th><th>str8</th><th>float64</th></tr></thead>\n",
       "<tr><td>2016-02-03 19:49:22</td><td>2016-02-03 19:59:11</td><td>SDO</td><td>AIA</td><td>FULLDISK</td><td>211.0 .. 211.0</td></tr>\n",
       "<tr><td>2016-02-03 19:59:29</td><td>2016-02-03 20:09:18</td><td>SDO</td><td>AIA</td><td>FULLDISK</td><td>193.0 .. 193.0</td></tr>\n",
       "<tr><td>2016-02-03 18:09:24</td><td>2016-02-03 18:19:13</td><td>SDO</td><td>AIA</td><td>FULLDISK</td><td>94.0 .. 94.0</td></tr>\n",
       "<tr><td>2016-02-03 04:09:34</td><td>2016-02-03 04:19:23</td><td>SDO</td><td>AIA</td><td>FULLDISK</td><td>171.0 .. 171.0</td></tr>\n",
       "<tr><td>2016-02-03 14:39:30</td><td>2016-02-03 14:49:19</td><td>SDO</td><td>AIA</td><td>FULLDISK</td><td>304.0 .. 304.0</td></tr>\n",
       "<tr><td>2016-02-03 11:49:31</td><td>2016-02-03 11:59:20</td><td>SDO</td><td>AIA</td><td>FULLDISK</td><td>131.0 .. 131.0</td></tr>\n",
       "<tr><td>2016-02-03 07:39:31</td><td>2016-02-03 07:49:20</td><td>SDO</td><td>AIA</td><td>FULLDISK</td><td>131.0 .. 131.0</td></tr>\n",
       "<tr><td>2016-02-03 19:29:31</td><td>2016-02-03 19:39:20</td><td>SDO</td><td>AIA</td><td>FULLDISK</td><td>131.0 .. 131.0</td></tr>\n",
       "<tr><td>2016-02-03 17:39:27</td><td>2016-02-03 17:49:04</td><td>SDO</td><td>AIA</td><td>FULLDISK</td><td>1600.0 .. 1600.0</td></tr>\n",
       "<tr><td>...</td><td>...</td><td>...</td><td>...</td><td>...</td><td>...</td></tr>\n",
       "<tr><td>2016-02-03 00:19:29</td><td>2016-02-03 00:29:18</td><td>SDO</td><td>AIA</td><td>FULLDISK</td><td>193.0 .. 193.0</td></tr>\n",
       "<tr><td>2016-02-03 02:59:41</td><td>2016-02-03 03:09:18</td><td>SDO</td><td>AIA</td><td>FULLDISK</td><td>1700.0 .. 1700.0</td></tr>\n",
       "<tr><td>2016-02-03 10:19:27</td><td>2016-02-03 10:29:04</td><td>SDO</td><td>AIA</td><td>FULLDISK</td><td>1600.0 .. 1600.0</td></tr>\n",
       "<tr><td>2016-02-03 06:39:31</td><td>2016-02-03 06:49:20</td><td>SDO</td><td>AIA</td><td>FULLDISK</td><td>131.0 .. 131.0</td></tr>\n",
       "<tr><td>2016-02-03 17:49:41</td><td>2016-02-03 17:59:18</td><td>SDO</td><td>AIA</td><td>FULLDISK</td><td>1700.0 .. 1700.0</td></tr>\n",
       "<tr><td>2016-02-03 21:19:41</td><td>2016-02-03 21:29:18</td><td>SDO</td><td>AIA</td><td>FULLDISK</td><td>1700.0 .. 1700.0</td></tr>\n",
       "<tr><td>2016-02-03 14:09:34</td><td>2016-02-03 14:19:23</td><td>SDO</td><td>AIA</td><td>FULLDISK</td><td>171.0 .. 171.0</td></tr>\n",
       "<tr><td>2016-02-03 19:19:30</td><td>2016-02-03 19:29:19</td><td>SDO</td><td>AIA</td><td>FULLDISK</td><td>304.0 .. 304.0</td></tr>\n",
       "<tr><td>2016-02-03 08:39:41</td><td>2016-02-03 08:49:18</td><td>SDO</td><td>AIA</td><td>FULLDISK</td><td>1700.0 .. 1700.0</td></tr>\n",
       "<tr><td>2016-02-03 23:29:25</td><td>2016-02-03 23:39:14</td><td>SDO</td><td>AIA</td><td>FULLDISK</td><td>335.0 .. 335.0</td></tr>\n",
       "</table></br>"
      ],
      "text/plain": [
       "<sunpy.net.fido_factory.UnifiedResponse object at 0x7f6fe9119438>\n",
       "Results from 1 Provider:\n",
       "\n",
       "1336 Results from the VSOClient:\n",
       "   Start Time [1]       End Time [1]    Source ...   Type    Wavelength [2] \n",
       "                                               ...              Angstrom    \n",
       "       str19               str19         str3  ...   str8       float64     \n",
       "------------------- ------------------- ------ ... -------- ----------------\n",
       "2016-02-03 19:49:22 2016-02-03 19:59:11    SDO ... FULLDISK   211.0 .. 211.0\n",
       "2016-02-03 19:59:29 2016-02-03 20:09:18    SDO ... FULLDISK   193.0 .. 193.0\n",
       "2016-02-03 18:09:24 2016-02-03 18:19:13    SDO ... FULLDISK     94.0 .. 94.0\n",
       "2016-02-03 04:09:34 2016-02-03 04:19:23    SDO ... FULLDISK   171.0 .. 171.0\n",
       "2016-02-03 14:39:30 2016-02-03 14:49:19    SDO ... FULLDISK   304.0 .. 304.0\n",
       "2016-02-03 11:49:31 2016-02-03 11:59:20    SDO ... FULLDISK   131.0 .. 131.0\n",
       "2016-02-03 07:39:31 2016-02-03 07:49:20    SDO ... FULLDISK   131.0 .. 131.0\n",
       "2016-02-03 19:29:31 2016-02-03 19:39:20    SDO ... FULLDISK   131.0 .. 131.0\n",
       "2016-02-03 17:39:27 2016-02-03 17:49:04    SDO ... FULLDISK 1600.0 .. 1600.0\n",
       "                ...                 ...    ... ...      ...              ...\n",
       "2016-02-03 00:19:29 2016-02-03 00:29:18    SDO ... FULLDISK   193.0 .. 193.0\n",
       "2016-02-03 02:59:41 2016-02-03 03:09:18    SDO ... FULLDISK 1700.0 .. 1700.0\n",
       "2016-02-03 10:19:27 2016-02-03 10:29:04    SDO ... FULLDISK 1600.0 .. 1600.0\n",
       "2016-02-03 06:39:31 2016-02-03 06:49:20    SDO ... FULLDISK   131.0 .. 131.0\n",
       "2016-02-03 17:49:41 2016-02-03 17:59:18    SDO ... FULLDISK 1700.0 .. 1700.0\n",
       "2016-02-03 21:19:41 2016-02-03 21:29:18    SDO ... FULLDISK 1700.0 .. 1700.0\n",
       "2016-02-03 14:09:34 2016-02-03 14:19:23    SDO ... FULLDISK   171.0 .. 171.0\n",
       "2016-02-03 19:19:30 2016-02-03 19:29:19    SDO ... FULLDISK   304.0 .. 304.0\n",
       "2016-02-03 08:39:41 2016-02-03 08:49:18    SDO ... FULLDISK 1700.0 .. 1700.0\n",
       "2016-02-03 23:29:25 2016-02-03 23:39:14    SDO ... FULLDISK   335.0 .. 335.0\n"
      ]
     },
     "execution_count": 3,
     "metadata": {},
     "output_type": "execute_result"
    }
   ],
   "source": [
    "results"
   ]
  },
  {
   "cell_type": "markdown",
   "metadata": {},
   "source": [
    "This is a little too much data, so let's restrict it to a single wavelength and ask for a lower cadence:"
   ]
  },
  {
   "cell_type": "code",
   "execution_count": 4,
   "metadata": {},
   "outputs": [],
   "source": [
    "results = Fido.search(a.Time(\"2016/03/02\", \"2016/03/03\"), a.Instrument('AIA'),\n",
    "                      a.Wavelength(17.1*u.nm, 17.1*u.nm), a.Sample(2*u.h))"
   ]
  },
  {
   "cell_type": "code",
   "execution_count": 5,
   "metadata": {},
   "outputs": [
    {
     "data": {
      "text/html": [
       "Results from 1 Provider:</br></br>12 Results from the VSOClient:</br><i>QTable length=12</i>\n",
       "<table id=\"table140118036910600\" class=\"table-striped table-bordered table-condensed\">\n",
       "<thead><tr><th>Start Time [1]</th><th>End Time [1]</th><th>Source</th><th>Instrument</th><th>Type</th><th>Wavelength [2]</th></tr></thead>\n",
       "<thead><tr><th></th><th></th><th></th><th></th><th></th><th>Angstrom</th></tr></thead>\n",
       "<thead><tr><th>str19</th><th>str19</th><th>str3</th><th>str3</th><th>str8</th><th>float64</th></tr></thead>\n",
       "<tr><td>2016-03-02 22:00:10</td><td>2016-03-02 22:00:11</td><td>SDO</td><td>AIA</td><td>FULLDISK</td><td>171.0 .. 171.0</td></tr>\n",
       "<tr><td>2016-03-02 06:00:10</td><td>2016-03-02 06:00:11</td><td>SDO</td><td>AIA</td><td>FULLDISK</td><td>171.0 .. 171.0</td></tr>\n",
       "<tr><td>2016-03-02 16:00:10</td><td>2016-03-02 16:00:11</td><td>SDO</td><td>AIA</td><td>FULLDISK</td><td>171.0 .. 171.0</td></tr>\n",
       "<tr><td>2016-03-02 08:00:10</td><td>2016-03-02 08:00:11</td><td>SDO</td><td>AIA</td><td>FULLDISK</td><td>171.0 .. 171.0</td></tr>\n",
       "<tr><td>2016-03-02 02:00:10</td><td>2016-03-02 02:00:11</td><td>SDO</td><td>AIA</td><td>FULLDISK</td><td>171.0 .. 171.0</td></tr>\n",
       "<tr><td>2016-03-02 18:00:10</td><td>2016-03-02 18:00:11</td><td>SDO</td><td>AIA</td><td>FULLDISK</td><td>171.0 .. 171.0</td></tr>\n",
       "<tr><td>2016-03-02 20:00:10</td><td>2016-03-02 20:00:11</td><td>SDO</td><td>AIA</td><td>FULLDISK</td><td>171.0 .. 171.0</td></tr>\n",
       "<tr><td>2016-03-02 10:00:10</td><td>2016-03-02 10:00:11</td><td>SDO</td><td>AIA</td><td>FULLDISK</td><td>171.0 .. 171.0</td></tr>\n",
       "<tr><td>2016-03-02 00:00:10</td><td>2016-03-02 00:00:11</td><td>SDO</td><td>AIA</td><td>FULLDISK</td><td>171.0 .. 171.0</td></tr>\n",
       "<tr><td>2016-03-02 04:00:10</td><td>2016-03-02 04:00:11</td><td>SDO</td><td>AIA</td><td>FULLDISK</td><td>171.0 .. 171.0</td></tr>\n",
       "<tr><td>2016-03-02 12:00:10</td><td>2016-03-02 12:00:11</td><td>SDO</td><td>AIA</td><td>FULLDISK</td><td>171.0 .. 171.0</td></tr>\n",
       "<tr><td>2016-03-02 14:00:10</td><td>2016-03-02 14:00:11</td><td>SDO</td><td>AIA</td><td>FULLDISK</td><td>171.0 .. 171.0</td></tr>\n",
       "</table></br>"
      ],
      "text/plain": [
       "<sunpy.net.fido_factory.UnifiedResponse object at 0x7f6fc5cfc6d8>\n",
       "Results from 1 Provider:\n",
       "\n",
       "12 Results from the VSOClient:\n",
       "   Start Time [1]       End Time [1]    Source ...   Type   Wavelength [2]\n",
       "                                               ...             Angstrom   \n",
       "       str19               str19         str3  ...   str8      float64    \n",
       "------------------- ------------------- ------ ... -------- --------------\n",
       "2016-03-02 22:00:10 2016-03-02 22:00:11    SDO ... FULLDISK 171.0 .. 171.0\n",
       "2016-03-02 06:00:10 2016-03-02 06:00:11    SDO ... FULLDISK 171.0 .. 171.0\n",
       "2016-03-02 16:00:10 2016-03-02 16:00:11    SDO ... FULLDISK 171.0 .. 171.0\n",
       "2016-03-02 08:00:10 2016-03-02 08:00:11    SDO ... FULLDISK 171.0 .. 171.0\n",
       "2016-03-02 02:00:10 2016-03-02 02:00:11    SDO ... FULLDISK 171.0 .. 171.0\n",
       "2016-03-02 18:00:10 2016-03-02 18:00:11    SDO ... FULLDISK 171.0 .. 171.0\n",
       "2016-03-02 20:00:10 2016-03-02 20:00:11    SDO ... FULLDISK 171.0 .. 171.0\n",
       "2016-03-02 10:00:10 2016-03-02 10:00:11    SDO ... FULLDISK 171.0 .. 171.0\n",
       "2016-03-02 00:00:10 2016-03-02 00:00:11    SDO ... FULLDISK 171.0 .. 171.0\n",
       "2016-03-02 04:00:10 2016-03-02 04:00:11    SDO ... FULLDISK 171.0 .. 171.0\n",
       "2016-03-02 12:00:10 2016-03-02 12:00:11    SDO ... FULLDISK 171.0 .. 171.0\n",
       "2016-03-02 14:00:10 2016-03-02 14:00:11    SDO ... FULLDISK 171.0 .. 171.0\n"
      ]
     },
     "execution_count": 5,
     "metadata": {},
     "output_type": "execute_result"
    }
   ],
   "source": [
    "results"
   ]
  },
  {
   "cell_type": "code",
   "execution_count": null,
   "metadata": {},
   "outputs": [
    {
     "data": {
      "application/vnd.jupyter.widget-view+json": {
       "model_id": "995eacfbad7648a486669ceb441c745e",
       "version_major": 2,
       "version_minor": 0
      },
      "text/plain": [
       "HBox(children=(IntProgress(value=0, description='Files Downloaded', max=12, style=ProgressStyle(description_wi…"
      ]
     },
     "metadata": {},
     "output_type": "display_data"
    },
    {
     "data": {
      "application/vnd.jupyter.widget-view+json": {
       "model_id": "32762cdb795e4fe18228e5ef2aaeeb7a",
       "version_major": 2,
       "version_minor": 0
      },
      "text/plain": [
       "HBox(children=(IntProgress(value=0, description='aia_lev1_171a_2016_03_02t06_00_10_34z_image_lev1.fits', max=1…"
      ]
     },
     "metadata": {},
     "output_type": "display_data"
    },
    {
     "data": {
      "application/vnd.jupyter.widget-view+json": {
       "model_id": "1922790dd10048de8361e9219a506cdc",
       "version_major": 2,
       "version_minor": 0
      },
      "text/plain": [
       "HBox(children=(IntProgress(value=0, description='aia_lev1_171a_2016_03_02t22_00_10_35z_image_lev1.fits', max=1…"
      ]
     },
     "metadata": {},
     "output_type": "display_data"
    },
    {
     "data": {
      "application/vnd.jupyter.widget-view+json": {
       "model_id": "d9f029ce61b24229a913e5711ea6aa11",
       "version_major": 2,
       "version_minor": 0
      },
      "text/plain": [
       "HBox(children=(IntProgress(value=0, description='aia_lev1_171a_2016_03_02t02_00_10_34z_image_lev1.fits', max=1…"
      ]
     },
     "metadata": {},
     "output_type": "display_data"
    },
    {
     "data": {
      "application/vnd.jupyter.widget-view+json": {
       "model_id": "0f76086da7e9438cb331e6bb0a5ac759",
       "version_major": 2,
       "version_minor": 0
      },
      "text/plain": [
       "HBox(children=(IntProgress(value=0, description='aia_lev1_171a_2016_03_02t16_00_10_35z_image_lev1.fits', max=1…"
      ]
     },
     "metadata": {},
     "output_type": "display_data"
    },
    {
     "data": {
      "application/vnd.jupyter.widget-view+json": {
       "model_id": "364eb7f91c364549b1d7fbe5d136b88d",
       "version_major": 2,
       "version_minor": 0
      },
      "text/plain": [
       "HBox(children=(IntProgress(value=0, description='aia_lev1_171a_2016_03_02t08_00_10_34z_image_lev1.fits', max=1…"
      ]
     },
     "metadata": {},
     "output_type": "display_data"
    },
    {
     "data": {
      "application/vnd.jupyter.widget-view+json": {
       "model_id": "651969729bdc49a8ad6cc4b654a6e37b",
       "version_major": 2,
       "version_minor": 0
      },
      "text/plain": [
       "HBox(children=(IntProgress(value=0, description='aia_lev1_171a_2016_03_02t04_00_10_34z_image_lev1.fits', max=1…"
      ]
     },
     "metadata": {},
     "output_type": "display_data"
    },
    {
     "data": {
      "application/vnd.jupyter.widget-view+json": {
       "model_id": "e76f5e47205b4fbd84d75c81116649f3",
       "version_major": 2,
       "version_minor": 0
      },
      "text/plain": [
       "HBox(children=(IntProgress(value=0, description='aia_lev1_171a_2016_03_02t10_00_10_34z_image_lev1.fits', max=1…"
      ]
     },
     "metadata": {},
     "output_type": "display_data"
    },
    {
     "data": {
      "application/vnd.jupyter.widget-view+json": {
       "model_id": "7dd16d7ec9434edab688a3a535ecb326",
       "version_major": 2,
       "version_minor": 0
      },
      "text/plain": [
       "HBox(children=(IntProgress(value=0, description='aia_lev1_171a_2016_03_02t00_00_10_34z_image_lev1.fits', max=1…"
      ]
     },
     "metadata": {},
     "output_type": "display_data"
    },
    {
     "data": {
      "application/vnd.jupyter.widget-view+json": {
       "model_id": "df276a4c87e24d3f9816847ad1a33bdd",
       "version_major": 2,
       "version_minor": 0
      },
      "text/plain": [
       "HBox(children=(IntProgress(value=0, description='aia_lev1_171a_2016_03_02t18_00_10_34z_image_lev1.fits', max=1…"
      ]
     },
     "metadata": {},
     "output_type": "display_data"
    },
    {
     "data": {
      "application/vnd.jupyter.widget-view+json": {
       "model_id": "acd97cfdc4e0426f9b1a57f036ab805e",
       "version_major": 2,
       "version_minor": 0
      },
      "text/plain": [
       "HBox(children=(IntProgress(value=0, description='aia_lev1_171a_2016_03_02t20_00_10_34z_image_lev1.fits', max=1…"
      ]
     },
     "metadata": {},
     "output_type": "display_data"
    },
    {
     "data": {
      "application/vnd.jupyter.widget-view+json": {
       "model_id": "b17dbad1397c45ceaa0d34100f20da88",
       "version_major": 2,
       "version_minor": 0
      },
      "text/plain": [
       "HBox(children=(IntProgress(value=0, description='aia_lev1_171a_2016_03_02t12_00_10_34z_image_lev1.fits', max=1…"
      ]
     },
     "metadata": {},
     "output_type": "display_data"
    },
    {
     "data": {
      "application/vnd.jupyter.widget-view+json": {
       "model_id": "d565990304494c6caa3556bbf9fa5bba",
       "version_major": 2,
       "version_minor": 0
      },
      "text/plain": [
       "HBox(children=(IntProgress(value=0, description='aia_lev1_171a_2016_03_02t14_00_10_35z_image_lev1.fits', max=1…"
      ]
     },
     "metadata": {},
     "output_type": "display_data"
    }
   ],
   "source": [
    "files = Fido.fetch(results)"
   ]
  },
  {
   "cell_type": "markdown",
   "metadata": {},
   "source": [
    "## SunPy Mapcube"
   ]
  },
  {
   "cell_type": "markdown",
   "metadata": {},
   "source": [
    "A quick aside into plotting sequences of images with SunPy. We will load these files we just downloaded into a SunPy MapCube and animate them. (Note is a little more responsive outside of the notebook.)"
   ]
  },
  {
   "cell_type": "code",
   "execution_count": 7,
   "metadata": {},
   "outputs": [],
   "source": [
    "%matplotlib notebook\n",
    "import sunpy.map"
   ]
  },
  {
   "cell_type": "code",
   "execution_count": 8,
   "metadata": {},
   "outputs": [
    {
     "name": "stderr",
     "output_type": "stream",
     "text": [
      "WARNING: File may have been truncated: actual file length (7827949) is smaller than the expected size (11808000) [astropy.io.fits.file]\n"
     ]
    },
    {
     "ename": "TypeError",
     "evalue": "buffer is too small for requested array",
     "output_type": "error",
     "traceback": [
      "\u001b[0;31m---------------------------------------------------------------------------\u001b[0m",
      "\u001b[0;31mTypeError\u001b[0m                                 Traceback (most recent call last)",
      "\u001b[0;32m<ipython-input-8-a6763bd73ba5>\u001b[0m in \u001b[0;36m<module>\u001b[0;34m\u001b[0m\n\u001b[0;32m----> 1\u001b[0;31m \u001b[0mmapcube\u001b[0m \u001b[0;34m=\u001b[0m \u001b[0msunpy\u001b[0m\u001b[0;34m.\u001b[0m\u001b[0mmap\u001b[0m\u001b[0;34m.\u001b[0m\u001b[0mMap\u001b[0m\u001b[0;34m(\u001b[0m\u001b[0mfiles\u001b[0m\u001b[0;34m,\u001b[0m \u001b[0mcube\u001b[0m\u001b[0;34m=\u001b[0m\u001b[0;32mTrue\u001b[0m\u001b[0;34m)\u001b[0m\u001b[0;34m\u001b[0m\u001b[0;34m\u001b[0m\u001b[0m\n\u001b[0m",
      "\u001b[0;32m~/.local/share/virtualenvs/crash_course-zEdt3XtC/lib/python3.6/site-packages/sunpy/map/map_factory.py\u001b[0m in \u001b[0;36m__call__\u001b[0;34m(self, composite, sequence, silence_errors, *args, **kwargs)\u001b[0m\n\u001b[1;32m    273\u001b[0m         \"\"\"\n\u001b[1;32m    274\u001b[0m \u001b[0;34m\u001b[0m\u001b[0m\n\u001b[0;32m--> 275\u001b[0;31m         \u001b[0mdata_header_pairs\u001b[0m\u001b[0;34m,\u001b[0m \u001b[0malready_maps\u001b[0m \u001b[0;34m=\u001b[0m \u001b[0mself\u001b[0m\u001b[0;34m.\u001b[0m\u001b[0m_parse_args\u001b[0m\u001b[0;34m(\u001b[0m\u001b[0;34m*\u001b[0m\u001b[0margs\u001b[0m\u001b[0;34m,\u001b[0m \u001b[0;34m**\u001b[0m\u001b[0mkwargs\u001b[0m\u001b[0;34m)\u001b[0m\u001b[0;34m\u001b[0m\u001b[0;34m\u001b[0m\u001b[0m\n\u001b[0m\u001b[1;32m    276\u001b[0m \u001b[0;34m\u001b[0m\u001b[0m\n\u001b[1;32m    277\u001b[0m         \u001b[0mnew_maps\u001b[0m \u001b[0;34m=\u001b[0m \u001b[0mlist\u001b[0m\u001b[0;34m(\u001b[0m\u001b[0;34m)\u001b[0m\u001b[0;34m\u001b[0m\u001b[0;34m\u001b[0m\u001b[0m\n",
      "\u001b[0;32m~/.local/share/virtualenvs/crash_course-zEdt3XtC/lib/python3.6/site-packages/sunpy/map/map_factory.py\u001b[0m in \u001b[0;36m_parse_args\u001b[0;34m(self, *args, **kwargs)\u001b[0m\n\u001b[1;32m    201\u001b[0m                   os.path.isfile(os.path.expanduser(arg))):\n\u001b[1;32m    202\u001b[0m                 \u001b[0mpath\u001b[0m \u001b[0;34m=\u001b[0m \u001b[0mos\u001b[0m\u001b[0;34m.\u001b[0m\u001b[0mpath\u001b[0m\u001b[0;34m.\u001b[0m\u001b[0mexpanduser\u001b[0m\u001b[0;34m(\u001b[0m\u001b[0marg\u001b[0m\u001b[0;34m)\u001b[0m\u001b[0;34m\u001b[0m\u001b[0;34m\u001b[0m\u001b[0m\n\u001b[0;32m--> 203\u001b[0;31m                 \u001b[0mpairs\u001b[0m \u001b[0;34m=\u001b[0m \u001b[0mself\u001b[0m\u001b[0;34m.\u001b[0m\u001b[0m_read_file\u001b[0m\u001b[0;34m(\u001b[0m\u001b[0mpath\u001b[0m\u001b[0;34m,\u001b[0m \u001b[0;34m**\u001b[0m\u001b[0mkwargs\u001b[0m\u001b[0;34m)\u001b[0m\u001b[0;34m\u001b[0m\u001b[0;34m\u001b[0m\u001b[0m\n\u001b[0m\u001b[1;32m    204\u001b[0m                 \u001b[0mdata_header_pairs\u001b[0m \u001b[0;34m+=\u001b[0m \u001b[0mpairs\u001b[0m\u001b[0;34m\u001b[0m\u001b[0;34m\u001b[0m\u001b[0m\n\u001b[1;32m    205\u001b[0m \u001b[0;34m\u001b[0m\u001b[0m\n",
      "\u001b[0;32m~/.local/share/virtualenvs/crash_course-zEdt3XtC/lib/python3.6/site-packages/sunpy/map/map_factory.py\u001b[0m in \u001b[0;36m_read_file\u001b[0;34m(self, fname, **kwargs)\u001b[0m\n\u001b[1;32m    125\u001b[0m         \u001b[0;31m# File gets read here.  This needs to be generic enough to seamlessly\u001b[0m\u001b[0;34m\u001b[0m\u001b[0;34m\u001b[0m\u001b[0;34m\u001b[0m\u001b[0m\n\u001b[1;32m    126\u001b[0m         \u001b[0;31m# call a fits file or a jpeg2k file, etc\u001b[0m\u001b[0;34m\u001b[0m\u001b[0;34m\u001b[0m\u001b[0;34m\u001b[0m\u001b[0m\n\u001b[0;32m--> 127\u001b[0;31m         \u001b[0mpairs\u001b[0m \u001b[0;34m=\u001b[0m \u001b[0mread_file\u001b[0m\u001b[0;34m(\u001b[0m\u001b[0mfname\u001b[0m\u001b[0;34m,\u001b[0m \u001b[0;34m**\u001b[0m\u001b[0mkwargs\u001b[0m\u001b[0;34m)\u001b[0m\u001b[0;34m\u001b[0m\u001b[0;34m\u001b[0m\u001b[0m\n\u001b[0m\u001b[1;32m    128\u001b[0m \u001b[0;34m\u001b[0m\u001b[0m\n\u001b[1;32m    129\u001b[0m         \u001b[0mnew_pairs\u001b[0m \u001b[0;34m=\u001b[0m \u001b[0;34m[\u001b[0m\u001b[0;34m]\u001b[0m\u001b[0;34m\u001b[0m\u001b[0;34m\u001b[0m\u001b[0m\n",
      "\u001b[0;32m~/.local/share/virtualenvs/crash_course-zEdt3XtC/lib/python3.6/site-packages/sunpy/io/file_tools.py\u001b[0m in \u001b[0;36mread_file\u001b[0;34m(filepath, filetype, **kwargs)\u001b[0m\n\u001b[1;32m     83\u001b[0m     \u001b[0;32mfor\u001b[0m \u001b[0mextension\u001b[0m\u001b[0;34m,\u001b[0m \u001b[0mreadername\u001b[0m \u001b[0;32min\u001b[0m \u001b[0m_known_extensions\u001b[0m\u001b[0;34m.\u001b[0m\u001b[0mitems\u001b[0m\u001b[0;34m(\u001b[0m\u001b[0;34m)\u001b[0m\u001b[0;34m:\u001b[0m\u001b[0;34m\u001b[0m\u001b[0;34m\u001b[0m\u001b[0m\n\u001b[1;32m     84\u001b[0m         \u001b[0;32mif\u001b[0m \u001b[0mfilepath\u001b[0m\u001b[0;34m.\u001b[0m\u001b[0mendswith\u001b[0m\u001b[0;34m(\u001b[0m\u001b[0mextension\u001b[0m\u001b[0;34m)\u001b[0m \u001b[0;32mor\u001b[0m \u001b[0mfiletype\u001b[0m \u001b[0;32min\u001b[0m \u001b[0mextension\u001b[0m\u001b[0;34m:\u001b[0m\u001b[0;34m\u001b[0m\u001b[0;34m\u001b[0m\u001b[0m\n\u001b[0;32m---> 85\u001b[0;31m             \u001b[0;32mreturn\u001b[0m \u001b[0m_readers\u001b[0m\u001b[0;34m[\u001b[0m\u001b[0mreadername\u001b[0m\u001b[0;34m]\u001b[0m\u001b[0;34m.\u001b[0m\u001b[0mread\u001b[0m\u001b[0;34m(\u001b[0m\u001b[0mfilepath\u001b[0m\u001b[0;34m,\u001b[0m \u001b[0;34m**\u001b[0m\u001b[0mkwargs\u001b[0m\u001b[0;34m)\u001b[0m\u001b[0;34m\u001b[0m\u001b[0;34m\u001b[0m\u001b[0m\n\u001b[0m\u001b[1;32m     86\u001b[0m \u001b[0;34m\u001b[0m\u001b[0m\n\u001b[1;32m     87\u001b[0m     \u001b[0;31m# If filetype is not apparent from the extension, attempt to detect it\u001b[0m\u001b[0;34m\u001b[0m\u001b[0;34m\u001b[0m\u001b[0;34m\u001b[0m\u001b[0m\n",
      "\u001b[0;32m~/.local/share/virtualenvs/crash_course-zEdt3XtC/lib/python3.6/site-packages/sunpy/io/fits.py\u001b[0m in \u001b[0;36mread\u001b[0;34m(filepath, hdus, memmap, **kwargs)\u001b[0m\n\u001b[1;32m     79\u001b[0m         \u001b[0;32mfor\u001b[0m \u001b[0mi\u001b[0m\u001b[0;34m,\u001b[0m \u001b[0;34m(\u001b[0m\u001b[0mhdu\u001b[0m\u001b[0;34m,\u001b[0m \u001b[0mheader\u001b[0m\u001b[0;34m)\u001b[0m \u001b[0;32min\u001b[0m \u001b[0menumerate\u001b[0m\u001b[0;34m(\u001b[0m\u001b[0mzip\u001b[0m\u001b[0;34m(\u001b[0m\u001b[0mhdulist\u001b[0m\u001b[0;34m,\u001b[0m \u001b[0mheaders\u001b[0m\u001b[0;34m)\u001b[0m\u001b[0;34m)\u001b[0m\u001b[0;34m:\u001b[0m\u001b[0;34m\u001b[0m\u001b[0;34m\u001b[0m\u001b[0m\n\u001b[1;32m     80\u001b[0m             \u001b[0;32mtry\u001b[0m\u001b[0;34m:\u001b[0m\u001b[0;34m\u001b[0m\u001b[0;34m\u001b[0m\u001b[0m\n\u001b[0;32m---> 81\u001b[0;31m                 \u001b[0mpairs\u001b[0m\u001b[0;34m.\u001b[0m\u001b[0mappend\u001b[0m\u001b[0;34m(\u001b[0m\u001b[0mHDPair\u001b[0m\u001b[0;34m(\u001b[0m\u001b[0mhdu\u001b[0m\u001b[0;34m.\u001b[0m\u001b[0mdata\u001b[0m\u001b[0;34m,\u001b[0m \u001b[0mheader\u001b[0m\u001b[0;34m)\u001b[0m\u001b[0;34m)\u001b[0m\u001b[0;34m\u001b[0m\u001b[0;34m\u001b[0m\u001b[0m\n\u001b[0m\u001b[1;32m     82\u001b[0m             \u001b[0;32mexcept\u001b[0m \u001b[0;34m(\u001b[0m\u001b[0mKeyError\u001b[0m\u001b[0;34m,\u001b[0m \u001b[0mValueError\u001b[0m\u001b[0;34m)\u001b[0m \u001b[0;32mas\u001b[0m \u001b[0me\u001b[0m\u001b[0;34m:\u001b[0m\u001b[0;34m\u001b[0m\u001b[0;34m\u001b[0m\u001b[0m\n\u001b[1;32m     83\u001b[0m                 \u001b[0mmessage\u001b[0m \u001b[0;34m=\u001b[0m \u001b[0;34m\"Error when reading HDU {}. Skipping.\\n\"\u001b[0m\u001b[0;34m.\u001b[0m\u001b[0mformat\u001b[0m\u001b[0;34m(\u001b[0m\u001b[0mi\u001b[0m\u001b[0;34m)\u001b[0m\u001b[0;34m\u001b[0m\u001b[0;34m\u001b[0m\u001b[0m\n",
      "\u001b[0;32m~/.local/share/virtualenvs/crash_course-zEdt3XtC/lib/python3.6/site-packages/astropy/utils/decorators.py\u001b[0m in \u001b[0;36m__get__\u001b[0;34m(self, obj, owner)\u001b[0m\n\u001b[1;32m    742\u001b[0m                 \u001b[0;32mreturn\u001b[0m \u001b[0mval\u001b[0m\u001b[0;34m\u001b[0m\u001b[0;34m\u001b[0m\u001b[0m\n\u001b[1;32m    743\u001b[0m             \u001b[0;32melse\u001b[0m\u001b[0;34m:\u001b[0m\u001b[0;34m\u001b[0m\u001b[0;34m\u001b[0m\u001b[0m\n\u001b[0;32m--> 744\u001b[0;31m                 \u001b[0mval\u001b[0m \u001b[0;34m=\u001b[0m \u001b[0mself\u001b[0m\u001b[0;34m.\u001b[0m\u001b[0mfget\u001b[0m\u001b[0;34m(\u001b[0m\u001b[0mobj\u001b[0m\u001b[0;34m)\u001b[0m\u001b[0;34m\u001b[0m\u001b[0;34m\u001b[0m\u001b[0m\n\u001b[0m\u001b[1;32m    745\u001b[0m                 \u001b[0mobj\u001b[0m\u001b[0;34m.\u001b[0m\u001b[0m__dict__\u001b[0m\u001b[0;34m[\u001b[0m\u001b[0mself\u001b[0m\u001b[0;34m.\u001b[0m\u001b[0m_key\u001b[0m\u001b[0;34m]\u001b[0m \u001b[0;34m=\u001b[0m \u001b[0mval\u001b[0m\u001b[0;34m\u001b[0m\u001b[0;34m\u001b[0m\u001b[0m\n\u001b[1;32m    746\u001b[0m                 \u001b[0;32mreturn\u001b[0m \u001b[0mval\u001b[0m\u001b[0;34m\u001b[0m\u001b[0;34m\u001b[0m\u001b[0m\n",
      "\u001b[0;32m~/.local/share/virtualenvs/crash_course-zEdt3XtC/lib/python3.6/site-packages/astropy/io/fits/hdu/compressed.py\u001b[0m in \u001b[0;36mdata\u001b[0;34m(self)\u001b[0m\n\u001b[1;32m   1366\u001b[0m     \u001b[0;32mdef\u001b[0m \u001b[0mdata\u001b[0m\u001b[0;34m(\u001b[0m\u001b[0mself\u001b[0m\u001b[0;34m)\u001b[0m\u001b[0;34m:\u001b[0m\u001b[0;34m\u001b[0m\u001b[0;34m\u001b[0m\u001b[0m\n\u001b[1;32m   1367\u001b[0m         \u001b[0;31m# The data attribute is the image data (not the table data).\u001b[0m\u001b[0;34m\u001b[0m\u001b[0;34m\u001b[0m\u001b[0;34m\u001b[0m\u001b[0m\n\u001b[0;32m-> 1368\u001b[0;31m         \u001b[0mdata\u001b[0m \u001b[0;34m=\u001b[0m \u001b[0mcompression\u001b[0m\u001b[0;34m.\u001b[0m\u001b[0mdecompress_hdu\u001b[0m\u001b[0;34m(\u001b[0m\u001b[0mself\u001b[0m\u001b[0;34m)\u001b[0m\u001b[0;34m\u001b[0m\u001b[0;34m\u001b[0m\u001b[0m\n\u001b[0m\u001b[1;32m   1369\u001b[0m \u001b[0;34m\u001b[0m\u001b[0m\n\u001b[1;32m   1370\u001b[0m         \u001b[0;32mif\u001b[0m \u001b[0mdata\u001b[0m \u001b[0;32mis\u001b[0m \u001b[0;32mNone\u001b[0m\u001b[0;34m:\u001b[0m\u001b[0;34m\u001b[0m\u001b[0;34m\u001b[0m\u001b[0m\n",
      "\u001b[0;32m~/.local/share/virtualenvs/crash_course-zEdt3XtC/lib/python3.6/site-packages/astropy/utils/decorators.py\u001b[0m in \u001b[0;36m__get__\u001b[0;34m(self, obj, owner)\u001b[0m\n\u001b[1;32m    742\u001b[0m                 \u001b[0;32mreturn\u001b[0m \u001b[0mval\u001b[0m\u001b[0;34m\u001b[0m\u001b[0;34m\u001b[0m\u001b[0m\n\u001b[1;32m    743\u001b[0m             \u001b[0;32melse\u001b[0m\u001b[0;34m:\u001b[0m\u001b[0;34m\u001b[0m\u001b[0;34m\u001b[0m\u001b[0m\n\u001b[0;32m--> 744\u001b[0;31m                 \u001b[0mval\u001b[0m \u001b[0;34m=\u001b[0m \u001b[0mself\u001b[0m\u001b[0;34m.\u001b[0m\u001b[0mfget\u001b[0m\u001b[0;34m(\u001b[0m\u001b[0mobj\u001b[0m\u001b[0;34m)\u001b[0m\u001b[0;34m\u001b[0m\u001b[0;34m\u001b[0m\u001b[0m\n\u001b[0m\u001b[1;32m    745\u001b[0m                 \u001b[0mobj\u001b[0m\u001b[0;34m.\u001b[0m\u001b[0m__dict__\u001b[0m\u001b[0;34m[\u001b[0m\u001b[0mself\u001b[0m\u001b[0;34m.\u001b[0m\u001b[0m_key\u001b[0m\u001b[0;34m]\u001b[0m \u001b[0;34m=\u001b[0m \u001b[0mval\u001b[0m\u001b[0;34m\u001b[0m\u001b[0;34m\u001b[0m\u001b[0m\n\u001b[1;32m    746\u001b[0m                 \u001b[0;32mreturn\u001b[0m \u001b[0mval\u001b[0m\u001b[0;34m\u001b[0m\u001b[0;34m\u001b[0m\u001b[0m\n",
      "\u001b[0;32m~/.local/share/virtualenvs/crash_course-zEdt3XtC/lib/python3.6/site-packages/astropy/io/fits/hdu/compressed.py\u001b[0m in \u001b[0;36mcompressed_data\u001b[0;34m(self)\u001b[0m\n\u001b[1;32m   1418\u001b[0m         \u001b[0;31m# First we will get the table data (the compressed\u001b[0m\u001b[0;34m\u001b[0m\u001b[0;34m\u001b[0m\u001b[0;34m\u001b[0m\u001b[0m\n\u001b[1;32m   1419\u001b[0m         \u001b[0;31m# data) from the file, if there is any.\u001b[0m\u001b[0;34m\u001b[0m\u001b[0;34m\u001b[0m\u001b[0;34m\u001b[0m\u001b[0m\n\u001b[0;32m-> 1420\u001b[0;31m         \u001b[0mcompressed_data\u001b[0m \u001b[0;34m=\u001b[0m \u001b[0msuper\u001b[0m\u001b[0;34m(\u001b[0m\u001b[0;34m)\u001b[0m\u001b[0;34m.\u001b[0m\u001b[0mdata\u001b[0m\u001b[0;34m\u001b[0m\u001b[0;34m\u001b[0m\u001b[0m\n\u001b[0m\u001b[1;32m   1421\u001b[0m         \u001b[0;32mif\u001b[0m \u001b[0misinstance\u001b[0m\u001b[0;34m(\u001b[0m\u001b[0mcompressed_data\u001b[0m\u001b[0;34m,\u001b[0m \u001b[0mnp\u001b[0m\u001b[0;34m.\u001b[0m\u001b[0mrec\u001b[0m\u001b[0;34m.\u001b[0m\u001b[0mrecarray\u001b[0m\u001b[0;34m)\u001b[0m\u001b[0;34m:\u001b[0m\u001b[0;34m\u001b[0m\u001b[0;34m\u001b[0m\u001b[0m\n\u001b[1;32m   1422\u001b[0m             \u001b[0;31m# Make sure not to use 'del self.data' so we don't accidentally\u001b[0m\u001b[0;34m\u001b[0m\u001b[0;34m\u001b[0m\u001b[0;34m\u001b[0m\u001b[0m\n",
      "\u001b[0;32m~/.local/share/virtualenvs/crash_course-zEdt3XtC/lib/python3.6/site-packages/astropy/utils/decorators.py\u001b[0m in \u001b[0;36m__get__\u001b[0;34m(self, obj, owner)\u001b[0m\n\u001b[1;32m    742\u001b[0m                 \u001b[0;32mreturn\u001b[0m \u001b[0mval\u001b[0m\u001b[0;34m\u001b[0m\u001b[0;34m\u001b[0m\u001b[0m\n\u001b[1;32m    743\u001b[0m             \u001b[0;32melse\u001b[0m\u001b[0;34m:\u001b[0m\u001b[0;34m\u001b[0m\u001b[0;34m\u001b[0m\u001b[0m\n\u001b[0;32m--> 744\u001b[0;31m                 \u001b[0mval\u001b[0m \u001b[0;34m=\u001b[0m \u001b[0mself\u001b[0m\u001b[0;34m.\u001b[0m\u001b[0mfget\u001b[0m\u001b[0;34m(\u001b[0m\u001b[0mobj\u001b[0m\u001b[0;34m)\u001b[0m\u001b[0;34m\u001b[0m\u001b[0;34m\u001b[0m\u001b[0m\n\u001b[0m\u001b[1;32m    745\u001b[0m                 \u001b[0mobj\u001b[0m\u001b[0;34m.\u001b[0m\u001b[0m__dict__\u001b[0m\u001b[0;34m[\u001b[0m\u001b[0mself\u001b[0m\u001b[0;34m.\u001b[0m\u001b[0m_key\u001b[0m\u001b[0;34m]\u001b[0m \u001b[0;34m=\u001b[0m \u001b[0mval\u001b[0m\u001b[0;34m\u001b[0m\u001b[0;34m\u001b[0m\u001b[0m\n\u001b[1;32m    746\u001b[0m                 \u001b[0;32mreturn\u001b[0m \u001b[0mval\u001b[0m\u001b[0;34m\u001b[0m\u001b[0;34m\u001b[0m\u001b[0m\n",
      "\u001b[0;32m~/.local/share/virtualenvs/crash_course-zEdt3XtC/lib/python3.6/site-packages/astropy/io/fits/hdu/table.py\u001b[0m in \u001b[0;36mdata\u001b[0;34m(self)\u001b[0m\n\u001b[1;32m    401\u001b[0m     \u001b[0;34m@\u001b[0m\u001b[0mlazyproperty\u001b[0m\u001b[0;34m\u001b[0m\u001b[0;34m\u001b[0m\u001b[0m\n\u001b[1;32m    402\u001b[0m     \u001b[0;32mdef\u001b[0m \u001b[0mdata\u001b[0m\u001b[0;34m(\u001b[0m\u001b[0mself\u001b[0m\u001b[0;34m)\u001b[0m\u001b[0;34m:\u001b[0m\u001b[0;34m\u001b[0m\u001b[0;34m\u001b[0m\u001b[0m\n\u001b[0;32m--> 403\u001b[0;31m         \u001b[0mdata\u001b[0m \u001b[0;34m=\u001b[0m \u001b[0mself\u001b[0m\u001b[0;34m.\u001b[0m\u001b[0m_get_tbdata\u001b[0m\u001b[0;34m(\u001b[0m\u001b[0;34m)\u001b[0m\u001b[0;34m\u001b[0m\u001b[0;34m\u001b[0m\u001b[0m\n\u001b[0m\u001b[1;32m    404\u001b[0m         \u001b[0mdata\u001b[0m\u001b[0;34m.\u001b[0m\u001b[0m_coldefs\u001b[0m \u001b[0;34m=\u001b[0m \u001b[0mself\u001b[0m\u001b[0;34m.\u001b[0m\u001b[0mcolumns\u001b[0m\u001b[0;34m\u001b[0m\u001b[0;34m\u001b[0m\u001b[0m\n\u001b[1;32m    405\u001b[0m         \u001b[0mdata\u001b[0m\u001b[0;34m.\u001b[0m\u001b[0m_character_as_bytes\u001b[0m \u001b[0;34m=\u001b[0m \u001b[0mself\u001b[0m\u001b[0;34m.\u001b[0m\u001b[0m_character_as_bytes\u001b[0m\u001b[0;34m\u001b[0m\u001b[0;34m\u001b[0m\u001b[0m\n",
      "\u001b[0;32m~/.local/share/virtualenvs/crash_course-zEdt3XtC/lib/python3.6/site-packages/astropy/io/fits/hdu/table.py\u001b[0m in \u001b[0;36m_get_tbdata\u001b[0;34m(self)\u001b[0m\n\u001b[1;32m    165\u001b[0m             \u001b[0;31m# We have a heap; include it in the raw_data\u001b[0m\u001b[0;34m\u001b[0m\u001b[0;34m\u001b[0m\u001b[0;34m\u001b[0m\u001b[0m\n\u001b[1;32m    166\u001b[0m             raw_data = self._get_raw_data(self._data_size, np.uint8,\n\u001b[0;32m--> 167\u001b[0;31m                                           self._data_offset)\n\u001b[0m\u001b[1;32m    168\u001b[0m             data = raw_data[:self._theap].view(dtype=columns.dtype,\n\u001b[1;32m    169\u001b[0m                                                type=np.rec.recarray)\n",
      "\u001b[0;32m~/.local/share/virtualenvs/crash_course-zEdt3XtC/lib/python3.6/site-packages/astropy/io/fits/hdu/base.py\u001b[0m in \u001b[0;36m_get_raw_data\u001b[0;34m(self, shape, code, offset)\u001b[0m\n\u001b[1;32m    506\u001b[0m                               offset=offset)\n\u001b[1;32m    507\u001b[0m         \u001b[0;32melif\u001b[0m \u001b[0mself\u001b[0m\u001b[0;34m.\u001b[0m\u001b[0m_file\u001b[0m\u001b[0;34m:\u001b[0m\u001b[0;34m\u001b[0m\u001b[0;34m\u001b[0m\u001b[0m\n\u001b[0;32m--> 508\u001b[0;31m             \u001b[0;32mreturn\u001b[0m \u001b[0mself\u001b[0m\u001b[0;34m.\u001b[0m\u001b[0m_file\u001b[0m\u001b[0;34m.\u001b[0m\u001b[0mreadarray\u001b[0m\u001b[0;34m(\u001b[0m\u001b[0moffset\u001b[0m\u001b[0;34m=\u001b[0m\u001b[0moffset\u001b[0m\u001b[0;34m,\u001b[0m \u001b[0mdtype\u001b[0m\u001b[0;34m=\u001b[0m\u001b[0mcode\u001b[0m\u001b[0;34m,\u001b[0m \u001b[0mshape\u001b[0m\u001b[0;34m=\u001b[0m\u001b[0mshape\u001b[0m\u001b[0;34m)\u001b[0m\u001b[0;34m\u001b[0m\u001b[0;34m\u001b[0m\u001b[0m\n\u001b[0m\u001b[1;32m    509\u001b[0m         \u001b[0;32melse\u001b[0m\u001b[0;34m:\u001b[0m\u001b[0;34m\u001b[0m\u001b[0;34m\u001b[0m\u001b[0m\n\u001b[1;32m    510\u001b[0m             \u001b[0;32mreturn\u001b[0m \u001b[0;32mNone\u001b[0m\u001b[0;34m\u001b[0m\u001b[0;34m\u001b[0m\u001b[0m\n",
      "\u001b[0;32m~/.local/share/virtualenvs/crash_course-zEdt3XtC/lib/python3.6/site-packages/astropy/io/fits/file.py\u001b[0m in \u001b[0;36mreadarray\u001b[0;34m(self, size, offset, dtype, shape)\u001b[0m\n\u001b[1;32m    332\u001b[0m \u001b[0;34m\u001b[0m\u001b[0m\n\u001b[1;32m    333\u001b[0m                 return np.ndarray(shape=shape, dtype=dtype, offset=offset,\n\u001b[0;32m--> 334\u001b[0;31m                                   buffer=self._mmap)\n\u001b[0m\u001b[1;32m    335\u001b[0m             \u001b[0;32melse\u001b[0m\u001b[0;34m:\u001b[0m\u001b[0;34m\u001b[0m\u001b[0;34m\u001b[0m\u001b[0m\n\u001b[1;32m    336\u001b[0m                 \u001b[0mcount\u001b[0m \u001b[0;34m=\u001b[0m \u001b[0mreduce\u001b[0m\u001b[0;34m(\u001b[0m\u001b[0moperator\u001b[0m\u001b[0;34m.\u001b[0m\u001b[0mmul\u001b[0m\u001b[0;34m,\u001b[0m \u001b[0mshape\u001b[0m\u001b[0;34m)\u001b[0m\u001b[0;34m\u001b[0m\u001b[0;34m\u001b[0m\u001b[0m\n",
      "\u001b[0;31mTypeError\u001b[0m: buffer is too small for requested array"
     ]
    }
   ],
   "source": [
    "mapcube = sunpy.map.Map(files, cube=True)"
   ]
  },
  {
   "cell_type": "code",
   "execution_count": 18,
   "metadata": {},
   "outputs": [
    {
     "ename": "NameError",
     "evalue": "name 'mapcube' is not defined",
     "output_type": "error",
     "traceback": [
      "\u001b[0;31m---------------------------------------------------------------------------\u001b[0m",
      "\u001b[0;31mNameError\u001b[0m                                 Traceback (most recent call last)",
      "\u001b[0;32m<ipython-input-18-bc6239727c36>\u001b[0m in \u001b[0;36m<module>\u001b[0;34m\u001b[0m\n\u001b[0;32m----> 1\u001b[0;31m \u001b[0mmapcube\u001b[0m\u001b[0;34m.\u001b[0m\u001b[0mpeek\u001b[0m\u001b[0;34m(\u001b[0m\u001b[0;34m)\u001b[0m\u001b[0;34m\u001b[0m\u001b[0;34m\u001b[0m\u001b[0m\n\u001b[0m",
      "\u001b[0;31mNameError\u001b[0m: name 'mapcube' is not defined"
     ]
    }
   ],
   "source": [
    "mapcube.peek()"
   ]
  },
  {
   "cell_type": "markdown",
   "metadata": {},
   "source": [
    "## More Complex Searching"
   ]
  },
  {
   "cell_type": "markdown",
   "metadata": {},
   "source": [
    "In this example we will use the logical operators to combine attributes into a complex multi-instrument query."
   ]
  },
  {
   "cell_type": "markdown",
   "metadata": {},
   "source": [
    "You can use the `&` and operator or the `|` or operator to make queries. In the previous example all arguments to `vc.query` had the and operator applied, we performed a search where the Instrument *and* the Wavelength *and* the time matched. We could have done this explicitly like this:"
   ]
  },
  {
   "cell_type": "code",
   "execution_count": 19,
   "metadata": {},
   "outputs": [
    {
     "data": {
      "text/html": [
       "Results from 1 Provider:</br></br>401 Results from the VSOClient:</br><i>QTable length=401</i>\n",
       "<table id=\"table140101248397440\" class=\"table-striped table-bordered table-condensed\">\n",
       "<thead><tr><th>Start Time [1]</th><th>End Time [1]</th><th>Source</th><th>Instrument</th><th>Type</th><th>Wavelength [2]</th></tr></thead>\n",
       "<thead><tr><th></th><th></th><th></th><th></th><th></th><th>Angstrom</th></tr></thead>\n",
       "<thead><tr><th>str19</th><th>str19</th><th>str3</th><th>str3</th><th>str8</th><th>float64</th></tr></thead>\n",
       "<tr><td>2016-02-03 00:00:00</td><td>2016-02-03 00:00:01</td><td>SDO</td><td>AIA</td><td>FULLDISK</td><td>94.0 .. 94.0</td></tr>\n",
       "<tr><td>2016-02-03 00:00:01</td><td>2016-02-03 00:00:02</td><td>SDO</td><td>AIA</td><td>FULLDISK</td><td>335.0 .. 335.0</td></tr>\n",
       "<tr><td>2016-02-03 00:00:05</td><td>2016-02-03 00:00:06</td><td>SDO</td><td>AIA</td><td>FULLDISK</td><td>193.0 .. 193.0</td></tr>\n",
       "<tr><td>2016-02-03 00:00:06</td><td>2016-02-03 00:00:07</td><td>SDO</td><td>AIA</td><td>FULLDISK</td><td>304.0 .. 304.0</td></tr>\n",
       "<tr><td>2016-02-03 00:00:06</td><td>2016-02-03 00:00:07</td><td>SDO</td><td>AIA</td><td>FULLDISK</td><td>4500.0 .. 4500.0</td></tr>\n",
       "<tr><td>2016-02-03 00:00:07</td><td>2016-02-03 00:00:08</td><td>SDO</td><td>AIA</td><td>FULLDISK</td><td>131.0 .. 131.0</td></tr>\n",
       "<tr><td>2016-02-03 00:00:10</td><td>2016-02-03 00:00:11</td><td>SDO</td><td>AIA</td><td>FULLDISK</td><td>171.0 .. 171.0</td></tr>\n",
       "<tr><td>2016-02-03 00:00:10</td><td>2016-02-03 00:00:11</td><td>SDO</td><td>AIA</td><td>FULLDISK</td><td>211.0 .. 211.0</td></tr>\n",
       "<tr><td>2016-02-03 00:00:12</td><td>2016-02-03 00:00:13</td><td>SDO</td><td>AIA</td><td>FULLDISK</td><td>94.0 .. 94.0</td></tr>\n",
       "<tr><td>...</td><td>...</td><td>...</td><td>...</td><td>...</td><td>...</td></tr>\n",
       "<tr><td>2016-02-03 00:09:46</td><td>2016-02-03 00:09:47</td><td>SDO</td><td>AIA</td><td>FULLDISK</td><td>211.0 .. 211.0</td></tr>\n",
       "<tr><td>2016-02-03 00:09:48</td><td>2016-02-03 00:09:49</td><td>SDO</td><td>AIA</td><td>FULLDISK</td><td>94.0 .. 94.0</td></tr>\n",
       "<tr><td>2016-02-03 00:09:49</td><td>2016-02-03 00:09:50</td><td>SDO</td><td>AIA</td><td>FULLDISK</td><td>335.0 .. 335.0</td></tr>\n",
       "<tr><td>2016-02-03 00:09:51</td><td>2016-02-03 00:09:52</td><td>SDO</td><td>AIA</td><td>FULLDISK</td><td>1600.0 .. 1600.0</td></tr>\n",
       "<tr><td>2016-02-03 00:09:53</td><td>2016-02-03 00:09:54</td><td>SDO</td><td>AIA</td><td>FULLDISK</td><td>193.0 .. 193.0</td></tr>\n",
       "<tr><td>2016-02-03 00:09:54</td><td>2016-02-03 00:09:55</td><td>SDO</td><td>AIA</td><td>FULLDISK</td><td>304.0 .. 304.0</td></tr>\n",
       "<tr><td>2016-02-03 00:09:55</td><td>2016-02-03 00:09:56</td><td>SDO</td><td>AIA</td><td>FULLDISK</td><td>131.0 .. 131.0</td></tr>\n",
       "<tr><td>2016-02-03 00:09:58</td><td>2016-02-03 00:09:59</td><td>SDO</td><td>AIA</td><td>FULLDISK</td><td>171.0 .. 171.0</td></tr>\n",
       "<tr><td>2016-02-03 00:09:58</td><td>2016-02-03 00:09:59</td><td>SDO</td><td>AIA</td><td>FULLDISK</td><td>211.0 .. 211.0</td></tr>\n",
       "<tr><td>2016-02-03 00:10:00</td><td>2016-02-03 00:10:01</td><td>SDO</td><td>AIA</td><td>FULLDISK</td><td>94.0 .. 94.0</td></tr>\n",
       "</table></br>"
      ],
      "text/plain": [
       "<sunpy.net.fido_factory.UnifiedResponse object at 0x7f6bdd435470>\n",
       "Results from 1 Provider:\n",
       "\n",
       "401 Results from the VSOClient:\n",
       "   Start Time [1]       End Time [1]    Source ...   Type    Wavelength [2] \n",
       "                                               ...              Angstrom    \n",
       "       str19               str19         str3  ...   str8       float64     \n",
       "------------------- ------------------- ------ ... -------- ----------------\n",
       "2016-02-03 00:00:00 2016-02-03 00:00:01    SDO ... FULLDISK     94.0 .. 94.0\n",
       "2016-02-03 00:00:01 2016-02-03 00:00:02    SDO ... FULLDISK   335.0 .. 335.0\n",
       "2016-02-03 00:00:05 2016-02-03 00:00:06    SDO ... FULLDISK   193.0 .. 193.0\n",
       "2016-02-03 00:00:06 2016-02-03 00:00:07    SDO ... FULLDISK   304.0 .. 304.0\n",
       "2016-02-03 00:00:06 2016-02-03 00:00:07    SDO ... FULLDISK 4500.0 .. 4500.0\n",
       "2016-02-03 00:00:07 2016-02-03 00:00:08    SDO ... FULLDISK   131.0 .. 131.0\n",
       "2016-02-03 00:00:10 2016-02-03 00:00:11    SDO ... FULLDISK   171.0 .. 171.0\n",
       "2016-02-03 00:00:10 2016-02-03 00:00:11    SDO ... FULLDISK   211.0 .. 211.0\n",
       "2016-02-03 00:00:12 2016-02-03 00:00:13    SDO ... FULLDISK     94.0 .. 94.0\n",
       "                ...                 ...    ... ...      ...              ...\n",
       "2016-02-03 00:09:46 2016-02-03 00:09:47    SDO ... FULLDISK   211.0 .. 211.0\n",
       "2016-02-03 00:09:48 2016-02-03 00:09:49    SDO ... FULLDISK     94.0 .. 94.0\n",
       "2016-02-03 00:09:49 2016-02-03 00:09:50    SDO ... FULLDISK   335.0 .. 335.0\n",
       "2016-02-03 00:09:51 2016-02-03 00:09:52    SDO ... FULLDISK 1600.0 .. 1600.0\n",
       "2016-02-03 00:09:53 2016-02-03 00:09:54    SDO ... FULLDISK   193.0 .. 193.0\n",
       "2016-02-03 00:09:54 2016-02-03 00:09:55    SDO ... FULLDISK   304.0 .. 304.0\n",
       "2016-02-03 00:09:55 2016-02-03 00:09:56    SDO ... FULLDISK   131.0 .. 131.0\n",
       "2016-02-03 00:09:58 2016-02-03 00:09:59    SDO ... FULLDISK   171.0 .. 171.0\n",
       "2016-02-03 00:09:58 2016-02-03 00:09:59    SDO ... FULLDISK   211.0 .. 211.0\n",
       "2016-02-03 00:10:00 2016-02-03 00:10:01    SDO ... FULLDISK     94.0 .. 94.0\n"
      ]
     },
     "execution_count": 19,
     "metadata": {},
     "output_type": "execute_result"
    }
   ],
   "source": [
    "mysearch = a.Time(\"2016/02/03\", \"2016/02/03T00:10:00\") & a.Instrument('AIA')\n",
    "Fido.search(mysearch)"
   ]
  },
  {
   "cell_type": "markdown",
   "metadata": {},
   "source": [
    "If we want to do the same query but for two seperate wavelengths we can use the `|` or operator:"
   ]
  },
  {
   "cell_type": "code",
   "execution_count": 20,
   "metadata": {},
   "outputs": [],
   "source": [
    "instrument = a.Time(\"2016/02/03\", \"2016/02/03T00:10:00\") & a.Instrument('AIA')\n",
    "wavelength = a.Wavelength(17.1*u.nm, 17.1*u.nm) | a.Wavelength(304*u.AA, 304*u.AA)\n",
    "mysearch = instrument & wavelength"
   ]
  },
  {
   "cell_type": "code",
   "execution_count": 21,
   "metadata": {},
   "outputs": [
    {
     "data": {
      "text/html": [
       "Results from 2 Providers:</br></br>50 Results from the VSOClient:</br><i>QTable length=50</i>\n",
       "<table id=\"table140101248540512\" class=\"table-striped table-bordered table-condensed\">\n",
       "<thead><tr><th>Start Time [1]</th><th>End Time [1]</th><th>Source</th><th>Instrument</th><th>Type</th><th>Wavelength [2]</th></tr></thead>\n",
       "<thead><tr><th></th><th></th><th></th><th></th><th></th><th>Angstrom</th></tr></thead>\n",
       "<thead><tr><th>str19</th><th>str19</th><th>str3</th><th>str3</th><th>str8</th><th>float64</th></tr></thead>\n",
       "<tr><td>2016-02-03 00:00:10</td><td>2016-02-03 00:00:11</td><td>SDO</td><td>AIA</td><td>FULLDISK</td><td>171.0 .. 171.0</td></tr>\n",
       "<tr><td>2016-02-03 00:00:22</td><td>2016-02-03 00:00:23</td><td>SDO</td><td>AIA</td><td>FULLDISK</td><td>171.0 .. 171.0</td></tr>\n",
       "<tr><td>2016-02-03 00:00:34</td><td>2016-02-03 00:00:35</td><td>SDO</td><td>AIA</td><td>FULLDISK</td><td>171.0 .. 171.0</td></tr>\n",
       "<tr><td>2016-02-03 00:00:46</td><td>2016-02-03 00:00:47</td><td>SDO</td><td>AIA</td><td>FULLDISK</td><td>171.0 .. 171.0</td></tr>\n",
       "<tr><td>2016-02-03 00:00:58</td><td>2016-02-03 00:00:59</td><td>SDO</td><td>AIA</td><td>FULLDISK</td><td>171.0 .. 171.0</td></tr>\n",
       "<tr><td>2016-02-03 00:01:10</td><td>2016-02-03 00:01:11</td><td>SDO</td><td>AIA</td><td>FULLDISK</td><td>171.0 .. 171.0</td></tr>\n",
       "<tr><td>2016-02-03 00:01:22</td><td>2016-02-03 00:01:23</td><td>SDO</td><td>AIA</td><td>FULLDISK</td><td>171.0 .. 171.0</td></tr>\n",
       "<tr><td>2016-02-03 00:01:34</td><td>2016-02-03 00:01:35</td><td>SDO</td><td>AIA</td><td>FULLDISK</td><td>171.0 .. 171.0</td></tr>\n",
       "<tr><td>2016-02-03 00:01:46</td><td>2016-02-03 00:01:47</td><td>SDO</td><td>AIA</td><td>FULLDISK</td><td>171.0 .. 171.0</td></tr>\n",
       "<tr><td>...</td><td>...</td><td>...</td><td>...</td><td>...</td><td>...</td></tr>\n",
       "<tr><td>2016-02-03 00:08:10</td><td>2016-02-03 00:08:11</td><td>SDO</td><td>AIA</td><td>FULLDISK</td><td>171.0 .. 171.0</td></tr>\n",
       "<tr><td>2016-02-03 00:08:22</td><td>2016-02-03 00:08:23</td><td>SDO</td><td>AIA</td><td>FULLDISK</td><td>171.0 .. 171.0</td></tr>\n",
       "<tr><td>2016-02-03 00:08:34</td><td>2016-02-03 00:08:35</td><td>SDO</td><td>AIA</td><td>FULLDISK</td><td>171.0 .. 171.0</td></tr>\n",
       "<tr><td>2016-02-03 00:08:46</td><td>2016-02-03 00:08:47</td><td>SDO</td><td>AIA</td><td>FULLDISK</td><td>171.0 .. 171.0</td></tr>\n",
       "<tr><td>2016-02-03 00:08:58</td><td>2016-02-03 00:08:59</td><td>SDO</td><td>AIA</td><td>FULLDISK</td><td>171.0 .. 171.0</td></tr>\n",
       "<tr><td>2016-02-03 00:09:10</td><td>2016-02-03 00:09:11</td><td>SDO</td><td>AIA</td><td>FULLDISK</td><td>171.0 .. 171.0</td></tr>\n",
       "<tr><td>2016-02-03 00:09:22</td><td>2016-02-03 00:09:23</td><td>SDO</td><td>AIA</td><td>FULLDISK</td><td>171.0 .. 171.0</td></tr>\n",
       "<tr><td>2016-02-03 00:09:34</td><td>2016-02-03 00:09:35</td><td>SDO</td><td>AIA</td><td>FULLDISK</td><td>171.0 .. 171.0</td></tr>\n",
       "<tr><td>2016-02-03 00:09:46</td><td>2016-02-03 00:09:47</td><td>SDO</td><td>AIA</td><td>FULLDISK</td><td>171.0 .. 171.0</td></tr>\n",
       "<tr><td>2016-02-03 00:09:58</td><td>2016-02-03 00:09:59</td><td>SDO</td><td>AIA</td><td>FULLDISK</td><td>171.0 .. 171.0</td></tr>\n",
       "</table></br>50 Results from the VSOClient:</br><i>QTable length=50</i>\n",
       "<table id=\"table140101247702632\" class=\"table-striped table-bordered table-condensed\">\n",
       "<thead><tr><th>Start Time [1]</th><th>End Time [1]</th><th>Source</th><th>Instrument</th><th>Type</th><th>Wavelength [2]</th></tr></thead>\n",
       "<thead><tr><th></th><th></th><th></th><th></th><th></th><th>Angstrom</th></tr></thead>\n",
       "<thead><tr><th>str19</th><th>str19</th><th>str3</th><th>str3</th><th>str8</th><th>float64</th></tr></thead>\n",
       "<tr><td>2016-02-03 00:00:06</td><td>2016-02-03 00:00:07</td><td>SDO</td><td>AIA</td><td>FULLDISK</td><td>304.0 .. 304.0</td></tr>\n",
       "<tr><td>2016-02-03 00:00:18</td><td>2016-02-03 00:00:19</td><td>SDO</td><td>AIA</td><td>FULLDISK</td><td>304.0 .. 304.0</td></tr>\n",
       "<tr><td>2016-02-03 00:00:30</td><td>2016-02-03 00:00:31</td><td>SDO</td><td>AIA</td><td>FULLDISK</td><td>304.0 .. 304.0</td></tr>\n",
       "<tr><td>2016-02-03 00:00:42</td><td>2016-02-03 00:00:43</td><td>SDO</td><td>AIA</td><td>FULLDISK</td><td>304.0 .. 304.0</td></tr>\n",
       "<tr><td>2016-02-03 00:00:54</td><td>2016-02-03 00:00:55</td><td>SDO</td><td>AIA</td><td>FULLDISK</td><td>304.0 .. 304.0</td></tr>\n",
       "<tr><td>2016-02-03 00:01:06</td><td>2016-02-03 00:01:07</td><td>SDO</td><td>AIA</td><td>FULLDISK</td><td>304.0 .. 304.0</td></tr>\n",
       "<tr><td>2016-02-03 00:01:18</td><td>2016-02-03 00:01:19</td><td>SDO</td><td>AIA</td><td>FULLDISK</td><td>304.0 .. 304.0</td></tr>\n",
       "<tr><td>2016-02-03 00:01:30</td><td>2016-02-03 00:01:31</td><td>SDO</td><td>AIA</td><td>FULLDISK</td><td>304.0 .. 304.0</td></tr>\n",
       "<tr><td>2016-02-03 00:01:42</td><td>2016-02-03 00:01:43</td><td>SDO</td><td>AIA</td><td>FULLDISK</td><td>304.0 .. 304.0</td></tr>\n",
       "<tr><td>...</td><td>...</td><td>...</td><td>...</td><td>...</td><td>...</td></tr>\n",
       "<tr><td>2016-02-03 00:08:06</td><td>2016-02-03 00:08:07</td><td>SDO</td><td>AIA</td><td>FULLDISK</td><td>304.0 .. 304.0</td></tr>\n",
       "<tr><td>2016-02-03 00:08:18</td><td>2016-02-03 00:08:19</td><td>SDO</td><td>AIA</td><td>FULLDISK</td><td>304.0 .. 304.0</td></tr>\n",
       "<tr><td>2016-02-03 00:08:30</td><td>2016-02-03 00:08:31</td><td>SDO</td><td>AIA</td><td>FULLDISK</td><td>304.0 .. 304.0</td></tr>\n",
       "<tr><td>2016-02-03 00:08:42</td><td>2016-02-03 00:08:43</td><td>SDO</td><td>AIA</td><td>FULLDISK</td><td>304.0 .. 304.0</td></tr>\n",
       "<tr><td>2016-02-03 00:08:54</td><td>2016-02-03 00:08:55</td><td>SDO</td><td>AIA</td><td>FULLDISK</td><td>304.0 .. 304.0</td></tr>\n",
       "<tr><td>2016-02-03 00:09:06</td><td>2016-02-03 00:09:07</td><td>SDO</td><td>AIA</td><td>FULLDISK</td><td>304.0 .. 304.0</td></tr>\n",
       "<tr><td>2016-02-03 00:09:18</td><td>2016-02-03 00:09:19</td><td>SDO</td><td>AIA</td><td>FULLDISK</td><td>304.0 .. 304.0</td></tr>\n",
       "<tr><td>2016-02-03 00:09:30</td><td>2016-02-03 00:09:31</td><td>SDO</td><td>AIA</td><td>FULLDISK</td><td>304.0 .. 304.0</td></tr>\n",
       "<tr><td>2016-02-03 00:09:42</td><td>2016-02-03 00:09:43</td><td>SDO</td><td>AIA</td><td>FULLDISK</td><td>304.0 .. 304.0</td></tr>\n",
       "<tr><td>2016-02-03 00:09:54</td><td>2016-02-03 00:09:55</td><td>SDO</td><td>AIA</td><td>FULLDISK</td><td>304.0 .. 304.0</td></tr>\n",
       "</table></br>"
      ],
      "text/plain": [
       "<sunpy.net.fido_factory.UnifiedResponse object at 0x7f6bdd2519e8>\n",
       "Results from 2 Providers:\n",
       "\n",
       "50 Results from the VSOClient:\n",
       "   Start Time [1]       End Time [1]    Source ...   Type   Wavelength [2]\n",
       "                                               ...             Angstrom   \n",
       "       str19               str19         str3  ...   str8      float64    \n",
       "------------------- ------------------- ------ ... -------- --------------\n",
       "2016-02-03 00:00:10 2016-02-03 00:00:11    SDO ... FULLDISK 171.0 .. 171.0\n",
       "2016-02-03 00:00:22 2016-02-03 00:00:23    SDO ... FULLDISK 171.0 .. 171.0\n",
       "2016-02-03 00:00:34 2016-02-03 00:00:35    SDO ... FULLDISK 171.0 .. 171.0\n",
       "2016-02-03 00:00:46 2016-02-03 00:00:47    SDO ... FULLDISK 171.0 .. 171.0\n",
       "2016-02-03 00:00:58 2016-02-03 00:00:59    SDO ... FULLDISK 171.0 .. 171.0\n",
       "2016-02-03 00:01:10 2016-02-03 00:01:11    SDO ... FULLDISK 171.0 .. 171.0\n",
       "2016-02-03 00:01:22 2016-02-03 00:01:23    SDO ... FULLDISK 171.0 .. 171.0\n",
       "2016-02-03 00:01:34 2016-02-03 00:01:35    SDO ... FULLDISK 171.0 .. 171.0\n",
       "2016-02-03 00:01:46 2016-02-03 00:01:47    SDO ... FULLDISK 171.0 .. 171.0\n",
       "                ...                 ...    ... ...      ...            ...\n",
       "2016-02-03 00:08:10 2016-02-03 00:08:11    SDO ... FULLDISK 171.0 .. 171.0\n",
       "2016-02-03 00:08:22 2016-02-03 00:08:23    SDO ... FULLDISK 171.0 .. 171.0\n",
       "2016-02-03 00:08:34 2016-02-03 00:08:35    SDO ... FULLDISK 171.0 .. 171.0\n",
       "2016-02-03 00:08:46 2016-02-03 00:08:47    SDO ... FULLDISK 171.0 .. 171.0\n",
       "2016-02-03 00:08:58 2016-02-03 00:08:59    SDO ... FULLDISK 171.0 .. 171.0\n",
       "2016-02-03 00:09:10 2016-02-03 00:09:11    SDO ... FULLDISK 171.0 .. 171.0\n",
       "2016-02-03 00:09:22 2016-02-03 00:09:23    SDO ... FULLDISK 171.0 .. 171.0\n",
       "2016-02-03 00:09:34 2016-02-03 00:09:35    SDO ... FULLDISK 171.0 .. 171.0\n",
       "2016-02-03 00:09:46 2016-02-03 00:09:47    SDO ... FULLDISK 171.0 .. 171.0\n",
       "2016-02-03 00:09:58 2016-02-03 00:09:59    SDO ... FULLDISK 171.0 .. 171.0\n",
       "\n",
       "50 Results from the VSOClient:\n",
       "   Start Time [1]       End Time [1]    Source ...   Type   Wavelength [2]\n",
       "                                               ...             Angstrom   \n",
       "       str19               str19         str3  ...   str8      float64    \n",
       "------------------- ------------------- ------ ... -------- --------------\n",
       "2016-02-03 00:00:06 2016-02-03 00:00:07    SDO ... FULLDISK 304.0 .. 304.0\n",
       "2016-02-03 00:00:18 2016-02-03 00:00:19    SDO ... FULLDISK 304.0 .. 304.0\n",
       "2016-02-03 00:00:30 2016-02-03 00:00:31    SDO ... FULLDISK 304.0 .. 304.0\n",
       "2016-02-03 00:00:42 2016-02-03 00:00:43    SDO ... FULLDISK 304.0 .. 304.0\n",
       "2016-02-03 00:00:54 2016-02-03 00:00:55    SDO ... FULLDISK 304.0 .. 304.0\n",
       "2016-02-03 00:01:06 2016-02-03 00:01:07    SDO ... FULLDISK 304.0 .. 304.0\n",
       "2016-02-03 00:01:18 2016-02-03 00:01:19    SDO ... FULLDISK 304.0 .. 304.0\n",
       "2016-02-03 00:01:30 2016-02-03 00:01:31    SDO ... FULLDISK 304.0 .. 304.0\n",
       "2016-02-03 00:01:42 2016-02-03 00:01:43    SDO ... FULLDISK 304.0 .. 304.0\n",
       "                ...                 ...    ... ...      ...            ...\n",
       "2016-02-03 00:08:06 2016-02-03 00:08:07    SDO ... FULLDISK 304.0 .. 304.0\n",
       "2016-02-03 00:08:18 2016-02-03 00:08:19    SDO ... FULLDISK 304.0 .. 304.0\n",
       "2016-02-03 00:08:30 2016-02-03 00:08:31    SDO ... FULLDISK 304.0 .. 304.0\n",
       "2016-02-03 00:08:42 2016-02-03 00:08:43    SDO ... FULLDISK 304.0 .. 304.0\n",
       "2016-02-03 00:08:54 2016-02-03 00:08:55    SDO ... FULLDISK 304.0 .. 304.0\n",
       "2016-02-03 00:09:06 2016-02-03 00:09:07    SDO ... FULLDISK 304.0 .. 304.0\n",
       "2016-02-03 00:09:18 2016-02-03 00:09:19    SDO ... FULLDISK 304.0 .. 304.0\n",
       "2016-02-03 00:09:30 2016-02-03 00:09:31    SDO ... FULLDISK 304.0 .. 304.0\n",
       "2016-02-03 00:09:42 2016-02-03 00:09:43    SDO ... FULLDISK 304.0 .. 304.0\n",
       "2016-02-03 00:09:54 2016-02-03 00:09:55    SDO ... FULLDISK 304.0 .. 304.0\n"
      ]
     },
     "execution_count": 21,
     "metadata": {},
     "output_type": "execute_result"
    }
   ],
   "source": [
    "Fido.search(mysearch)"
   ]
  },
  {
   "cell_type": "markdown",
   "metadata": {},
   "source": [
    "### Multiple Instruments\n",
    "\n",
    "In this example we want to download one image from STEREO A EUVI and one image from SDO AIA as close together in time as we can. To do this we will define a search for the AIA image and a search for the EUVI image then 'or' them together."
   ]
  },
  {
   "cell_type": "code",
   "execution_count": 24,
   "metadata": {},
   "outputs": [],
   "source": [
    "stereo = (a.Detector('STEREO_B') &\n",
    "          a.Instrument('EUVI') &\n",
    "          a.Time('2011-01-01', '2011-01-01T00:10:00'))\n",
    "\n",
    "aia = (a.Instrument('AIA') &\n",
    "       a.Sample(24 * u.hour) &\n",
    "       a.Time('2011-01-01', '2011-01-02'))\n",
    "\n",
    "wave = a.Wavelength(30 * u.nm, 31 * u.nm)"
   ]
  },
  {
   "cell_type": "code",
   "execution_count": 26,
   "metadata": {},
   "outputs": [
    {
     "data": {
      "text/html": [
       "Results from 2 Providers:</br></br>0 Results from the VSOClient:</br><i>QTable length=0</i>\n",
       "<table id=\"table140101247349144\" class=\"table-striped table-bordered table-condensed\">\n",
       "<thead><tr><th>Start Time</th><th>End Time</th><th>Source</th><th>Instrument</th><th>Type</th></tr></thead>\n",
       "<thead><tr><th>float64</th><th>float64</th><th>float64</th><th>float64</th><th>float64</th></tr></thead>\n",
       "</table></br>1 Results from the VSOClient:</br><i>QTable length=1</i>\n",
       "<table id=\"table140101247324792\" class=\"table-striped table-bordered table-condensed\">\n",
       "<thead><tr><th>Start Time [1]</th><th>End Time [1]</th><th>Source</th><th>Instrument</th><th>Type</th><th>Wavelength [2]</th></tr></thead>\n",
       "<thead><tr><th></th><th></th><th></th><th></th><th></th><th>Angstrom</th></tr></thead>\n",
       "<thead><tr><th>str19</th><th>str19</th><th>str3</th><th>str3</th><th>str8</th><th>float64</th></tr></thead>\n",
       "<tr><td>2011-01-01 00:00:08</td><td>2011-01-01 00:00:09</td><td>SDO</td><td>AIA</td><td>FULLDISK</td><td>304.0 .. 304.0</td></tr>\n",
       "</table></br>"
      ],
      "text/plain": [
       "<sunpy.net.fido_factory.UnifiedResponse object at 0x7f6bdd14b6d8>\n",
       "Results from 2 Providers:\n",
       "\n",
       "0 Results from the VSOClient:\n",
       "Start Time End Time  Source Instrument   Type \n",
       " float64   float64  float64  float64   float64\n",
       "---------- -------- ------- ---------- -------\n",
       "\n",
       "1 Results from the VSOClient:\n",
       "   Start Time [1]       End Time [1]    Source ...   Type   Wavelength [2]\n",
       "                                               ...             Angstrom   \n",
       "       str19               str19         str3  ...   str8      float64    \n",
       "------------------- ------------------- ------ ... -------- --------------\n",
       "2011-01-01 00:00:08 2011-01-01 00:00:09    SDO ... FULLDISK 304.0 .. 304.0\n"
      ]
     },
     "execution_count": 26,
     "metadata": {},
     "output_type": "execute_result"
    }
   ],
   "source": [
    "results = Fido.search(stereo | aia, wave)\n",
    "results"
   ]
  },
  {
   "cell_type": "code",
   "execution_count": null,
   "metadata": {},
   "outputs": [],
   "source": [
    "files = Fido.fetch(result).wait(progress=True)"
   ]
  },
  {
   "cell_type": "code",
   "execution_count": null,
   "metadata": {},
   "outputs": [],
   "source": [
    "files"
   ]
  }
 ],
 "metadata": {
  "kernelspec": {
   "display_name": "Python 3",
   "language": "python",
   "name": "python3"
  },
  "language_info": {
   "codemirror_mode": {
    "name": "ipython",
    "version": 3
   },
   "file_extension": ".py",
   "mimetype": "text/x-python",
   "name": "python",
   "nbconvert_exporter": "python",
   "pygments_lexer": "ipython3",
   "version": "3.6.8"
  }
 },
 "nbformat": 4,
 "nbformat_minor": 1
}
