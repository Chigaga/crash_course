{
 "cells": [
  {
   "cell_type": "markdown",
   "metadata": {},
   "source": [
    "# Solar Coordinates with SunPy"
   ]
  },
  {
   "cell_type": "markdown",
   "metadata": {},
   "source": [
    "In this session we will use the AIA and STEREO image we downloaded in the last session do a quick demonstration of converting between different coordinates in SunPy. A different version of this example can be found in the [SunPy Gallery](http://docs.sunpy.org/en/stable/generated/gallery/tutorials/SDO_to_STEREO_Coordinate_Conversion.html)."
   ]
  },
  {
   "cell_type": "markdown",
   "metadata": {},
   "source": [
    "## Useful Links\n",
    "\n",
    "1. [SunPy Coordinates Documentation](http://docs.sunpy.org/en/stable/code_ref/coordinates.html)\n",
    "1. [\"Coordinate systems for solar image data\" - Thompson (2006)](http://dx.doi.org/10.1051/0004-6361:20054262)\n",
    "1. [wcsaxes Documentation](http://wcsaxes.readthedocs.org/)\n",
    "1. [Astropy Coordinates Documentation](http://docs.astropy.org/en/stable/coordinates/index.html)"
   ]
  },
  {
   "cell_type": "markdown",
   "metadata": {},
   "source": [
    "## Reading the Data"
   ]
  },
  {
   "cell_type": "code",
   "execution_count": null,
   "metadata": {},
   "outputs": [],
   "source": []
  },
  {
   "cell_type": "code",
   "execution_count": null,
   "metadata": {},
   "outputs": [],
   "source": [
    "!/home/main/anaconda2/envs/sunpy/bin/python download_coord_data.py"
   ]
  },
  {
   "cell_type": "code",
   "execution_count": null,
   "metadata": {},
   "outputs": [],
   "source": []
  },
  {
   "cell_type": "code",
   "execution_count": null,
   "metadata": {},
   "outputs": [],
   "source": []
  },
  {
   "cell_type": "code",
   "execution_count": null,
   "metadata": {},
   "outputs": [],
   "source": []
  },
  {
   "cell_type": "markdown",
   "metadata": {},
   "source": [
    "## Helioprojective and Heliographic Coordinates"
   ]
  },
  {
   "cell_type": "markdown",
   "metadata": {},
   "source": [
    "<div style=\"float:left; width:59%\">\n",
    "<h3>Helioprojective \"Cartesian\" Coordinates</h3>\n",
    "<p>\n",
    "The most common coordinate frame in solar physics is helioprojective cartesian, HPC, which is an observer centric spherical coordinate frame with the point of 0° longitude and 0° latitude aligned with the centre of the solar disk. Normally the radius (distance from the observer) is not known when imaging the sky.\n",
    "</p>\n",
    "<p>\n",
    "These coordinates are commonly referred to as \"Solar-x Solar-y\", as they appear to be cartesian when dealing with small angles on the solar disk (see image on the right).\n",
    "</p>\n",
    "<h3> Heliocentric (Stonyhurst) Coordinates</h3>\n",
    "<p>\n",
    "Heliocentric coordinates, unlike helioprojective, have the origin at the centre of the Sun. The line of 0° longitude is aligned with the position of the Earth and the line of 0° latitude is around the solar equator. These coordinates are used to give positions on the Sun independant of the observer location.\n",
    "</p>\n",
    "</div>\n",
    "<div style=\"float:left; width:39%\">\n",
    "<img src=\"coord_inset.png\" width=100% />\n",
    "</div>"
   ]
  },
  {
   "cell_type": "markdown",
   "metadata": {},
   "source": [
    "SunPy can convert between these two coordinate systems:"
   ]
  },
  {
   "cell_type": "code",
   "execution_count": null,
   "metadata": {},
   "outputs": [],
   "source": []
  },
  {
   "cell_type": "code",
   "execution_count": null,
   "metadata": {},
   "outputs": [],
   "source": []
  },
  {
   "cell_type": "code",
   "execution_count": null,
   "metadata": {},
   "outputs": [],
   "source": []
  },
  {
   "cell_type": "markdown",
   "metadata": {},
   "source": [
    "You can also plot points in both systems (coordinates should be specified in degrees to matplotlib):"
   ]
  },
  {
   "cell_type": "code",
   "execution_count": null,
   "metadata": {},
   "outputs": [],
   "source": []
  },
  {
   "cell_type": "markdown",
   "metadata": {},
   "source": [
    "## Converting from SDO to STEREO"
   ]
  },
  {
   "cell_type": "markdown",
   "metadata": {},
   "source": [
    "In this example we are going to take a point in an AIA image, convert it to heliographic coordinates then calculate that point in helioprojective coordinates from the point of view of STEREO."
   ]
  },
  {
   "cell_type": "code",
   "execution_count": null,
   "metadata": {},
   "outputs": [],
   "source": []
  },
  {
   "cell_type": "code",
   "execution_count": null,
   "metadata": {},
   "outputs": [],
   "source": []
  },
  {
   "cell_type": "code",
   "execution_count": null,
   "metadata": {},
   "outputs": [],
   "source": []
  },
  {
   "cell_type": "markdown",
   "metadata": {},
   "source": [
    "## Coordinates and Plotting Exercise"
   ]
  },
  {
   "cell_type": "markdown",
   "metadata": {},
   "source": [
    "As an exercise for you to work on either until 5pm or in your own time, we can use this AIA <> STEREO coordinate transformation to highlight a region in both images, for this exercise take a box with width of $200\"$ and a height of $250\"$ and a coordinate of the bottom left of the box of $(-800, -300)\"$.\n",
    "\n",
    "1. Use SunPy coordinates to convert the four corner points of this box to the EUVI helioprojective coordinate frame and then plot the same box on the EUVI image.\n",
    "2. Create a submap of the AIA and EUVI image showing the same region of the solar atmosphere. Use the AIA box coordinates and your calculated EUVI coordinates.\n",
    "3. Plot both the submaps next to each other, in the same way as we plotted the EUVI and AIA image together at the start of this session."
   ]
  },
  {
   "cell_type": "code",
   "execution_count": null,
   "metadata": {},
   "outputs": [],
   "source": []
  },
  {
   "cell_type": "code",
   "execution_count": null,
   "metadata": {},
   "outputs": [],
   "source": []
  },
  {
   "cell_type": "markdown",
   "metadata": {},
   "source": [
    "If you want some hints, this is the same task as this example in the [SunPy plotting docs](https://docs.sunpy.org/en/stable/guide/plotting.html).\n",
    "\n",
    "If you want you might be able to find another example in the [SunPy Gallery](http://docs.sunpy.org/en/stable/generated/gallery/) which is more applicable to your work, feel free to work through that instead."
   ]
  },
  {
   "cell_type": "markdown",
   "metadata": {},
   "source": [
    "# NOTE: If you want to save your work, remember to download the notebook."
   ]
  }
 ],
 "metadata": {
  "kernelspec": {
   "display_name": "Python 3",
   "language": "python",
   "name": "python3"
  },
  "language_info": {
   "codemirror_mode": {
    "name": "ipython",
    "version": 3
   },
   "file_extension": ".py",
   "mimetype": "text/x-python",
   "name": "python",
   "nbconvert_exporter": "python",
   "pygments_lexer": "ipython3",
   "version": "3.6.8"
  }
 },
 "nbformat": 4,
 "nbformat_minor": 1
}
