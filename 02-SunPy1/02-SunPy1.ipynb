{
 "cells": [
  {
   "cell_type": "markdown",
   "metadata": {},
   "source": [
    "# Plotting and SunPy"
   ]
  },
  {
   "cell_type": "markdown",
   "metadata": {},
   "source": [
    "## Generic plotting with `matplotlib`"
   ]
  },
  {
   "cell_type": "code",
   "execution_count": null,
   "metadata": {
    "collapsed": false
   },
   "outputs": [],
   "source": [
    "# We'll need this command for plotting things in the notebook\n",
    "%matplotlib nbagg"
   ]
  },
  {
   "cell_type": "markdown",
   "metadata": {},
   "source": [
    "### Figures"
   ]
  },
  {
   "cell_type": "code",
   "execution_count": null,
   "metadata": {
    "collapsed": false
   },
   "outputs": [],
   "source": [
    "import matplotlib.pyplot as plt\n",
    "import numpy as np\n",
    "\n",
    "# This creatures a Figure which will hold our plots.\n",
    "fig = plt.figure()\n",
    "\n",
    "# Make some data to go in the plot\n",
    "x = np.linspace(0, 2*np.pi, 100)\n",
    "sinx = np.sin(x)\n",
    "\n",
    "# Plot the data\n",
    "plt.plot(x, sinx)\n",
    "plt.show()"
   ]
  },
  {
   "cell_type": "markdown",
   "metadata": {},
   "source": [
    "### Axes and subplots"
   ]
  },
  {
   "cell_type": "code",
   "execution_count": null,
   "metadata": {
    "collapsed": false
   },
   "outputs": [],
   "source": [
    "# Define some more data\n",
    "cosx = np.cos(x)\n",
    "\n",
    "fig = plt.figure()\n",
    "ax1 = fig.add_subplot(2, 1, 1)\n",
    "ax2 = fig.add_subplot(2, 1, 2)\n",
    "\n",
    "ax1.plot(x/np.pi, sinx)\n",
    "ax2.plot(x/np.pi, cosx)\n",
    "\n",
    "ax1.set_xlim(0.5, 2.5)\n",
    "\n",
    "plt.show()"
   ]
  },
  {
   "cell_type": "code",
   "execution_count": null,
   "metadata": {
    "collapsed": false
   },
   "outputs": [],
   "source": [
    "fig, ax = plt.subplots(2, 1)\n",
    "\n",
    "ax[0].plot(x, sinx)\n",
    "ax[1].plot(x, cosx)\n",
    "\n",
    "plt.show()"
   ]
  },
  {
   "cell_type": "markdown",
   "metadata": {},
   "source": [
    "## Map creation"
   ]
  },
  {
   "cell_type": "code",
   "execution_count": null,
   "metadata": {
    "collapsed": false
   },
   "outputs": [],
   "source": [
    "# SunPy imports can be slightly tricky\n",
    "import sunpy.map\n",
    "import sunpy.data\n",
    "\n",
    "# This is needed to download the sample data\n",
    "#sunpy.data.download_sample_data()"
   ]
  },
  {
   "cell_type": "code",
   "execution_count": null,
   "metadata": {
    "collapsed": false
   },
   "outputs": [],
   "source": [
    "from sunpy.data.sample import AIA_171_IMAGE\n",
    "\n",
    "print(AIA_171_IMAGE)\n",
    "mymap = sunpy.map.Map(AIA_171_IMAGE)\n",
    "print(mymap, mymap.data)\n",
    "print(mymap.mean(), mymap.date, mymap.coordinate_system)"
   ]
  },
  {
   "cell_type": "code",
   "execution_count": null,
   "metadata": {
    "collapsed": false
   },
   "outputs": [],
   "source": [
    "mymap.peek()"
   ]
  },
  {
   "cell_type": "code",
   "execution_count": null,
   "metadata": {
    "collapsed": false
   },
   "outputs": [],
   "source": [
    "mymap.plot()\n",
    "plt.show()"
   ]
  },
  {
   "cell_type": "code",
   "execution_count": null,
   "metadata": {
    "collapsed": false
   },
   "outputs": [],
   "source": [
    "import astropy.units as u\n",
    "\n",
    "smap = mymap.submap([-200, 0]*u.arcsec, [-450, -250]*u.arcsec)\n",
    "print(smap.mean(), smap.date, smap.coordinate_system, smap.xrange)"
   ]
  },
  {
   "cell_type": "code",
   "execution_count": null,
   "metadata": {
    "collapsed": false
   },
   "outputs": [],
   "source": [
    "smap.plot()\n",
    "plt.title('An active region')\n",
    "plt.xlabel('x')\n",
    "plt.ylabel('y')\n",
    "plt.set_cmap('Oranges_r')\n",
    "plt.colorbar()\n",
    "plt.show()"
   ]
  },
  {
   "cell_type": "markdown",
   "metadata": {},
   "source": [
    "\n",
    "submap, plot whole map and submap on subplots on same figure, change labels on submap axes, add rectangle to main map, plot same point on both maps"
   ]
  },
  {
   "cell_type": "code",
   "execution_count": null,
   "metadata": {
    "collapsed": false
   },
   "outputs": [],
   "source": [
    "fig, ax = plt.subplots(1, 2, figsize=(12, 4))\n",
    "\n",
    "plt.sca(ax[0])\n",
    "mymap.plot()\n",
    "plt.colorbar()\n",
    "\n",
    "\n",
    "\n",
    "plt.sca(ax[1])\n",
    "smap.plot()\n",
    "plt.colorbar()\n",
    "\n",
    "plt.show()"
   ]
  }
 ],
 "metadata": {
  "kernelspec": {
   "display_name": "Python 3",
   "language": "python",
   "name": "python3"
  },
  "language_info": {
   "codemirror_mode": {
    "name": "ipython",
    "version": 3
   },
   "file_extension": ".py",
   "mimetype": "text/x-python",
   "name": "python",
   "nbconvert_exporter": "python",
   "pygments_lexer": "ipython3",
   "version": "3.5.2"
  }
 },
 "nbformat": 4,
 "nbformat_minor": 0
}
